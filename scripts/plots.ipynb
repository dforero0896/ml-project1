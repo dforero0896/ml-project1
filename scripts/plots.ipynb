{
 "cells": [
  {
   "cell_type": "code",
   "execution_count": 1,
   "metadata": {
    "ExecuteTime": {
     "end_time": "2019-10-20T18:38:42.980938Z",
     "start_time": "2019-10-20T18:38:42.788846Z"
    }
   },
   "outputs": [],
   "source": [
    "from proj1_helpers import *\n",
    "from implementations import *\n",
    "import numpy as np\n",
    "import matplotlib.pyplot as plt"
   ]
  },
  {
   "cell_type": "code",
   "execution_count": 2,
   "metadata": {
    "ExecuteTime": {
     "end_time": "2019-10-20T18:39:21.135711Z",
     "start_time": "2019-10-20T18:39:00.986968Z"
    }
   },
   "outputs": [],
   "source": [
    "# Read train_y=LABELS, train_x=FEATURES and train_id=EVENT_IDS from dataset.\n",
    "subsamp = False\n",
    "y, x, id_ = load_csv_data('../data/train.csv', sub_sample=subsamp)\n",
    "y_out_test, x_out_test, id_out_test = load_csv_data('../data/test.csv', sub_sample=subsamp)"
   ]
  },
  {
   "cell_type": "code",
   "execution_count": 9,
   "metadata": {
    "ExecuteTime": {
     "end_time": "2019-10-20T18:47:55.668193Z",
     "start_time": "2019-10-20T18:47:55.659401Z"
    }
   },
   "outputs": [],
   "source": [
    "def plot_distributions(x):\n",
    "    plt.figure(figsize=(10,5))\n",
    "    for i in range(x.shape[1]):\n",
    "        plt.hist(x[:,i], bins =50)\n",
    "    "
   ]
  },
  {
   "cell_type": "code",
   "execution_count": 10,
   "metadata": {
    "ExecuteTime": {
     "end_time": "2019-10-20T18:48:08.852248Z",
     "start_time": "2019-10-20T18:48:05.302630Z"
    }
   },
   "outputs": [
    {
     "data": {
      "image/png": "[encoded data removed]",
      "text/plain": [
       "<Figure size 720x360 with 1 Axes>"
      ]
     },
     "metadata": {
      "needs_background": "light"
     },
     "output_type": "display_data"
    }
   ],
   "source": [
    "plot_distributions(x)"
   ]
  },
  {
   "cell_type": "code",
   "execution_count": 82,
   "metadata": {
    "ExecuteTime": {
     "end_time": "2019-10-20T19:54:04.015217Z",
     "start_time": "2019-10-20T19:53:55.098845Z"
    }
   },
   "outputs": [
    {
     "data": {
      "image/png": "[encoded data removed]",
      "text/plain": [
       "<Figure size 720x360 with 1 Axes>"
      ]
     },
     "metadata": {
      "needs_background": "light"
     },
     "output_type": "display_data"
    },
    {
     "data": {
      "image/png": "[encoded data removed]",
      "text/plain": [
       "<Figure size 720x360 with 1 Axes>"
      ]
     },
     "metadata": {
      "needs_background": "light"
     },
     "output_type": "display_data"
    }
   ],
   "source": [
    "clean=True\n",
    "degree = 1\n",
    "x_train, y_train, x_test, y_test = split_data(x, y, ratio=0.9999, seed = 42)\n",
    "if clean:\n",
    "    # Clean data\n",
    "    y_train, x_train = clean_data(y_train, x_train)\n",
    "    y_test, x_test = clean_data(y_test, x_test)\n",
    "# Standardize data\n",
    "x_train_std = standardize_features(x_train)\n",
    "x_test_std = standardize_features(x_test)\n",
    "x_train = x_train_std[0]\n",
    "x_test = x_test_std[0]\n",
    "plot_distributions(x_train)\n",
    "plot_distributions(x_test)"
   ]
  },
  {
   "cell_type": "code",
   "execution_count": 83,
   "metadata": {
    "ExecuteTime": {
     "end_time": "2019-10-20T19:54:13.983885Z",
     "start_time": "2019-10-20T19:54:13.806314Z"
    }
   },
   "outputs": [
    {
     "name": "stdout",
     "output_type": "stream",
     "text": [
      "(30, 30)\n"
     ]
    }
   ],
   "source": [
    "covariance_matrix = np.cov(x_train.T)\n",
    "print(covariance_matrix.shape)"
   ]
  },
  {
   "cell_type": "code",
   "execution_count": 84,
   "metadata": {
    "ExecuteTime": {
     "end_time": "2019-10-20T19:54:15.277872Z",
     "start_time": "2019-10-20T19:54:15.264876Z"
    }
   },
   "outputs": [],
   "source": [
    "eigenval, eigenvect = np.linalg.eig(covariance_matrix)\n",
    "rank_eigenvals = sorted(eigenval, reverse=True)"
   ]
  },
  {
   "cell_type": "code",
   "execution_count": 85,
   "metadata": {
    "ExecuteTime": {
     "end_time": "2019-10-20T19:54:16.357384Z",
     "start_time": "2019-10-20T19:54:16.344548Z"
    }
   },
   "outputs": [],
   "source": [
    "pairs = {val:vect for val, vect in zip(eigenval, eigenvect)}"
   ]
  },
  {
   "cell_type": "code",
   "execution_count": 93,
   "metadata": {
    "ExecuteTime": {
     "end_time": "2019-10-20T20:08:33.728987Z",
     "start_time": "2019-10-20T20:08:33.451740Z"
    }
   },
   "outputs": [
    {
     "data": {
      "text/plain": [
       "[<matplotlib.lines.Line2D at 0x7ff351fa2dd8>]"
      ]
     },
     "execution_count": 93,
     "metadata": {},
     "output_type": "execute_result"
    },
    {
     "data": {
      "image/png": "[encoded data removed]",
      "text/plain": [
       "<Figure size 432x288 with 1 Axes>"
      ]
     },
     "metadata": {
      "needs_background": "light"
     },
     "output_type": "display_data"
    }
   ],
   "source": [
    "plt.plot(eigenval, 'ob')"
   ]
  },
  {
   "cell_type": "code",
   "execution_count": 97,
   "metadata": {
    "ExecuteTime": {
     "end_time": "2019-10-20T20:44:45.725941Z",
     "start_time": "2019-10-20T20:44:45.708367Z"
    }
   },
   "outputs": [],
   "source": [
    "diagonal2original = np.vstack(eigenvect) # The matrix formed by the eigenvectors of Cov in the original basis, takes vectors in the diagonal basis and represents them in the original one.\n",
    "# That is of course the matrix that diagonalizes Cov\n",
    "covmat_diag = np.linalg.inv(diagonal2original).dot(covariance_matrix.dot(diagonal2original))\n"
   ]
  },
  {
   "cell_type": "code",
   "execution_count": 98,
   "metadata": {
    "ExecuteTime": {
     "end_time": "2019-10-20T20:47:18.058700Z",
     "start_time": "2019-10-20T20:47:18.049220Z"
    }
   },
   "outputs": [],
   "source": [
    "# I mean feature vectors as the vectors that contain all features for a single observation (perhaps I should call them observations.)\n",
    "# Then the new feature vectors (organized in the new feature matrix ) are given by the inverse of the change of basis times the original feature vectors.\n",
    "new_x_test = (np.linalg.inv(diagonal2original).dot(x_test.T)).T"
   ]
  },
  {
   "cell_type": "code",
   "execution_count": null,
   "metadata": {},
   "outputs": [],
   "source": [
    "\n"
   ]
  }
 ],
 "metadata": {
  "kernelspec": {
   "display_name": "Python 3",
   "language": "python",
   "name": "python3"
  },
  "language_info": {
   "codemirror_mode": {
    "name": "ipython",
    "version": 3
   },
   "file_extension": ".py",
   "mimetype": "text/x-python",
   "name": "python",
   "nbconvert_exporter": "python",
   "pygments_lexer": "ipython3",
   "version": "3.6.7"
  },
  "latex_envs": {
   "LaTeX_envs_menu_present": true,
   "autoclose": true,
   "autocomplete": true,
   "bibliofile": "biblio.bib",
   "cite_by": "apalike",
   "current_citInitial": 1,
   "eqLabelWithNumbers": true,
   "eqNumInitial": 1,
   "hotkeys": {
    "equation": "Ctrl-E",
    "itemize": "Ctrl-I"
   },
   "labels_anchors": false,
   "latex_user_defs": false,
   "report_style_numbering": false,
   "user_envs_cfg": false
  },
  "toc": {
   "base_numbering": 1,
   "nav_menu": {},
   "number_sections": true,
   "sideBar": true,
   "skip_h1_title": false,
   "title_cell": "Table of Contents",
   "title_sidebar": "Contents",
   "toc_cell": false,
   "toc_position": {},
   "toc_section_display": true,
   "toc_window_display": false
  }
 },
 "nbformat": 4,
 "nbformat_minor": 2
}
