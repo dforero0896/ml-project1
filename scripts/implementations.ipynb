{
 "cells": [
  {
   "cell_type": "code",
   "execution_count": 1,
   "metadata": {
    "ExecuteTime": {
     "end_time": "2019-10-18T20:48:18.776278Z",
     "start_time": "2019-10-18T20:48:18.454363Z"
    }
   },
   "outputs": [],
   "source": [
    "from proj1_helpers import *\n",
    "from implementations import *\n",
    "import numpy as np\n",
    "import matplotlib.pyplot as plt"
   ]
  },
  {
   "cell_type": "code",
   "execution_count": 2,
   "metadata": {
    "ExecuteTime": {
     "end_time": "2019-10-18T20:48:45.618813Z",
     "start_time": "2019-10-18T20:48:19.206562Z"
    }
   },
   "outputs": [],
   "source": [
    "# Read train_y=LABELS, train_x=FEATURES and train_id=EVENT_IDS from dataset.\n",
    "subsamp = False\n",
    "y, x, id_ = load_csv_data('../data/train.csv', sub_sample=subsamp)\n",
    "y_out_test, x_out_test, id_out_test = load_csv_data('../data/test.csv', sub_sample=subsamp)"
   ]
  },
  {
   "cell_type": "code",
   "execution_count": 46,
   "metadata": {
    "ExecuteTime": {
     "end_time": "2019-10-18T21:19:28.636602Z",
     "start_time": "2019-10-18T21:19:27.420645Z"
    }
   },
   "outputs": [
    {
     "data": {
      "text/plain": [
       "((2500, 61), (247500, 61))"
      ]
     },
     "execution_count": 46,
     "metadata": {},
     "output_type": "execute_result"
    }
   ],
   "source": [
    "clean=True\n",
    "degree = 2\n",
    "feature_expansion = True\n",
    "x_train, y_train, x_test, y_test = split_data(x, y, ratio=0.01, seed = 42)\n",
    "# Clean data\n",
    "if clean:\n",
    "    y_train, x_train = clean_data(y_train, x_train)\n",
    "    y_test, x_test = clean_data(y_test, x_test)\n",
    "# Standardize data\n",
    "x_train_std = standardize_features(x_train)\n",
    "x_test_std = standardize_features(x_test)\n",
    "x_train = x_train_std[0]\n",
    "x_test = x_test_std[0]\n",
    "# Build data matrix\n",
    "tx_train = build_poly(x_train, degree)\n",
    "tx_test = build_poly(x_test, degree)\n",
    "tx_train.shape, tx_test.shape\n"
   ]
  },
  {
   "cell_type": "markdown",
   "metadata": {},
   "source": [
    "# Gradient Descent"
   ]
  },
  {
   "cell_type": "code",
   "execution_count": 47,
   "metadata": {
    "ExecuteTime": {
     "end_time": "2019-10-18T21:19:28.837034Z",
     "start_time": "2019-10-18T21:19:28.639277Z"
    },
    "scrolled": true
   },
   "outputs": [
    {
     "name": "stdout",
     "output_type": "stream",
     "text": [
      "GD (0/399): loss=0.5\n",
      "GD (100/399): loss=0.36777550540771\n",
      "GD (200/399): loss=0.32287760654315034\n",
      "GD (300/399): loss=0.322319467671135\n",
      "Accuracy ratio = 0.764\n",
      "Test loss = 0.840\n",
      "Train loss = 0.323\n"
     ]
    }
   ],
   "source": [
    "w_init = np.array([0] * tx_train.shape[1])\n",
    "max_iter = 400\n",
    "gamma = 0.00009\n",
    "w_gd, loss_gd = least_squares_GD(y_train,\n",
    "                                 tx_train,\n",
    "                                 w_init,\n",
    "                                 max_iter,\n",
    "                                 gamma,\n",
    "                                 pr=True,\n",
    "                                 adapt_gamma=False,\n",
    "                                 kind='mse',\n",
    "                                accel=True)\n",
    "gd_prediction = predict_labels(w_gd, tx_test)\n",
    "acc_gd = accuracy_ratio(gd_prediction, y_test)\n",
    "print('Accuracy ratio = %.3f' % acc_gd)\n",
    "print('Test loss = %.3f' % compute_loss(y_test, tx_test, w_gd))\n",
    "print('Train loss = %.3f' % loss_gd)"
   ]
  },
  {
   "cell_type": "markdown",
   "metadata": {
    "ExecuteTime": {
     "end_time": "2019-10-17T12:37:03.486835Z",
     "start_time": "2019-10-17T12:37:03.480662Z"
    }
   },
   "source": [
    "np.savetxt('../data/w_gd_acc.dat', w_gd)"
   ]
  },
  {
   "cell_type": "markdown",
   "metadata": {},
   "source": [
    "# Stochastic Gradient Descent"
   ]
  },
  {
   "cell_type": "code",
   "execution_count": 48,
   "metadata": {
    "ExecuteTime": {
     "end_time": "2019-10-18T21:19:32.407078Z",
     "start_time": "2019-10-18T21:19:29.407122Z"
    },
    "scrolled": true
   },
   "outputs": [
    {
     "name": "stdout",
     "output_type": "stream",
     "text": [
      "SGD (0/4999): loss=0.5\n",
      "SGD (100/4999): loss=0.49394611737348787\n",
      "SGD (200/4999): loss=0.40952251926339756\n",
      "SGD (300/4999): loss=0.41259167153994447\n",
      "SGD (400/4999): loss=0.3195043897270198\n",
      "SGD (500/4999): loss=0.19865021603627425\n",
      "SGD (600/4999): loss=0.8754062403009691\n",
      "SGD (700/4999): loss=0.1844956456280497\n",
      "SGD (800/4999): loss=0.3256630461915902\n",
      "SGD (900/4999): loss=0.3345381579968245\n",
      "SGD (1000/4999): loss=0.5111934578684718\n",
      "SGD (1100/4999): loss=0.7004690571549949\n",
      "SGD (1200/4999): loss=0.20454478114943153\n",
      "SGD (1300/4999): loss=0.7275440943988668\n",
      "SGD (1400/4999): loss=0.10573665773965023\n",
      "SGD (1500/4999): loss=0.25078284063311\n",
      "SGD (1600/4999): loss=0.6351898720663629\n",
      "SGD (1700/4999): loss=0.101596783765602\n",
      "SGD (1800/4999): loss=0.717059610843827\n",
      "SGD (1900/4999): loss=0.9274335384058243\n",
      "SGD (2000/4999): loss=0.19936774214061875\n",
      "SGD (2100/4999): loss=0.1465252896774112\n",
      "SGD (2200/4999): loss=0.23213667432776555\n",
      "SGD (2300/4999): loss=0.4621281193572036\n",
      "SGD (2400/4999): loss=0.829203525715561\n",
      "SGD (2500/4999): loss=0.9661470955161173\n",
      "SGD (2600/4999): loss=0.4331322937683262\n",
      "SGD (2700/4999): loss=0.641170286456037\n",
      "SGD (2800/4999): loss=0.34455864226833216\n",
      "SGD (2900/4999): loss=0.10490323048008598\n",
      "SGD (3000/4999): loss=0.12293117036340366\n",
      "SGD (3100/4999): loss=1.090371674171957\n",
      "SGD (3200/4999): loss=0.41440201742151755\n",
      "SGD (3300/4999): loss=0.9150788651503577\n",
      "SGD (3400/4999): loss=0.05254011149311155\n",
      "SGD (3500/4999): loss=0.2992937626680586\n",
      "SGD (3600/4999): loss=0.06633409443074531\n",
      "SGD (3700/4999): loss=1.097082898145257\n",
      "SGD (3800/4999): loss=0.21725422393054672\n",
      "SGD (3900/4999): loss=0.14261932529067953\n",
      "SGD (4000/4999): loss=0.021846184274431156\n",
      "SGD (4100/4999): loss=0.10826163501832274\n",
      "SGD (4200/4999): loss=0.4518530624941447\n",
      "SGD (4300/4999): loss=0.1854964808524401\n",
      "SGD (4400/4999): loss=0.618144611435446\n",
      "SGD (4500/4999): loss=0.3666109253456752\n",
      "SGD (4600/4999): loss=0.22571422701465538\n",
      "SGD (4700/4999): loss=0.7855825947038365\n",
      "SGD (4800/4999): loss=0.14409659228666197\n",
      "SGD (4900/4999): loss=1.0809232513113363\n",
      "Accuracy ratio = 0.74\n",
      "Test loss = 7.47e-01\n",
      "Train loss = 3.50e-01\n"
     ]
    }
   ],
   "source": [
    "w_init = np.array([0] * tx_train.shape[1])\n",
    "max_iter = 5000\n",
    "gamma = 1e-4\n",
    "batch_size = 1\n",
    "\n",
    "w_sgd, loss_sgd = least_squares_SGD(y_train,\n",
    "                                    tx_train,\n",
    "                                    w_init,\n",
    "                                    batch_size,\n",
    "                                    max_iter,\n",
    "                                    gamma,\n",
    "                                    pr=True,\n",
    "                                    adapt_gamma=False,\n",
    "                                    choose_best=True)\n",
    "sgd_prediction = predict_labels(w_sgd, tx_test)\n",
    "acc_sgd = accuracy_ratio(sgd_prediction, y_test)\n",
    "print('Accuracy ratio = %.2f' % acc_sgd)\n",
    "print('Test loss = %.2e' % compute_loss(y_test, tx_test, w_sgd))\n",
    "print('Train loss = %.2e' % loss_sgd)"
   ]
  },
  {
   "cell_type": "markdown",
   "metadata": {},
   "source": [
    "# Least Squares"
   ]
  },
  {
   "cell_type": "code",
   "execution_count": 49,
   "metadata": {
    "ExecuteTime": {
     "end_time": "2019-10-18T21:19:32.648470Z",
     "start_time": "2019-10-18T21:19:32.514923Z"
    }
   },
   "outputs": [
    {
     "name": "stdout",
     "output_type": "stream",
     "text": [
      "Accuracy ratio = 0.36\n",
      "Train loss = 0.31\n",
      "Test loss = 1.77e+02\n"
     ]
    }
   ],
   "source": [
    "w_lsq, loss_lsq = least_squares(y_train, tx_train)\n",
    "lsq_prediction = predict_labels(w_lsq, tx_test)\n",
    "acc_lsq = accuracy_ratio(lsq_prediction, y_test)\n",
    "print('Accuracy ratio = %.2f' % acc_lsq)\n",
    "print('Train loss = %.2f' % loss_lsq)\n",
    "print('Test loss = %.2e' % compute_loss(y_test, tx_test, w_lsq))"
   ]
  },
  {
   "cell_type": "markdown",
   "metadata": {
    "ExecuteTime": {
     "end_time": "2019-10-17T12:45:30.271461Z",
     "start_time": "2019-10-17T12:45:30.267909Z"
    }
   },
   "source": [
    "np.savetxt('../data/w_lsq.dat', w_lsq)"
   ]
  },
  {
   "cell_type": "markdown",
   "metadata": {},
   "source": [
    "# Ridge Regression"
   ]
  },
  {
   "cell_type": "code",
   "execution_count": 50,
   "metadata": {
    "ExecuteTime": {
     "end_time": "2019-10-18T21:19:33.486617Z",
     "start_time": "2019-10-18T21:19:33.406019Z"
    }
   },
   "outputs": [
    {
     "name": "stdout",
     "output_type": "stream",
     "text": [
      "Accuracy ratio = 0.770\n",
      "Test loss = 0.642\n",
      "Train loss = 0.309\n"
     ]
    }
   ],
   "source": [
    "lambda_ = 3.3e-2\n",
    "w_rr, loss_rr = ridge_regression(y_train, tx_train, lambda_)\n",
    "rr_prediction = predict_labels(w_rr, tx_test)\n",
    "acc_rr = accuracy_ratio(rr_prediction, y_test)\n",
    "print('Accuracy ratio = %.3f'%acc_rr)\n",
    "print('Test loss = %.3f'%compute_loss(y_test, tx_test, w_rr))\n",
    "print('Train loss = %.3f'%loss_rr)"
   ]
  },
  {
   "cell_type": "markdown",
   "metadata": {
    "ExecuteTime": {
     "end_time": "2019-10-18T15:18:22.322364Z",
     "start_time": "2019-10-18T15:18:22.309384Z"
    }
   },
   "source": [
    "np.savetxt('../data/w_rr.dat', w_rr)"
   ]
  },
  {
   "cell_type": "code",
   "execution_count": 39,
   "metadata": {
    "ExecuteTime": {
     "end_time": "2019-10-18T21:14:14.071787Z",
     "start_time": "2019-10-18T21:14:14.037992Z"
    }
   },
   "outputs": [],
   "source": [
    "def ridge_regression_demo(x, y, degree, ratio, seed):\n",
    "    \"\"\"ridge regression demo.\"\"\"\n",
    "    # define parameter\n",
    "    lambdas = np.logspace(-5, 3, 50)\n",
    "    # split the data, and return train and test data\n",
    "    x_train, y_train, x_test, y_test = split_data(x, y, ratio, seed)\n",
    "    #Clean\n",
    "    if clean:\n",
    "        y_train, x_train = clean_data(y_train, x_train)\n",
    "        y_test, x_test = clean_data(y_test, x_test)\n",
    "    # form train and test data with offset column\n",
    "    x_train_std = standardize_features(x_train)[0]\n",
    "    x_test_std = standardize_features(x_test)[0]\n",
    "    tx_train=build_poly(x_train_std, degree)\n",
    "    tx_test=build_poly(x_test_std, degree)\n",
    "    rmse_tr = []\n",
    "    rmse_te = []\n",
    "    accuracies = []\n",
    "    for ind, lambda_ in enumerate(lambdas):\n",
    "        # calcualte weight through least square.\n",
    "        w_train, loss_train = ridge_regression(y_train, tx_train, lambda_)\n",
    "        rmse_tr.append(np.sqrt(2*loss_train))\n",
    "        rmse_te.append(np.sqrt(2*compute_loss(y_test, tx_test, w_train, kind = 'mse')))\n",
    "        accuracies.append(accuracy_ratio(predict_labels(w_train, tx_test), y_test))\n",
    "        print(\"proportion={p}, degree={d}, lambda={l:.3e}, Training RMSE={tr:.3f}, Testing RMSE={te:.3f}, Accuracy={ac:.3f}\".format(\n",
    "               p=ratio, d=degree, l=lambda_, tr=rmse_tr[ind], te=rmse_te[ind], ac=accuracies[ind]))\n",
    "        \n",
    "    # Plot the obtained results\n",
    "    plot_train_test(rmse_tr, rmse_te, lambdas, degree)\n",
    "    plt.figure()\n",
    "    plt.semilogx(lambdas,accuracies, marker='o')\n",
    "    \n",
    "def plot_train_test(train_errors, test_errors, lambdas, degree):\n",
    "    \"\"\"\n",
    "    train_errors, test_errors and lambas should be list (of the same size) the respective train error and test error for a given lambda,\n",
    "    * lambda[0] = 1\n",
    "    * train_errors[0] = RMSE of a ridge regression on the train set\n",
    "    * test_errors[0] = RMSE of the parameter found by ridge regression applied on the test set\n",
    "    \n",
    "    degree is just used for the title of the plot.\n",
    "    \"\"\"\n",
    "    plt.semilogx(lambdas, train_errors, color='b', marker='*', label=\"Train error\")\n",
    "    plt.semilogx(lambdas, test_errors, color='r', marker='*', label=\"Test error\")\n",
    "    plt.xlabel(\"lambda\")\n",
    "    plt.ylabel(\"RMSE\")\n",
    "    plt.title(\"Ridge regression for polynomial degree \" + str(degree))\n",
    "    leg = plt.legend(loc=1, shadow=True)\n",
    "    leg.draw_frame(False)\n",
    "    plt.savefig(\"../results/ridge_regression\")"
   ]
  },
  {
   "cell_type": "code",
   "execution_count": 41,
   "metadata": {
    "ExecuteTime": {
     "end_time": "2019-10-18T21:15:10.070449Z",
     "start_time": "2019-10-18T21:15:01.769460Z"
    },
    "scrolled": false
   },
   "outputs": [
    {
     "name": "stdout",
     "output_type": "stream",
     "text": [
      "proportion=0.01, degree=3, lambda=1.000e-05, Training RMSE=0.762, Testing RMSE=1.302, Accuracy=0.783\n",
      "proportion=0.01, degree=3, lambda=1.456e-05, Training RMSE=0.762, Testing RMSE=1.303, Accuracy=0.783\n",
      "proportion=0.01, degree=3, lambda=2.121e-05, Training RMSE=0.762, Testing RMSE=1.306, Accuracy=0.783\n",
      "proportion=0.01, degree=3, lambda=3.089e-05, Training RMSE=0.762, Testing RMSE=1.310, Accuracy=0.783\n",
      "proportion=0.01, degree=3, lambda=4.498e-05, Training RMSE=0.762, Testing RMSE=1.315, Accuracy=0.783\n",
      "proportion=0.01, degree=3, lambda=6.551e-05, Training RMSE=0.762, Testing RMSE=1.322, Accuracy=0.783\n",
      "proportion=0.01, degree=3, lambda=9.541e-05, Training RMSE=0.762, Testing RMSE=1.333, Accuracy=0.783\n",
      "proportion=0.01, degree=3, lambda=1.389e-04, Training RMSE=0.762, Testing RMSE=1.347, Accuracy=0.782\n",
      "proportion=0.01, degree=3, lambda=2.024e-04, Training RMSE=0.762, Testing RMSE=1.367, Accuracy=0.782\n",
      "proportion=0.01, degree=3, lambda=2.947e-04, Training RMSE=0.762, Testing RMSE=1.394, Accuracy=0.782\n",
      "proportion=0.01, degree=3, lambda=4.292e-04, Training RMSE=0.762, Testing RMSE=1.429, Accuracy=0.782\n",
      "proportion=0.01, degree=3, lambda=6.251e-04, Training RMSE=0.762, Testing RMSE=1.474, Accuracy=0.782\n",
      "proportion=0.01, degree=3, lambda=9.103e-04, Training RMSE=0.762, Testing RMSE=1.531, Accuracy=0.782\n",
      "proportion=0.01, degree=3, lambda=1.326e-03, Training RMSE=0.762, Testing RMSE=1.606, Accuracy=0.782\n",
      "proportion=0.01, degree=3, lambda=1.931e-03, Training RMSE=0.762, Testing RMSE=1.702, Accuracy=0.782\n",
      "proportion=0.01, degree=3, lambda=2.812e-03, Training RMSE=0.763, Testing RMSE=1.828, Accuracy=0.782\n",
      "proportion=0.01, degree=3, lambda=4.095e-03, Training RMSE=0.763, Testing RMSE=1.991, Accuracy=0.782\n",
      "proportion=0.01, degree=3, lambda=5.964e-03, Training RMSE=0.763, Testing RMSE=2.192, Accuracy=0.782\n",
      "proportion=0.01, degree=3, lambda=8.685e-03, Training RMSE=0.764, Testing RMSE=2.427, Accuracy=0.782\n",
      "proportion=0.01, degree=3, lambda=1.265e-02, Training RMSE=0.765, Testing RMSE=2.682, Accuracy=0.781\n",
      "proportion=0.01, degree=3, lambda=1.842e-02, Training RMSE=0.766, Testing RMSE=2.937, Accuracy=0.781\n",
      "proportion=0.01, degree=3, lambda=2.683e-02, Training RMSE=0.767, Testing RMSE=3.178, Accuracy=0.781\n",
      "proportion=0.01, degree=3, lambda=3.907e-02, Training RMSE=0.769, Testing RMSE=3.404, Accuracy=0.781\n",
      "proportion=0.01, degree=3, lambda=5.690e-02, Training RMSE=0.771, Testing RMSE=3.633, Accuracy=0.780\n",
      "proportion=0.01, degree=3, lambda=8.286e-02, Training RMSE=0.773, Testing RMSE=3.888, Accuracy=0.779\n",
      "proportion=0.01, degree=3, lambda=1.207e-01, Training RMSE=0.776, Testing RMSE=4.191, Accuracy=0.778\n",
      "proportion=0.01, degree=3, lambda=1.758e-01, Training RMSE=0.780, Testing RMSE=4.547, Accuracy=0.777\n",
      "proportion=0.01, degree=3, lambda=2.560e-01, Training RMSE=0.786, Testing RMSE=4.938, Accuracy=0.774\n",
      "proportion=0.01, degree=3, lambda=3.728e-01, Training RMSE=0.793, Testing RMSE=5.329, Accuracy=0.770\n",
      "proportion=0.01, degree=3, lambda=5.429e-01, Training RMSE=0.802, Testing RMSE=5.673, Accuracy=0.764\n",
      "proportion=0.01, degree=3, lambda=7.906e-01, Training RMSE=0.813, Testing RMSE=5.926, Accuracy=0.758\n",
      "proportion=0.01, degree=3, lambda=1.151e+00, Training RMSE=0.825, Testing RMSE=6.047, Accuracy=0.752\n",
      "proportion=0.01, degree=3, lambda=1.677e+00, Training RMSE=0.839, Testing RMSE=6.014, Accuracy=0.745\n",
      "proportion=0.01, degree=3, lambda=2.442e+00, Training RMSE=0.854, Testing RMSE=5.822, Accuracy=0.737\n",
      "proportion=0.01, degree=3, lambda=3.556e+00, Training RMSE=0.870, Testing RMSE=5.485, Accuracy=0.730\n",
      "proportion=0.01, degree=3, lambda=5.179e+00, Training RMSE=0.885, Testing RMSE=5.035, Accuracy=0.724\n",
      "proportion=0.01, degree=3, lambda=7.543e+00, Training RMSE=0.901, Testing RMSE=4.509, Accuracy=0.718\n",
      "proportion=0.01, degree=3, lambda=1.099e+01, Training RMSE=0.915, Testing RMSE=3.948, Accuracy=0.715\n",
      "proportion=0.01, degree=3, lambda=1.600e+01, Training RMSE=0.928, Testing RMSE=3.390, Accuracy=0.713\n",
      "proportion=0.01, degree=3, lambda=2.330e+01, Training RMSE=0.939, Testing RMSE=2.864, Accuracy=0.711\n",
      "proportion=0.01, degree=3, lambda=3.393e+01, Training RMSE=0.949, Testing RMSE=2.389, Accuracy=0.710\n",
      "proportion=0.01, degree=3, lambda=4.942e+01, Training RMSE=0.957, Testing RMSE=1.976, Accuracy=0.710\n",
      "proportion=0.01, degree=3, lambda=7.197e+01, Training RMSE=0.963, Testing RMSE=1.631, Accuracy=0.710\n",
      "proportion=0.01, degree=3, lambda=1.048e+02, Training RMSE=0.969, Testing RMSE=1.362, Accuracy=0.710\n",
      "proportion=0.01, degree=3, lambda=1.526e+02, Training RMSE=0.973, Testing RMSE=1.174, Accuracy=0.711\n",
      "proportion=0.01, degree=3, lambda=2.223e+02, Training RMSE=0.977, Testing RMSE=1.064, Accuracy=0.712\n",
      "proportion=0.01, degree=3, lambda=3.237e+02, Training RMSE=0.980, Testing RMSE=1.014, Accuracy=0.713\n",
      "proportion=0.01, degree=3, lambda=4.715e+02, Training RMSE=0.983, Testing RMSE=0.997, Accuracy=0.712\n",
      "proportion=0.01, degree=3, lambda=6.866e+02, Training RMSE=0.986, Testing RMSE=0.995, Accuracy=0.708\n",
      "proportion=0.01, degree=3, lambda=1.000e+03, Training RMSE=0.988, Testing RMSE=0.997, Accuracy=0.703\n"
     ]
    },
    {
     "data": {
      "image/png": "[encoded data removed]",
      "text/plain": [
       "<Figure size 432x288 with 1 Axes>"
      ]
     },
     "metadata": {
      "needs_background": "light"
     },
     "output_type": "display_data"
    },
    {
     "data": {
      "image/png": "[encoded data removed]",
      "text/plain": [
       "<Figure size 432x288 with 1 Axes>"
      ]
     },
     "metadata": {
      "needs_background": "light"
     },
     "output_type": "display_data"
    }
   ],
   "source": [
    "seed = 42\n",
    "degree = 3\n",
    "split_ratio = 0.01\n",
    "ridge_regression_demo(x, y, degree, split_ratio, seed)"
   ]
  },
  {
   "cell_type": "code",
   "execution_count": 42,
   "metadata": {
    "ExecuteTime": {
     "end_time": "2019-10-18T21:17:17.312374Z",
     "start_time": "2019-10-18T21:15:39.113567Z"
    }
   },
   "outputs": [
    {
     "name": "stdout",
     "output_type": "stream",
     "text": [
      "Best lambda from accuracy: 1.00e-07\n",
      "Best lambda from error: 3.29e-02\n"
     ]
    },
    {
     "data": {
      "image/png": "[encoded data removed]",
      "text/plain": [
       "<Figure size 432x288 with 1 Axes>"
      ]
     },
     "metadata": {
      "needs_background": "light"
     },
     "output_type": "display_data"
    },
    {
     "data": {
      "image/png": "[encoded data removed]",
      "text/plain": [
       "<Figure size 432x288 with 1 Axes>"
      ]
     },
     "metadata": {
      "needs_background": "light"
     },
     "output_type": "display_data"
    }
   ],
   "source": [
    "def cross_validation_visualization(lambds, mse_tr, mse_te):\n",
    "    \"\"\"Visualization the curves of rmse_tr and rmse_te.\"\"\"\n",
    "    best_l_err = lambds[np.argmin(mse_te)]\n",
    "    print('Best lambda from error: %.2e'%best_l_err)\n",
    "    plt.semilogx(lambds, mse_tr, marker=\".\", color='b', label='train error')\n",
    "    plt.semilogx(lambds, mse_te, marker=\".\", color='r', label='test error')\n",
    "    plt.axvline(best_l_err, c = 'g', label = '$\\lambda^*_{rmse}=%.1e$'%best_l_err, ls = ':')\n",
    "    plt.xlabel(\"lambda\")\n",
    "    plt.ylabel(\"rmse\")\n",
    "    plt.title(\"cross validation\")\n",
    "    plt.legend(loc=0)\n",
    "    plt.grid(True)\n",
    "    plt.savefig(\"../results/cross_validation\")\n",
    "def cross_validation_visualization_accuracy(lambdas, accuracies):\n",
    "    \"\"\"Visualization the Accuracy curve.\"\"\"\n",
    "    plt.semilogx(lambdas, accuracies, lw =2, marker = '*', label = 'Accuracy ratio')\n",
    "    best_l_acc = lambdas[np.argmax(accuracies)]\n",
    "    plt.axvline(best_l_acc, c= 'k', label = '$\\lambda^*_{acc}=%.1e$'%best_l_acc, ls = ':')\n",
    "    print('Best lambda from accuracy: %.2e'%best_l_acc)\n",
    "    plt.xlabel(\"lambda\")\n",
    "    plt.ylabel(\"accuracy\")\n",
    "    plt.title(\"cross validation accuracy\")\n",
    "    plt.legend(loc=0)\n",
    "    plt.grid(True)\n",
    "    plt.savefig(\"../results/cross_validation_accuracies\")\n",
    "def cross_validation_demo():\n",
    "    seed = 42\n",
    "    degree = 3\n",
    "    k_fold = 2\n",
    "    lambdas = np.logspace(-7, 3, 30)\n",
    "    # split data in k fold\n",
    "    k_indices = build_k_indices(y, k_fold, seed)\n",
    "    # define lists to store the loss of training data and test data\n",
    "    rmse_tr = []\n",
    "    rmse_te = []\n",
    "    std_tr = []\n",
    "    std_te = []\n",
    "    accuracies = []\n",
    "    # cross validation\n",
    "    for ind, lambda_ in enumerate(lambdas):\n",
    "        x_validation = np.array([cross_validation(y, x, k_indices, k, lambda_, degree) for k in range(k_fold)])\n",
    "        rmse_tr.append(np.mean(np.sqrt(2 * x_validation[:, 0])))\n",
    "        rmse_te.append(np.mean(np.sqrt(2 * x_validation[:, 1])))\n",
    "        std_tr.append(np.std(np.sqrt(2 * x_validation[:, 0])))\n",
    "        std_te.append(np.std(np.sqrt(2 * x_validation[:, 1])))\n",
    "        accuracies.append(np.mean(x_validation[:,2]))\n",
    "    cross_validation_visualization_accuracy(lambdas, accuracies)\n",
    "    plt.figure()\n",
    "    cross_validation_visualization(lambdas, rmse_tr, rmse_te)\n",
    "\n",
    "cross_validation_demo()\n"
   ]
  },
  {
   "cell_type": "markdown",
   "metadata": {
    "heading_collapsed": true
   },
   "source": [
    "# Bias-Variance test"
   ]
  },
  {
   "cell_type": "code",
   "execution_count": 31,
   "metadata": {
    "ExecuteTime": {
     "end_time": "2019-10-17T12:53:17.453735Z",
     "start_time": "2019-10-17T12:50:27.446578Z"
    },
    "hidden": true
   },
   "outputs": [
    {
     "ename": "KeyboardInterrupt",
     "evalue": "",
     "output_type": "error",
     "traceback": [
      "\u001b[0;31m---------------------------------------------------------------------------\u001b[0m",
      "\u001b[0;31mKeyboardInterrupt\u001b[0m                         Traceback (most recent call last)",
      "\u001b[0;32m<ipython-input-31-19e5c47428f6>\u001b[0m in \u001b[0;36m<module>\u001b[0;34m\u001b[0m\n\u001b[1;32m     62\u001b[0m \u001b[0;34m\u001b[0m\u001b[0m\n\u001b[1;32m     63\u001b[0m \u001b[0;34m\u001b[0m\u001b[0m\n\u001b[0;32m---> 64\u001b[0;31m \u001b[0mbias_variance_demo\u001b[0m\u001b[0;34m(\u001b[0m\u001b[0;34m)\u001b[0m\u001b[0;34m\u001b[0m\u001b[0;34m\u001b[0m\u001b[0m\n\u001b[0m",
      "\u001b[0;32m<ipython-input-31-19e5c47428f6>\u001b[0m in \u001b[0;36mbias_variance_demo\u001b[0;34m()\u001b[0m\n\u001b[1;32m     54\u001b[0m         \u001b[0;32mfor\u001b[0m \u001b[0mindex_degrees\u001b[0m\u001b[0;34m,\u001b[0m \u001b[0mdegree\u001b[0m \u001b[0;32min\u001b[0m \u001b[0menumerate\u001b[0m\u001b[0;34m(\u001b[0m\u001b[0mdegrees\u001b[0m\u001b[0;34m)\u001b[0m\u001b[0;34m:\u001b[0m\u001b[0;34m\u001b[0m\u001b[0;34m\u001b[0m\u001b[0m\n\u001b[1;32m     55\u001b[0m             \u001b[0mtx_train\u001b[0m \u001b[0;34m=\u001b[0m \u001b[0mbuild_poly\u001b[0m\u001b[0;34m(\u001b[0m\u001b[0mx_train_std\u001b[0m\u001b[0;34m,\u001b[0m \u001b[0mdegree\u001b[0m\u001b[0;34m)\u001b[0m\u001b[0;34m\u001b[0m\u001b[0;34m\u001b[0m\u001b[0m\n\u001b[0;32m---> 56\u001b[0;31m             \u001b[0mtx_test\u001b[0m \u001b[0;34m=\u001b[0m \u001b[0mbuild_poly\u001b[0m\u001b[0;34m(\u001b[0m\u001b[0mx_test_std\u001b[0m\u001b[0;34m,\u001b[0m \u001b[0mdegree\u001b[0m\u001b[0;34m)\u001b[0m\u001b[0;34m\u001b[0m\u001b[0;34m\u001b[0m\u001b[0m\n\u001b[0m\u001b[1;32m     57\u001b[0m             \u001b[0mweight\u001b[0m\u001b[0;34m,\u001b[0m \u001b[0mloss_tr\u001b[0m \u001b[0;34m=\u001b[0m \u001b[0mridge_regression\u001b[0m\u001b[0;34m(\u001b[0m\u001b[0my_train\u001b[0m\u001b[0;34m,\u001b[0m \u001b[0mtx_train\u001b[0m\u001b[0;34m,\u001b[0m \u001b[0;36m1.89e-05\u001b[0m \u001b[0;34m)\u001b[0m\u001b[0;34m\u001b[0m\u001b[0;34m\u001b[0m\u001b[0m\n\u001b[1;32m     58\u001b[0m             \u001b[0mloss_te\u001b[0m \u001b[0;34m=\u001b[0m \u001b[0mcompute_loss\u001b[0m\u001b[0;34m(\u001b[0m\u001b[0my_test\u001b[0m\u001b[0;34m,\u001b[0m \u001b[0mtx_test\u001b[0m\u001b[0;34m,\u001b[0m \u001b[0mweight\u001b[0m\u001b[0;34m,\u001b[0m \u001b[0mkind\u001b[0m\u001b[0;34m=\u001b[0m\u001b[0;34m'mse'\u001b[0m\u001b[0;34m)\u001b[0m\u001b[0;34m\u001b[0m\u001b[0;34m\u001b[0m\u001b[0m\n",
      "\u001b[0;32m~/gdrive/EPFL/2019-2020/MachineLearning/Project/ml-project1/scripts/implementations.py\u001b[0m in \u001b[0;36mbuild_poly\u001b[0;34m(x, degree)\u001b[0m\n\u001b[1;32m    109\u001b[0m \u001b[0;32mdef\u001b[0m \u001b[0mbuild_poly\u001b[0m\u001b[0;34m(\u001b[0m\u001b[0mx\u001b[0m\u001b[0;34m,\u001b[0m \u001b[0mdegree\u001b[0m\u001b[0;34m)\u001b[0m\u001b[0;34m:\u001b[0m\u001b[0;34m\u001b[0m\u001b[0;34m\u001b[0m\u001b[0m\n\u001b[1;32m    110\u001b[0m     \u001b[0;34m\"\"\"polynomial basis functions for input data x, for j=0 up to j=degree.\"\"\"\u001b[0m\u001b[0;34m\u001b[0m\u001b[0;34m\u001b[0m\u001b[0m\n\u001b[0;32m--> 111\u001b[0;31m     \u001b[0mphi\u001b[0m \u001b[0;34m=\u001b[0m \u001b[0mnp\u001b[0m\u001b[0;34m.\u001b[0m\u001b[0marray\u001b[0m\u001b[0;34m(\u001b[0m\u001b[0;34m[\u001b[0m\u001b[0mnp\u001b[0m\u001b[0;34m.\u001b[0m\u001b[0marray\u001b[0m\u001b[0;34m(\u001b[0m\u001b[0mx\u001b[0m\u001b[0;34m[\u001b[0m\u001b[0;34m:\u001b[0m\u001b[0;34m,\u001b[0m\u001b[0mi\u001b[0m\u001b[0;34m]\u001b[0m\u001b[0;34m)\u001b[0m\u001b[0;34m**\u001b[0m\u001b[0mj\u001b[0m \u001b[0;32mfor\u001b[0m \u001b[0mj\u001b[0m \u001b[0;32min\u001b[0m \u001b[0mrange\u001b[0m\u001b[0;34m(\u001b[0m\u001b[0;36m1\u001b[0m\u001b[0;34m,\u001b[0m\u001b[0mdegree\u001b[0m\u001b[0;34m+\u001b[0m\u001b[0;36m1\u001b[0m\u001b[0;34m)\u001b[0m \u001b[0;32mfor\u001b[0m \u001b[0mi\u001b[0m \u001b[0;32min\u001b[0m \u001b[0mrange\u001b[0m\u001b[0;34m(\u001b[0m\u001b[0mx\u001b[0m\u001b[0;34m.\u001b[0m\u001b[0mshape\u001b[0m\u001b[0;34m[\u001b[0m\u001b[0;36m1\u001b[0m\u001b[0;34m]\u001b[0m\u001b[0;34m)\u001b[0m\u001b[0;34m]\u001b[0m\u001b[0;34m)\u001b[0m\u001b[0;34m\u001b[0m\u001b[0;34m\u001b[0m\u001b[0m\n\u001b[0m\u001b[1;32m    112\u001b[0m     \u001b[0mphi_off\u001b[0m \u001b[0;34m=\u001b[0m \u001b[0mnp\u001b[0m\u001b[0;34m.\u001b[0m\u001b[0marray\u001b[0m\u001b[0;34m(\u001b[0m\u001b[0mnp\u001b[0m\u001b[0;34m.\u001b[0m\u001b[0mc_\u001b[0m\u001b[0;34m[\u001b[0m\u001b[0mnp\u001b[0m\u001b[0;34m.\u001b[0m\u001b[0mones\u001b[0m\u001b[0;34m(\u001b[0m\u001b[0mx\u001b[0m\u001b[0;34m.\u001b[0m\u001b[0mshape\u001b[0m\u001b[0;34m[\u001b[0m\u001b[0;36m0\u001b[0m\u001b[0;34m]\u001b[0m\u001b[0;34m)\u001b[0m\u001b[0;34m,\u001b[0m \u001b[0mphi\u001b[0m\u001b[0;34m.\u001b[0m\u001b[0mT\u001b[0m\u001b[0;34m]\u001b[0m\u001b[0;34m)\u001b[0m\u001b[0;34m\u001b[0m\u001b[0;34m\u001b[0m\u001b[0m\n\u001b[1;32m    113\u001b[0m     \u001b[0;32mreturn\u001b[0m \u001b[0mphi_off\u001b[0m\u001b[0;34m\u001b[0m\u001b[0;34m\u001b[0m\u001b[0m\n",
      "\u001b[0;32m~/gdrive/EPFL/2019-2020/MachineLearning/Project/ml-project1/scripts/implementations.py\u001b[0m in \u001b[0;36m<listcomp>\u001b[0;34m(.0)\u001b[0m\n\u001b[1;32m    109\u001b[0m \u001b[0;32mdef\u001b[0m \u001b[0mbuild_poly\u001b[0m\u001b[0;34m(\u001b[0m\u001b[0mx\u001b[0m\u001b[0;34m,\u001b[0m \u001b[0mdegree\u001b[0m\u001b[0;34m)\u001b[0m\u001b[0;34m:\u001b[0m\u001b[0;34m\u001b[0m\u001b[0;34m\u001b[0m\u001b[0m\n\u001b[1;32m    110\u001b[0m     \u001b[0;34m\"\"\"polynomial basis functions for input data x, for j=0 up to j=degree.\"\"\"\u001b[0m\u001b[0;34m\u001b[0m\u001b[0;34m\u001b[0m\u001b[0m\n\u001b[0;32m--> 111\u001b[0;31m     \u001b[0mphi\u001b[0m \u001b[0;34m=\u001b[0m \u001b[0mnp\u001b[0m\u001b[0;34m.\u001b[0m\u001b[0marray\u001b[0m\u001b[0;34m(\u001b[0m\u001b[0;34m[\u001b[0m\u001b[0mnp\u001b[0m\u001b[0;34m.\u001b[0m\u001b[0marray\u001b[0m\u001b[0;34m(\u001b[0m\u001b[0mx\u001b[0m\u001b[0;34m[\u001b[0m\u001b[0;34m:\u001b[0m\u001b[0;34m,\u001b[0m\u001b[0mi\u001b[0m\u001b[0;34m]\u001b[0m\u001b[0;34m)\u001b[0m\u001b[0;34m**\u001b[0m\u001b[0mj\u001b[0m \u001b[0;32mfor\u001b[0m \u001b[0mj\u001b[0m \u001b[0;32min\u001b[0m \u001b[0mrange\u001b[0m\u001b[0;34m(\u001b[0m\u001b[0;36m1\u001b[0m\u001b[0;34m,\u001b[0m\u001b[0mdegree\u001b[0m\u001b[0;34m+\u001b[0m\u001b[0;36m1\u001b[0m\u001b[0;34m)\u001b[0m \u001b[0;32mfor\u001b[0m \u001b[0mi\u001b[0m \u001b[0;32min\u001b[0m \u001b[0mrange\u001b[0m\u001b[0;34m(\u001b[0m\u001b[0mx\u001b[0m\u001b[0;34m.\u001b[0m\u001b[0mshape\u001b[0m\u001b[0;34m[\u001b[0m\u001b[0;36m1\u001b[0m\u001b[0;34m]\u001b[0m\u001b[0;34m)\u001b[0m\u001b[0;34m]\u001b[0m\u001b[0;34m)\u001b[0m\u001b[0;34m\u001b[0m\u001b[0;34m\u001b[0m\u001b[0m\n\u001b[0m\u001b[1;32m    112\u001b[0m     \u001b[0mphi_off\u001b[0m \u001b[0;34m=\u001b[0m \u001b[0mnp\u001b[0m\u001b[0;34m.\u001b[0m\u001b[0marray\u001b[0m\u001b[0;34m(\u001b[0m\u001b[0mnp\u001b[0m\u001b[0;34m.\u001b[0m\u001b[0mc_\u001b[0m\u001b[0;34m[\u001b[0m\u001b[0mnp\u001b[0m\u001b[0;34m.\u001b[0m\u001b[0mones\u001b[0m\u001b[0;34m(\u001b[0m\u001b[0mx\u001b[0m\u001b[0;34m.\u001b[0m\u001b[0mshape\u001b[0m\u001b[0;34m[\u001b[0m\u001b[0;36m0\u001b[0m\u001b[0;34m]\u001b[0m\u001b[0;34m)\u001b[0m\u001b[0;34m,\u001b[0m \u001b[0mphi\u001b[0m\u001b[0;34m.\u001b[0m\u001b[0mT\u001b[0m\u001b[0;34m]\u001b[0m\u001b[0;34m)\u001b[0m\u001b[0;34m\u001b[0m\u001b[0;34m\u001b[0m\u001b[0m\n\u001b[1;32m    113\u001b[0m     \u001b[0;32mreturn\u001b[0m \u001b[0mphi_off\u001b[0m\u001b[0;34m\u001b[0m\u001b[0;34m\u001b[0m\u001b[0m\n",
      "\u001b[0;31mKeyboardInterrupt\u001b[0m: "
     ]
    }
   ],
   "source": [
    "def bias_variance_decomposition_visualization(degrees, rmse_tr, rmse_te):\n",
    "    \"\"\"visualize the bias variance decomposition.\"\"\"\n",
    "    rmse_tr_mean = np.expand_dims(np.mean(rmse_tr, axis=0), axis=0)\n",
    "    rmse_te_mean = np.expand_dims(np.mean(rmse_te, axis=0), axis=0)\n",
    "    print(rmse_te_mean, rmse_tr_mean)\n",
    "    plt.plot(degrees,\n",
    "             rmse_tr.T,\n",
    "             'b',\n",
    "             linestyle=\"-\",\n",
    "             color=([0.7, 0.7, 1]),\n",
    "             label='train',\n",
    "             linewidth=0.3)\n",
    "    plt.plot(degrees,\n",
    "             rmse_te.T,\n",
    "             'r',\n",
    "             linestyle=\"-\",\n",
    "             color=[1, 0.7, 0.7],\n",
    "             label='test',\n",
    "             linewidth=0.3)\n",
    "    plt.plot(degrees,\n",
    "             rmse_tr_mean.T,\n",
    "             'b',\n",
    "             linestyle=\"-\",\n",
    "             label='train',\n",
    "             linewidth=3)\n",
    "    plt.plot(degrees,\n",
    "             rmse_te_mean.T,\n",
    "             'r',\n",
    "             linestyle=\"-\",\n",
    "             label='test',\n",
    "             linewidth=3)\n",
    "    plt.ylim(0.7, 1)\n",
    "    plt.xlabel(\"degree\")\n",
    "    plt.ylabel(\"error\")\n",
    "    plt.title(\"Bias-Variance Decomposition\")\n",
    "    plt.savefig(\"bias_variance\")\n",
    "\n",
    "\n",
    "def bias_variance_demo():\n",
    "    \"\"\"The entry.\"\"\"\n",
    "    # define parameters\n",
    "    seeds = range(100)\n",
    "    ratio_train = 0.5\n",
    "    degrees = range(1, 8)\n",
    "    # define list to store the variable\n",
    "    rmse_tr = np.empty((len(seeds), len(degrees)))\n",
    "    rmse_te = np.empty((len(seeds), len(degrees)))\n",
    "    for index_seed, seed in enumerate(seeds):\n",
    "        np.random.seed(seed)\n",
    "        # split data with a specific seed\n",
    "        x_train, y_train, x_test, y_test = split_data(x, y, ratio_train, seed)\n",
    "        x_train_std = standardize(x_train)[0]\n",
    "        x_test_std = standardize(x_test)[0]\n",
    "        for index_degrees, degree in enumerate(degrees):\n",
    "            tx_train = build_poly(x_train_std, degree)\n",
    "            tx_test = build_poly(x_test_std, degree)\n",
    "            weight, loss_tr = ridge_regression(y_train, tx_train, 1.89e-05 )\n",
    "            loss_te = compute_loss(y_test, tx_test, weight, kind='mse')\n",
    "            rmse_tr[index_seed, index_degrees] = np.sqrt(2 * loss_tr)\n",
    "            rmse_te[index_seed, index_degrees] = np.sqrt(2 * loss_te)\n",
    "    bias_variance_decomposition_visualization(degrees, rmse_tr, rmse_te)\n",
    "\n",
    "\n",
    "bias_variance_demo()"
   ]
  },
  {
   "cell_type": "code",
   "execution_count": 34,
   "metadata": {
    "ExecuteTime": {
     "end_time": "2019-10-17T12:54:53.029395Z",
     "start_time": "2019-10-17T12:54:47.011563Z"
    },
    "hidden": true
   },
   "outputs": [
    {
     "name": "stdout",
     "output_type": "stream",
     "text": [
      "(568238,)\n"
     ]
    }
   ],
   "source": [
    "print(id_out_test.shape)\n",
    "x_out_test_std = standardize_features(x_out_test)\n",
    "x_out = x_out_test_std[0]\n",
    "tx_out = build_poly(x_out, 2)\n",
    "\n",
    "create_csv_submission(id_out_test, predict_labels(w_rr, tx_out) , '../results/rr_pred.csv')\n",
    "create_csv_submission(id_out_test, predict_labels(w_gd, tx_out) , '../results/gd_pred_accel.csv')\n",
    "create_csv_submission(id_out_test, predict_labels(w_lsq, tx_out) , '../results/lsq_pred.csv')\n",
    "#create_csv_submission(id_out_test, predict_labels(w_sgd, tx_out) , '../results/sgd_pred_noadapt.csv')"
   ]
  },
  {
   "cell_type": "markdown",
   "metadata": {},
   "source": [
    "# Logistic Regression"
   ]
  },
  {
   "cell_type": "code",
   "execution_count": 51,
   "metadata": {
    "ExecuteTime": {
     "end_time": "2019-10-18T21:19:54.641888Z",
     "start_time": "2019-10-18T21:19:54.632321Z"
    }
   },
   "outputs": [],
   "source": [
    "def predict_labels_log(weights, data):\n",
    "    \"\"\"Generates class predictions given weights, and a test data matrix.\n",
    "    Quantizes according to the logistic regression cutoff at 0.5.\"\"\"\n",
    "    y_pred = np.dot(data, weights)\n",
    "    y_pred[np.where(y_pred <= 0.5)] = -1\n",
    "    y_pred[np.where(y_pred > 0.5)] = 1\n",
    "    return y_pred"
   ]
  },
  {
   "cell_type": "code",
   "execution_count": 69,
   "metadata": {
    "ExecuteTime": {
     "end_time": "2019-10-18T21:27:18.618972Z",
     "start_time": "2019-10-18T21:27:18.599608Z"
    }
   },
   "outputs": [],
   "source": [
    "def compute_loss_logistic(y, tx, w):\n",
    "    '''Compute the loss for logistic regression.'''\n",
    "    loss = (sum(np.log(1 + np.exp(tx.dot(w)))) - y.T.dot(tx.dot(w)))/len(y)\n",
    "    return loss\n",
    "def sigmoid(t):\n",
    "    \"\"\"apply sigmoid function on t.\"\"\"\n",
    "    return np.exp(t)/(1 + np.exp(t))\n",
    "def compute_gradient_logistic(y, tx, w):\n",
    "    \"\"\"Compute the gradient for logistic regression loss.\"\"\"\n",
    "    return (tx.T.dot(sigmoid(tx.dot(w))) - tx.T.dot(y))/len(y)"
   ]
  },
  {
   "cell_type": "code",
   "execution_count": 70,
   "metadata": {
    "ExecuteTime": {
     "end_time": "2019-10-18T21:27:27.350461Z",
     "start_time": "2019-10-18T21:27:19.808470Z"
    }
   },
   "outputs": [
    {
     "name": "stdout",
     "output_type": "stream",
     "text": [
      "Logistic Regression GD (0/9999): loss=1732.8679513997677\n",
      "Logistic Regression GD (100/9999): loss=1068.1643585222646\n",
      "Logistic Regression GD (200/9999): loss=1047.8725563047246\n",
      "Logistic Regression GD (300/9999): loss=1039.5055466203478\n",
      "Logistic Regression GD (400/9999): loss=1034.8440676439238\n",
      "Logistic Regression GD (500/9999): loss=1031.9080057045617\n",
      "Logistic Regression GD (600/9999): loss=1029.9106803711798\n",
      "Logistic Regression GD (700/9999): loss=1028.471521068044\n",
      "Logistic Regression GD (800/9999): loss=1027.3865893021266\n",
      "Logistic Regression GD (900/9999): loss=1026.5389546939352\n",
      "Logistic Regression GD (1000/9999): loss=1025.857935109504\n",
      "Logistic Regression GD (1100/9999): loss=1025.298796679546\n",
      "Logistic Regression GD (1200/9999): loss=1024.8320107032644\n",
      "Logistic Regression GD (1300/9999): loss=1024.4373049989526\n",
      "Logistic Regression GD (1400/9999): loss=1024.1002460368798\n",
      "Logistic Regression GD (1500/9999): loss=1023.8102105505466\n",
      "Logistic Regression GD (1600/9999): loss=1023.559145205423\n",
      "Logistic Regression GD (1700/9999): loss=1023.3407860637687\n",
      "Logistic Regression GD (1800/9999): loss=1023.1501533460605\n",
      "Logistic Regression GD (1900/9999): loss=1022.9832151151033\n",
      "Logistic Regression GD (2000/9999): loss=1022.8366571267201\n",
      "Logistic Regression GD (2100/9999): loss=1022.7077210193904\n",
      "Logistic Regression GD (2200/9999): loss=1022.5940875640096\n",
      "Logistic Regression GD (2300/9999): loss=1022.4937903510285\n",
      "Logistic Regression GD (2400/9999): loss=1022.4051505379572\n",
      "Logistic Regression GD (2500/9999): loss=1022.3267265162231\n",
      "Logistic Regression GD (2600/9999): loss=1022.2572743892453\n",
      "Logistic Regression GD (2700/9999): loss=1022.1957164535596\n",
      "Logistic Regression GD (2800/9999): loss=1022.1411157221415\n",
      "Logistic Regression GD (2900/9999): loss=1022.0926550917052\n",
      "Logistic Regression GD (3000/9999): loss=1022.0496201368569\n",
      "Logistic Regression GD (3100/9999): loss=1022.0113847772024\n",
      "Logistic Regression GD (3200/9999): loss=1021.9773992485026\n",
      "Logistic Regression GD (3300/9999): loss=1021.9471799422471\n",
      "Logistic Regression GD (3400/9999): loss=1021.9203007744754\n",
      "Logistic Regression GD (3500/9999): loss=1021.8963858172996\n",
      "Logistic Regression GD (3600/9999): loss=1021.8751029804023\n",
      "Logistic Regression GD (3700/9999): loss=1021.8561585716222\n",
      "Logistic Regression GD (3800/9999): loss=1021.8392925978314\n",
      "Logistic Regression GD (3900/9999): loss=1021.8242746924798\n",
      "Logistic Regression GD (4000/9999): loss=1021.8109005761407\n",
      "Logistic Regression GD (4100/9999): loss=1021.7989889724657\n",
      "Logistic Regression GD (4200/9999): loss=1021.788378914624\n",
      "Logistic Regression GD (4300/9999): loss=1021.7789273877922\n",
      "Logistic Regression GD (4400/9999): loss=1021.7705072619017\n",
      "Logistic Regression GD (4500/9999): loss=1021.7630054756528\n",
      "Logistic Regression GD (4600/9999): loss=1021.7563214388088\n",
      "Logistic Regression GD (4700/9999): loss=1021.7503656244546\n",
      "Logistic Regression GD (4800/9999): loss=1021.7450583270124\n",
      "Logistic Regression GD (4900/9999): loss=1021.7403285652372\n",
      "Logistic Regression GD (5000/9999): loss=1021.7361131121679\n",
      "Logistic Regression GD (5100/9999): loss=1021.7323556364734\n",
      "Logistic Regression GD (5200/9999): loss=1021.7290059417977\n",
      "Logistic Regression GD (5300/9999): loss=1021.7260192922813\n",
      "Logistic Regression GD (5400/9999): loss=1021.7233558140997\n",
      "Logistic Regression GD (5500/9999): loss=1021.7209799640522\n",
      "Logistic Regression GD (5600/9999): loss=1021.7188600574013\n",
      "Logistic Regression GD (5700/9999): loss=1021.7169678481714\n",
      "Logistic Regression GD (5800/9999): loss=1021.7152781557697\n",
      "Logistic Regression GD (5900/9999): loss=1021.71376853282\n",
      "Logistic Regression GD (6000/9999): loss=1021.7124189693526\n",
      "Logistic Regression GD (6100/9999): loss=1021.7112116293757\n",
      "Logistic Regression GD (6200/9999): loss=1021.7101306162574\n",
      "Logistic Regression GD (6300/9999): loss=1021.7091617635031\n",
      "Logistic Regression GD (6400/9999): loss=1021.7082924483445\n",
      "Logistic Regression GD (6500/9999): loss=1021.7075114254409\n",
      "Logistic Regression GD (6600/9999): loss=1021.7068086785682\n",
      "Logistic Regression GD (6700/9999): loss=1021.7061752883495\n",
      "Logistic Regression GD (6800/9999): loss=1021.7056033141607\n",
      "Logistic Regression GD (6900/9999): loss=1021.7050856887925\n",
      "Logistic Regression GD (7000/9999): loss=1021.7046161243914\n",
      "Logistic Regression GD (7100/9999): loss=1021.7041890284942\n",
      "Logistic Regression GD (7200/9999): loss=1021.7037994290902\n",
      "Logistic Regression GD (7300/9999): loss=1021.7034429076824\n",
      "Logistic Regression GD (7400/9999): loss=1021.7031155395075\n",
      "Logistic Regression GD (7500/9999): loss=1021.7028138401706\n",
      "Logistic Regression GD (7600/9999): loss=1021.7025347179846\n",
      "Logistic Regression GD (7700/9999): loss=1021.7022754313989\n",
      "Logistic Regression GD (7800/9999): loss=1021.7020335509503\n",
      "Logistic Regression GD (7900/9999): loss=1021.7018069253434\n",
      "Logistic Regression GD (8000/9999): loss=1021.7015936510941\n",
      "Logistic Regression GD (8100/9999): loss=1021.7013920454583\n",
      "Logistic Regression GD (8200/9999): loss=1021.7012006222409\n",
      "Logistic Regression GD (8300/9999): loss=1021.7010180702102\n",
      "Logistic Regression GD (8400/9999): loss=1021.7008432337933\n",
      "Logistic Regression GD (8500/9999): loss=1021.7006750958601\n",
      "Logistic Regression GD (8600/9999): loss=1021.7005127623913\n",
      "Logistic Regression GD (8700/9999): loss=1021.7003554486969\n",
      "Logistic Regression GD (8800/9999): loss=1021.7002024672211\n",
      "Logistic Regression GD (8900/9999): loss=1021.7000532165996\n",
      "Logistic Regression GD (9000/9999): loss=1021.6999071719363\n",
      "Logistic Regression GD (9100/9999): loss=1021.6997638760655\n",
      "Logistic Regression GD (9200/9999): loss=1021.6996229318559\n",
      "Logistic Regression GD (9300/9999): loss=1021.6994839952696\n",
      "Logistic Regression GD (9400/9999): loss=1021.6993467691952\n",
      "Logistic Regression GD (9500/9999): loss=1021.6992109980179\n",
      "Logistic Regression GD (9600/9999): loss=1021.699076462663\n",
      "Logistic Regression GD (9700/9999): loss=1021.6989429763047\n",
      "Logistic Regression GD (9800/9999): loss=1021.6988103804557\n",
      "Logistic Regression GD (9900/9999): loss=1021.6986785415664\n",
      "[5.49201007e-01 5.78113638e-01 2.48327642e-04 ... 4.04904590e-02\n",
      " 7.51052363e-02 2.13256605e-01]\n",
      "Accuracy ratio = 0.799\n",
      "Test loss = inf\n",
      "Train loss = 1021.594\n"
     ]
    },
    {
     "name": "stderr",
     "output_type": "stream",
     "text": [
      "/home/daniel/anaconda3/lib/python3.6/site-packages/ipykernel_launcher.py:7: RuntimeWarning: invalid value encountered in true_divide\n",
      "  import sys\n"
     ]
    }
   ],
   "source": [
    "y_train_log = np.copy(y_train)\n",
    "y_train_log[y_train == -1] = 0\n",
    "\n",
    "y_test_log = np.copy(y_test)\n",
    "y_test_log[y_test == -1] = 0\n",
    "\n",
    "w_init = np.array([0] * tx_train.shape[1])\n",
    "max_iter = 10000\n",
    "gamma = 1e-4\n",
    "w_lrgd, loss_lrgd = logistic_regression(y_train_log,\n",
    "                                        tx_train,\n",
    "                                        w_init,\n",
    "                                        max_iter,\n",
    "                                        gamma,\n",
    "                                        pr=True,\n",
    "                                        adapt_gamma=False,\n",
    "                                       accel=False)\n",
    "\n",
    "lrgd_prediction = predict_labels_log(w_lrgd, tx_test)\n",
    "print(sigmoid(tx_test.dot(w_lrgd)))\n",
    "acc_lrgd = accuracy_ratio(lrgd_prediction, y_test)\n",
    "\n",
    "print('Accuracy ratio = %.3f' % acc_lrgd)\n",
    "print('Test loss = %.3f' % compute_loss_logistic(y_test_log, tx_test, w_lrgd))\n",
    "print('Train loss = %.3f' % loss_lrgd)"
   ]
  },
  {
   "cell_type": "code",
   "execution_count": 68,
   "metadata": {
    "ExecuteTime": {
     "end_time": "2019-10-18T21:25:40.480340Z",
     "start_time": "2019-10-18T21:25:33.199953Z"
    },
    "scrolled": false
   },
   "outputs": [
    {
     "name": "stdout",
     "output_type": "stream",
     "text": [
      " Regularized Logistic Regression GD (0/9999): loss=1732.8679513997677\n",
      " Regularized Logistic Regression GD (100/9999): loss=1402.3746742088995\n",
      " Regularized Logistic Regression GD (200/9999): loss=1379.8775773453915\n",
      " Regularized Logistic Regression GD (300/9999): loss=1374.032961904269\n",
      " Regularized Logistic Regression GD (400/9999): loss=1371.5542185765335\n",
      " Regularized Logistic Regression GD (500/9999): loss=1370.266798281296\n",
      " Regularized Logistic Regression GD (600/9999): loss=1369.5301863757925\n",
      " Regularized Logistic Regression GD (700/9999): loss=1369.081721080187\n",
      " Regularized Logistic Regression GD (800/9999): loss=1368.7948058850075\n",
      " Regularized Logistic Regression GD (900/9999): loss=1368.6033700138241\n",
      " Regularized Logistic Regression GD (1000/9999): loss=1368.4711103259704\n",
      " Regularized Logistic Regression GD (1100/9999): loss=1368.3771630255662\n",
      " Regularized Logistic Regression GD (1200/9999): loss=1368.3089930511803\n",
      " Regularized Logistic Regression GD (1300/9999): loss=1368.2587331724228\n",
      " Regularized Logistic Regression GD (1400/9999): loss=1368.2212402998673\n",
      " Regularized Logistic Regression GD (1500/9999): loss=1368.19302954031\n",
      " Regularized Logistic Regression GD (1600/9999): loss=1368.171668107773\n",
      " Regularized Logistic Regression GD (1700/9999): loss=1368.1554168734494\n",
      " Regularized Logistic Regression GD (1800/9999): loss=1368.1430095804772\n",
      " Regularized Logistic Regression GD (1900/9999): loss=1368.1335113806924\n",
      " Regularized Logistic Regression GD (2000/9999): loss=1368.1262248705652\n",
      " Regularized Logistic Regression GD (2100/9999): loss=1368.1206257041333\n",
      " Regularized Logistic Regression GD (2200/9999): loss=1368.1163173229274\n",
      " Regularized Logistic Regression GD (2300/9999): loss=1368.1129984669958\n",
      " Regularized Logistic Regression GD (2400/9999): loss=1368.110439481228\n",
      " Regularized Logistic Regression GD (2500/9999): loss=1368.1084648217109\n",
      " Regularized Logistic Regression GD (2600/9999): loss=1368.1069400168785\n",
      " Regularized Logistic Regression GD (2700/9999): loss=1368.1057618779614\n",
      " Regularized Logistic Regression GD (2800/9999): loss=1368.1048511079218\n",
      " Regularized Logistic Regression GD (2900/9999): loss=1368.1041466968338\n",
      " Regularized Logistic Regression GD (3000/9999): loss=1368.1036016568246\n",
      " Regularized Logistic Regression GD (3100/9999): loss=1368.1031797679354\n",
      " Regularized Logistic Regression GD (3200/9999): loss=1368.1028530893607\n",
      " Regularized Logistic Regression GD (3300/9999): loss=1368.102600052607\n",
      " Regularized Logistic Regression GD (3400/9999): loss=1368.1024039985002\n",
      " Regularized Logistic Regression GD (3500/9999): loss=1368.1022520528375\n",
      " Regularized Logistic Regression GD (3600/9999): loss=1368.102134261808\n",
      " Regularized Logistic Regression GD (3700/9999): loss=1368.102042926167\n",
      " Regularized Logistic Regression GD (3800/9999): loss=1368.1019720882352\n",
      " Regularized Logistic Regression GD (3900/9999): loss=1368.1019171363052\n",
      " Regularized Logistic Regression GD (4000/9999): loss=1368.1018744993287\n",
      " Regularized Logistic Regression GD (4100/9999): loss=1368.1018414112643\n",
      " Regularized Logistic Regression GD (4200/9999): loss=1368.1018157290089\n",
      " Regularized Logistic Regression GD (4300/9999): loss=1368.1017957916233\n",
      " Regularized Logistic Regression GD (4400/9999): loss=1368.1017803115726\n",
      " Regularized Logistic Regression GD (4500/9999): loss=1368.1017682905049\n",
      " Regularized Logistic Regression GD (4600/9999): loss=1368.1017589541532\n",
      " Regularized Logistic Regression GD (4700/9999): loss=1368.1017517019377\n",
      " Regularized Logistic Regression GD (4800/9999): loss=1368.1017460678463\n",
      " Regularized Logistic Regression GD (4900/9999): loss=1368.1017416902837\n",
      " Regularized Logistic Regression GD (5000/9999): loss=1368.1017382886068\n",
      " Regularized Logistic Regression GD (5100/9999): loss=1368.101735644919\n",
      " Regularized Logistic Regression GD (5200/9999): loss=1368.1017335901051\n",
      " Regularized Logistic Regression GD (5300/9999): loss=1368.1017319928021\n",
      " Regularized Logistic Regression GD (5400/9999): loss=1368.101730751014\n",
      " Regularized Logistic Regression GD (5500/9999): loss=1368.101729785507\n",
      " Regularized Logistic Regression GD (5600/9999): loss=1368.1017290347324\n",
      " Regularized Logistic Regression GD (5700/9999): loss=1368.1017284508687\n",
      " Regularized Logistic Regression GD (5800/9999): loss=1368.1017279967696\n",
      " Regularized Logistic Regression GD (5900/9999): loss=1368.1017276435493\n",
      " Regularized Logistic Regression GD (6000/9999): loss=1368.1017273687842\n",
      " Regularized Logistic Regression GD (6100/9999): loss=1368.1017271550043\n",
      " Regularized Logistic Regression GD (6200/9999): loss=1368.1017269886788\n",
      " Regularized Logistic Regression GD (6300/9999): loss=1368.1017268592634\n",
      " Regularized Logistic Regression GD (6400/9999): loss=1368.1017267585364\n",
      " Regularized Logistic Regression GD (6500/9999): loss=1368.1017266801373\n",
      " Regularized Logistic Regression GD (6600/9999): loss=1368.101726619124\n",
      " Regularized Logistic Regression GD (6700/9999): loss=1368.1017265716164\n",
      " Regularized Logistic Regression GD (6800/9999): loss=1368.1017265346366\n",
      " Regularized Logistic Regression GD (6900/9999): loss=1368.101726505842\n",
      " Regularized Logistic Regression GD (7000/9999): loss=1368.101726483414\n",
      " Regularized Logistic Regression GD (7100/9999): loss=1368.1017264659547\n",
      " Regularized Logistic Regression GD (7200/9999): loss=1368.101726452359\n",
      " Regularized Logistic Regression GD (7300/9999): loss=1368.1017264417533\n",
      " Regularized Logistic Regression GD (7400/9999): loss=1368.101726433509\n",
      " Regularized Logistic Regression GD (7500/9999): loss=1368.1017264270733\n",
      " Regularized Logistic Regression GD (7600/9999): loss=1368.1017264220716\n",
      " Regularized Logistic Regression GD (7700/9999): loss=1368.1017264181578\n",
      " Regularized Logistic Regression GD (7800/9999): loss=1368.1017264151192\n",
      " Regularized Logistic Regression GD (7900/9999): loss=1368.1017264127508\n",
      " Regularized Logistic Regression GD (8000/9999): loss=1368.1017264108957\n",
      " Regularized Logistic Regression GD (8100/9999): loss=1368.101726409443\n",
      " Regularized Logistic Regression GD (8200/9999): loss=1368.1017264083284\n",
      " Regularized Logistic Regression GD (8300/9999): loss=1368.1017264074349\n",
      " Regularized Logistic Regression GD (8400/9999): loss=1368.1017264067568\n",
      " Regularized Logistic Regression GD (8500/9999): loss=1368.1017264062393\n",
      " Regularized Logistic Regression GD (8600/9999): loss=1368.1017264058173\n",
      " Regularized Logistic Regression GD (8700/9999): loss=1368.1017264054867\n",
      " Regularized Logistic Regression GD (8800/9999): loss=1368.1017264052332\n",
      " Regularized Logistic Regression GD (8900/9999): loss=1368.1017264050329\n",
      " Regularized Logistic Regression GD (9000/9999): loss=1368.1017264048803\n",
      " Regularized Logistic Regression GD (9100/9999): loss=1368.1017264047575\n",
      " Regularized Logistic Regression GD (9200/9999): loss=1368.1017264046664\n",
      " Regularized Logistic Regression GD (9300/9999): loss=1368.1017264045925\n",
      " Regularized Logistic Regression GD (9400/9999): loss=1368.1017264045336\n",
      " Regularized Logistic Regression GD (9500/9999): loss=1368.1017264044856\n",
      " Regularized Logistic Regression GD (9600/9999): loss=1368.101726404447\n",
      " Regularized Logistic Regression GD (9700/9999): loss=1368.1017264044308\n",
      " Regularized Logistic Regression GD (9800/9999): loss=1368.1017264044121\n",
      " Regularized Logistic Regression GD (9900/9999): loss=1368.101726404383\n",
      "Accuracy ratio = 0.793\n",
      "Test loss = inf\n",
      "Train loss = 1314.638\n"
     ]
    }
   ],
   "source": [
    "lambda_ = 10\n",
    "gamma = 2e-4\n",
    "w_rlrgd, loss_rlrgd = reg_logistic_regression(y_train_log,\n",
    "                                              tx_train,\n",
    "                                              lambda_,\n",
    "                                              w_init,\n",
    "                                              max_iter,\n",
    "                                              gamma,\n",
    "                                              pr=True,\n",
    "                                              adapt_gamma=False, \n",
    "                                              accel=False)\n",
    "rlrgd_prediction = predict_labels_log(w_rlrgd, tx_test)\n",
    "acc_rlrgd = accuracy_ratio(rlrgd_prediction, y_test)\n",
    "print('Accuracy ratio = %.3f' % acc_rlrgd)\n",
    "print('Test loss = %.3f' % compute_loss_logistic(y_test_log, tx_test, w_rlrgd))\n",
    "print('Train loss = %.3f' % loss_rlrgd)"
   ]
  },
  {
   "cell_type": "code",
   "execution_count": null,
   "metadata": {},
   "outputs": [],
   "source": []
  }
 ],
 "metadata": {
  "kernelspec": {
   "display_name": "Python 3",
   "language": "python",
   "name": "python3"
  },
  "language_info": {
   "codemirror_mode": {
    "name": "ipython",
    "version": 3
   },
   "file_extension": ".py",
   "mimetype": "text/x-python",
   "name": "python",
   "nbconvert_exporter": "python",
   "pygments_lexer": "ipython3",
   "version": "3.6.7"
  },
  "latex_envs": {
   "LaTeX_envs_menu_present": true,
   "autoclose": true,
   "autocomplete": true,
   "bibliofile": "biblio.bib",
   "cite_by": "apalike",
   "current_citInitial": 1,
   "eqLabelWithNumbers": true,
   "eqNumInitial": 1,
   "hotkeys": {
    "equation": "Ctrl-E",
    "itemize": "Ctrl-I"
   },
   "labels_anchors": false,
   "latex_user_defs": false,
   "report_style_numbering": false,
   "user_envs_cfg": false
  },
  "toc": {
   "base_numbering": 1,
   "nav_menu": {},
   "number_sections": true,
   "sideBar": true,
   "skip_h1_title": false,
   "title_cell": "Table of Contents",
   "title_sidebar": "Contents",
   "toc_cell": false,
   "toc_position": {},
   "toc_section_display": true,
   "toc_window_display": false
  }
 },
 "nbformat": 4,
 "nbformat_minor": 2
}
