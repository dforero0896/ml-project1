{
 "cells": [
  {
   "cell_type": "code",
   "execution_count": 2,
   "metadata": {
    "ExecuteTime": {
     "end_time": "2019-10-25T13:10:35.849657Z",
     "start_time": "2019-10-25T13:10:35.793835Z"
    }
   },
   "outputs": [
    {
     "name": "stdout",
     "output_type": "stream",
     "text": [
      "The autoreload extension is already loaded. To reload it, use:\n",
      "  %reload_ext autoreload\n"
     ]
    }
   ],
   "source": [
    "%load_ext autoreload\n",
    "%autoreload\n",
    "from proj1_helpers import *\n",
    "from implementations import *\n",
    "from tests import *\n",
    "from preprocessing import *\n",
    "import numpy as np\n",
    "import matplotlib.pyplot as plt"
   ]
  },
  {
   "cell_type": "markdown",
   "metadata": {},
   "source": [
    "# Outline of the pipeline\n",
    "## Import data\n",
    "+ Import raw data. Split original train data into out test and train sets.\n",
    "## Preprocessing\n",
    "+ The file `preprocessing.py` is imported and contains functions to clean (impute with mean), remove columns, standardize and do PCA.\n",
    "+ Preprocess train and test data separately (you can define the number of principal components used with the max_comp parameter. Defaults to 30).\n",
    "## Apply Model\n",
    "+ Apply your preferred model!"
   ]
  },
  {
   "cell_type": "code",
   "execution_count": 2,
   "metadata": {
    "ExecuteTime": {
     "end_time": "2019-10-25T12:45:32.399348Z",
     "start_time": "2019-10-25T12:45:03.569779Z"
    }
   },
   "outputs": [],
   "source": [
    "# Read train_y=LABELS, train_x=FEATURES and train_id=EVENT_IDS from dataset.\n",
    "subsamp = False\n",
    "y, x, id_ = load_csv_data('../data/train.csv', sub_sample=subsamp)\n",
    "y_out_test, x_out_test, id_out_test = load_csv_data('../data/test.csv', sub_sample=subsamp)"
   ]
  },
  {
   "cell_type": "code",
   "execution_count": 3,
   "metadata": {
    "ExecuteTime": {
     "end_time": "2019-10-25T10:48:20.858061Z",
     "start_time": "2019-10-25T10:48:14.840270Z"
    }
   },
   "outputs": [],
   "source": [
    "features = np.loadtxt('../data/train.csv', dtype=str, delimiter=',')[0,2:]\n",
    "def show_PC_explicit(features):\n",
    "    import sympy as sy\n",
    "    features_sym = [sy.symbols(f, real=True, positive=True) for f in features]\n",
    "    display(np.array(features_sym).dot(np.around(transform_train, 1)))"
   ]
  },
  {
   "cell_type": "code",
   "execution_count": 3,
   "metadata": {
    "ExecuteTime": {
     "end_time": "2019-10-25T12:51:25.913887Z",
     "start_time": "2019-10-25T12:51:25.290723Z"
    }
   },
   "outputs": [
    {
     "name": "stdout",
     "output_type": "stream",
     "text": [
      "(2500, 24) (247500, 24)\n"
     ]
    }
   ],
   "source": [
    "clean = True\n",
    "dopca = False\n",
    "remove_cols = True\n",
    "cols = (4, 5, 6, 12, 26, 27, 28)\n",
    "#cols=(0, 4, 5, 6, 12, 23, 24, 25, 26, 27, 28)\n",
    "max_comp = 30  # For cleaning, and no removing cols\n",
    "\n",
    "x_train, y_train, x_test, y_test = split_data(x, y, ratio=0.99, seed=10)\n",
    "y_train, x_train, x_train_mean, x_train_var, transform_train, eigenvals_train = preprocess(\n",
    "    x_train,\n",
    "    y_train,\n",
    "    clean=clean,\n",
    "    dopca=dopca,\n",
    "    max_comp=max_comp,\n",
    "    remove_cols=remove_cols,\n",
    "    cols=cols)\n",
    "y_test, x_test, x_test_mean, x_test_var, transform_test, eigenvals_test = preprocess(\n",
    "    x_test,\n",
    "    y_test,\n",
    "    clean=clean,\n",
    "    dopca=dopca,\n",
    "    max_comp=max_comp,\n",
    "    remove_cols=remove_cols,\n",
    "    cols=cols)\n",
    "print(x_test.shape, x_train.shape)"
   ]
  },
  {
   "cell_type": "code",
   "execution_count": 4,
   "metadata": {
    "ExecuteTime": {
     "end_time": "2019-10-25T12:51:37.212495Z",
     "start_time": "2019-10-25T12:51:36.929663Z"
    }
   },
   "outputs": [
    {
     "data": {
      "text/plain": [
       "((247500, 49), (2500, 49))"
      ]
     },
     "execution_count": 4,
     "metadata": {},
     "output_type": "execute_result"
    }
   ],
   "source": [
    "degree = 2\n",
    "# Build data matrix with feature expansion\n",
    "tx_train = build_poly(x_train, degree)\n",
    "tx_test = build_poly(x_test, degree)\n",
    "tx_train.shape, tx_test.shape\n"
   ]
  },
  {
   "cell_type": "markdown",
   "metadata": {
    "heading_collapsed": true
   },
   "source": [
    "# Gradient Descent"
   ]
  },
  {
   "cell_type": "code",
   "execution_count": 16,
   "metadata": {
    "ExecuteTime": {
     "end_time": "2019-10-25T10:56:41.076423Z",
     "start_time": "2019-10-25T10:56:26.927938Z"
    },
    "hidden": true,
    "scrolled": true
   },
   "outputs": [
    {
     "name": "stdout",
     "output_type": "stream",
     "text": [
      "Accuracy ratio = 0.730\n",
      "Test loss = 0.353\n",
      "Train loss = 0.348\n"
     ]
    }
   ],
   "source": [
    "w_init = np.array([0] * tx_train.shape[1])\n",
    "max_iter_gd = 500\n",
    "gamma_gd = 1e-3\n",
    "w_gd, loss_gd = least_squares_GD(y_train,\n",
    "                                 tx_train,\n",
    "                                 w_init,\n",
    "                                 max_iter_gd,\n",
    "                                 gamma_gd,\n",
    "                                 pr=False,\n",
    "                                 adapt_gamma=False,\n",
    "                                 kind='mse',\n",
    "                                accel=False)\n",
    "gd_prediction = predict_labels(w_gd, tx_test)\n",
    "acc_gd = accuracy_ratio(gd_prediction, y_test)\n",
    "print('Accuracy ratio = %.3f' % acc_gd)\n",
    "print('Test loss = %.3f' % compute_loss(y_test, tx_test, w_gd))\n",
    "print('Train loss = %.3f' % loss_gd)"
   ]
  },
  {
   "cell_type": "markdown",
   "metadata": {
    "ExecuteTime": {
     "end_time": "2019-10-17T12:37:03.486835Z",
     "start_time": "2019-10-17T12:37:03.480662Z"
    },
    "hidden": true
   },
   "source": [
    "np.savetxt('../data/w_gd_acc.dat', w_gd)"
   ]
  },
  {
   "cell_type": "markdown",
   "metadata": {
    "heading_collapsed": true
   },
   "source": [
    "# Stochastic Gradient Descent"
   ]
  },
  {
   "cell_type": "code",
   "execution_count": 17,
   "metadata": {
    "ExecuteTime": {
     "end_time": "2019-10-25T11:00:36.111308Z",
     "start_time": "2019-10-25T10:57:02.385613Z"
    },
    "hidden": true,
    "scrolled": true
   },
   "outputs": [
    {
     "name": "stdout",
     "output_type": "stream",
     "text": [
      "Accuracy ratio = 0.64\n",
      "Test loss = 4.88e-01\n",
      "Train loss = 4.89e-01\n"
     ]
    }
   ],
   "source": [
    "w_init = np.array([0] * tx_train.shape[1])\n",
    "max_iter_sgd = 500\n",
    "gamma_sgd = 1e-5\n",
    "batch_size = 1\n",
    "\n",
    "w_sgd, loss_sgd = least_squares_SGD(y_train,\n",
    "                                    tx_train,\n",
    "                                    w_init,\n",
    "                                    batch_size,\n",
    "                                    max_iter_sgd,\n",
    "                                    gamma_sgd,\n",
    "                                    pr=False,\n",
    "                                    adapt_gamma=False,\n",
    "                                    choose_best=True)\n",
    "sgd_prediction = predict_labels(w_sgd, tx_test)\n",
    "acc_sgd = accuracy_ratio(sgd_prediction, y_test)\n",
    "print('Accuracy ratio = %.2f' % acc_sgd)\n",
    "print('Test loss = %.2e' % compute_loss(y_test, tx_test, w_sgd))\n",
    "print('Train loss = %.2e' % loss_sgd)"
   ]
  },
  {
   "cell_type": "markdown",
   "metadata": {
    "heading_collapsed": true
   },
   "source": [
    "# Least Squares"
   ]
  },
  {
   "cell_type": "code",
   "execution_count": 18,
   "metadata": {
    "ExecuteTime": {
     "end_time": "2019-10-25T11:02:55.087004Z",
     "start_time": "2019-10-25T11:02:54.998793Z"
    },
    "hidden": true
   },
   "outputs": [
    {
     "name": "stdout",
     "output_type": "stream",
     "text": [
      "Accuracy ratio = 0.55\n",
      "Train loss = 0.32\n",
      "Test loss = 1.24e+01\n"
     ]
    }
   ],
   "source": [
    "w_lsq, loss_lsq = least_squares(y_train, tx_train)\n",
    "lsq_prediction = predict_labels(w_lsq, tx_test)\n",
    "acc_lsq = accuracy_ratio(lsq_prediction, y_test)\n",
    "print('Accuracy ratio = %.2f' % acc_lsq)\n",
    "print('Train loss = %.2f' % loss_lsq)\n",
    "print('Test loss = %.2e' % compute_loss(y_test, tx_test, w_lsq))\n"
   ]
  },
  {
   "cell_type": "markdown",
   "metadata": {
    "ExecuteTime": {
     "end_time": "2019-10-17T12:45:30.271461Z",
     "start_time": "2019-10-17T12:45:30.267909Z"
    },
    "hidden": true
   },
   "source": [
    "np.savetxt('../data/w_lsq.dat', w_lsq)"
   ]
  },
  {
   "cell_type": "markdown",
   "metadata": {
    "heading_collapsed": true
   },
   "source": [
    "# Ridge Regression"
   ]
  },
  {
   "cell_type": "code",
   "execution_count": 19,
   "metadata": {
    "ExecuteTime": {
     "end_time": "2019-10-25T11:02:58.234140Z",
     "start_time": "2019-10-25T11:02:58.187975Z"
    },
    "hidden": true
   },
   "outputs": [
    {
     "name": "stdout",
     "output_type": "stream",
     "text": [
      "Accuracy ratio = 0.763\n",
      "Test loss = 0.321\n",
      "Train loss = 0.319\n"
     ]
    }
   ],
   "source": [
    "lambda_rr = 2e-4\n",
    "w_rr, loss_rr = ridge_regression(y_train, tx_train, lambda_rr)\n",
    "rr_prediction = predict_labels(w_rr, tx_test)\n",
    "acc_rr = accuracy_ratio(rr_prediction, y_test)\n",
    "print('Accuracy ratio = %.3f'%acc_rr)\n",
    "print('Test loss = %.3f'%compute_loss(y_test, tx_test, w_rr))\n",
    "print('Train loss = %.3f'%loss_rr)"
   ]
  },
  {
   "cell_type": "markdown",
   "metadata": {
    "ExecuteTime": {
     "end_time": "2019-10-18T15:18:22.322364Z",
     "start_time": "2019-10-18T15:18:22.309384Z"
    },
    "hidden": true
   },
   "source": [
    "np.savetxt('../data/w_rr.dat', w_rr)"
   ]
  },
  {
   "cell_type": "markdown",
   "metadata": {
    "heading_collapsed": true
   },
   "source": [
    "# Logistic Regression"
   ]
  },
  {
   "cell_type": "code",
   "execution_count": 22,
   "metadata": {
    "ExecuteTime": {
     "end_time": "2019-10-25T11:22:42.956505Z",
     "start_time": "2019-10-25T11:18:51.825658Z"
    },
    "hidden": true,
    "scrolled": false
   },
   "outputs": [
    {
     "name": "stdout",
     "output_type": "stream",
     "text": [
      "Accuracy ratio = 0.783\n",
      "Test loss = 1167.278\n",
      "Train loss = 113561.140\n"
     ]
    }
   ],
   "source": [
    "y_train_log = minus_one_2_zero(y_train)\n",
    "y_test_log = minus_one_2_zero(y_test)\n",
    "\n",
    "\n",
    "w_init = np.array([0] * tx_train.shape[1])\n",
    "max_iter_lrgd = 500\n",
    "gamma_lrgd = 1e-8\n",
    "w_lrgd, loss_lrgd = logistic_regression(y_train_log,\n",
    "                                        tx_train,\n",
    "                                        w_init,\n",
    "                                        max_iter_lrgd,\n",
    "                                        gamma_lrgd,\n",
    "                                        pr=False,\n",
    "                                        adapt_gamma=False,\n",
    "                                       accel=False)\n",
    "\n",
    "lrgd_prediction = predict_labels(w_lrgd, tx_test)\n",
    "acc_lrgd = accuracy_ratio(lrgd_prediction, y_test)\n",
    "\n",
    "print('Accuracy ratio = %.3f' % acc_lrgd)\n",
    "print('Test loss = %.3f' % compute_loss_logistic(y_test_log, tx_test, w_lrgd))\n",
    "print('Train loss = %.3f' % loss_lrgd)"
   ]
  },
  {
   "cell_type": "code",
   "execution_count": 23,
   "metadata": {
    "ExecuteTime": {
     "end_time": "2019-10-25T11:23:07.210851Z",
     "start_time": "2019-10-25T11:22:42.961874Z"
    },
    "hidden": true,
    "scrolled": false
   },
   "outputs": [
    {
     "name": "stdout",
     "output_type": "stream",
     "text": [
      "Accuracy ratio = 0.726\n",
      "Test loss = 1343.362\n",
      "Train loss = 131688.258\n"
     ]
    }
   ],
   "source": [
    "lambda_rlrgd = 50\n",
    "gamma_rlrgd = 1e-8\n",
    "max_iter_rlrgd = 500\n",
    "lambda_rr = 2e-4\n",
    "\n",
    "w_rlrgd, loss_rlrgd = reg_logistic_regression(y_train_log,\n",
    "                                              tx_train,\n",
    "                                              lambda_rlrgd,\n",
    "                                              w_init,\n",
    "                                              max_iter_rlrgd,\n",
    "                                              gamma_rlrgd,\n",
    "                                              pr=False,\n",
    "                                              adapt_gamma=False, \n",
    "                                              accel=False)\n",
    "rlrgd_prediction = predict_labels(w_rlrgd, tx_test)\n",
    "acc_rlrgd = accuracy_ratio(rlrgd_prediction, y_test)\n",
    "print('Accuracy ratio = %.3f' % acc_rlrgd)\n",
    "print('Test loss = %.3f' % compute_loss_logistic(y_test_log, tx_test, w_rlrgd))\n",
    "print('Train loss = %.3f' % loss_rlrgd)"
   ]
  },
  {
   "cell_type": "markdown",
   "metadata": {},
   "source": [
    "# Tests"
   ]
  },
  {
   "cell_type": "code",
   "execution_count": 84,
   "metadata": {
    "ExecuteTime": {
     "end_time": "2019-10-23T20:56:30.122448Z",
     "start_time": "2019-10-23T20:56:30.106931Z"
    },
    "code_folding": [
     0,
     25
    ]
   },
   "outputs": [],
   "source": [
    "def ridge_regression_demo(x, y, degree, ratio, seed):\n",
    "    \"\"\"ridge regression demo.\"\"\"\n",
    "    # define parameter\n",
    "    lambdas = np.logspace(-5, 3, 50)\n",
    "    y_pre, x_pre, _, _, _, _ = preprocess(x, y, clean=clean, dopca=True, max_comp=30)\n",
    "    # split the data, and return train and test data\n",
    "    x_train, y_train, x_test, y_test = split_data(x_pre, y_pre, ratio, seed)\n",
    "    tx_train=build_poly(x_train, degree)\n",
    "    tx_test=build_poly(x_test, degree)\n",
    "    rmse_tr = []\n",
    "    rmse_te = []\n",
    "    accuracies = []\n",
    "    for ind, lambda_ in enumerate(lambdas):\n",
    "        # calcualte weight through least square.\n",
    "        w_train, loss_train = ridge_regression(y_train, tx_train, lambda_)\n",
    "        rmse_tr.append(np.sqrt(2*loss_train))\n",
    "        rmse_te.append(np.sqrt(2*compute_loss(y_test, tx_test, w_train, kind = 'mse')))\n",
    "        accuracies.append(accuracy_ratio(predict_labels(w_train, tx_test), y_test))\n",
    "        #print(\"proportion={p}, degree={d}, lambda={l:.3e}, Training RMSE={tr:.3f}, Testing RMSE={te:.3f}, Accuracy={ac:.3f}\".format(\n",
    "         #      p=ratio, d=degree, l=lambda_, tr=rmse_tr[ind], te=rmse_te[ind], ac=accuracies[ind]))\n",
    "        \n",
    "    # Plot the obtained results\n",
    "    plot_train_test(rmse_tr, rmse_te, lambdas, degree)\n",
    "    plt.figure()\n",
    "    plt.semilogx(lambdas,accuracies, marker='o')\n",
    "def plot_train_test(train_errors, test_errors, lambdas, degree):\n",
    "    \"\"\"\n",
    "    train_errors, test_errors and lambas should be list (of the same size) the respective train error and test error for a given lambda,\n",
    "    * lambda[0] = 1\n",
    "    * train_errors[0] = RMSE of a ridge regression on the train set\n",
    "    * test_errors[0] = RMSE of the parameter found by ridge regression applied on the test set\n",
    "    \n",
    "    degree is just used for the title of the plot.\n",
    "    \"\"\"\n",
    "    plt.semilogx(lambdas, train_errors, color='b', marker='*', label=\"Train error\")\n",
    "    plt.semilogx(lambdas, test_errors, color='r', marker='*', label=\"Test error\")\n",
    "    plt.xlabel(\"lambda\")\n",
    "    plt.ylabel(\"RMSE\")\n",
    "    plt.title(\"Ridge regression for polynomial degree \" + str(degree))\n",
    "    leg = plt.legend(loc=1, shadow=True)\n",
    "    leg.draw_frame(False)\n",
    "    plt.savefig(\"../results/ridge_regression\")"
   ]
  },
  {
   "cell_type": "code",
   "execution_count": 85,
   "metadata": {
    "ExecuteTime": {
     "end_time": "2019-10-23T20:56:32.941669Z",
     "start_time": "2019-10-23T20:56:31.227471Z"
    },
    "scrolled": false
   },
   "outputs": [
    {
     "data": {
      "image/png": "[encoded data removed]",
      "text/plain": [
       "<Figure size 432x288 with 1 Axes>"
      ]
     },
     "metadata": {
      "needs_background": "light"
     },
     "output_type": "display_data"
    },
    {
     "data": {
      "image/png": "[encoded data removed]",
      "text/plain": [
       "<Figure size 432x288 with 1 Axes>"
      ]
     },
     "metadata": {
      "needs_background": "light"
     },
     "output_type": "display_data"
    }
   ],
   "source": [
    "seed = 42\n",
    "degree = 3\n",
    "split_ratio = 0.8\n",
    "ridge_regression_demo(x, y, degree, split_ratio, seed)"
   ]
  },
  {
   "cell_type": "code",
   "execution_count": null,
   "metadata": {
    "ExecuteTime": {
     "end_time": "2019-10-21T10:12:29.043327Z",
     "start_time": "2019-10-21T10:12:08.534Z"
    }
   },
   "outputs": [],
   "source": [
    "print(id_out_test.shape)\n",
    "x_out_test_std = standardize_features(x_out_test)\n",
    "x_out = x_out_test_std[0]\n",
    "tx_out = build_poly(x_out, 2)\n",
    "\n",
    "create_csv_submission(id_out_test, predict_labels(w_rr, tx_out) , '../results/rr_pred.csv')\n",
    "create_csv_submission(id_out_test, predict_labels(w_gd, tx_out) , '../results/gd_pred_accel.csv')\n",
    "create_csv_submission(id_out_test, predict_labels(w_lsq, tx_out) , '../results/lsq_pred.csv')\n",
    "#create_csv_submission(id_out_test, predict_labels(w_sgd, tx_out) , '../results/sgd_pred_noadapt.csv')"
   ]
  },
  {
   "cell_type": "code",
   "execution_count": 3,
   "metadata": {
    "ExecuteTime": {
     "end_time": "2019-10-25T13:11:06.248661Z",
     "start_time": "2019-10-25T13:10:53.584809Z"
    },
    "scrolled": true
   },
   "outputs": [
    {
     "name": "stdout",
     "output_type": "stream",
     "text": [
      "Using method ridge_regression\n",
      "Using lambda = 1.0e-07\n",
      "Using lambda = 1.3e-06\n",
      "Using lambda = 1.7e-05\n",
      "Using lambda = 2.2e-04\n",
      "Using lambda = 2.8e-03\n",
      "Using lambda = 3.6e-02\n",
      "Using lambda = 4.6e-01\n",
      "Using lambda = 6.0e+00\n",
      "Using lambda = 7.7e+01\n",
      "Using lambda = 1.0e+03\n",
      "Best lambda from error: 4.64e-01\n",
      "Best lambda from accuracy: 1.29e-06\n"
     ]
    }
   ],
   "source": [
    "\n",
    "\n",
    "\n",
    "cross_validation_demo(x, y, ridge_regression, args_rr, k_fold=2, degree = 2)"
   ]
  },
  {
   "cell_type": "code",
   "execution_count": null,
   "metadata": {
    "ExecuteTime": {
     "end_time": "2019-10-21T10:12:29.041410Z",
     "start_time": "2019-10-21T10:12:08.532Z"
    },
    "code_folding": [
     0,
     38
    ]
   },
   "outputs": [],
   "source": [
    "def bias_variance_decomposition_visualization(degrees, rmse_tr, rmse_te):\n",
    "    \"\"\"visualize the bias variance decomposition.\"\"\"\n",
    "    rmse_tr_mean = np.expand_dims(np.mean(rmse_tr, axis=0), axis=0)\n",
    "    rmse_te_mean = np.expand_dims(np.mean(rmse_te, axis=0), axis=0)\n",
    "    print(rmse_te_mean, rmse_tr_mean)\n",
    "    plt.plot(degrees,\n",
    "             rmse_tr.T,\n",
    "             'b',\n",
    "             linestyle=\"-\",\n",
    "             color=([0.7, 0.7, 1]),\n",
    "             label='train',\n",
    "             linewidth=0.3)\n",
    "    plt.plot(degrees,\n",
    "             rmse_te.T,\n",
    "             'r',\n",
    "             linestyle=\"-\",\n",
    "             color=[1, 0.7, 0.7],\n",
    "             label='test',\n",
    "             linewidth=0.3)\n",
    "    plt.plot(degrees,\n",
    "             rmse_tr_mean.T,\n",
    "             'b',\n",
    "             linestyle=\"-\",\n",
    "             label='train',\n",
    "             linewidth=3)\n",
    "    plt.plot(degrees,\n",
    "             rmse_te_mean.T,\n",
    "             'r',\n",
    "             linestyle=\"-\",\n",
    "             label='test',\n",
    "             linewidth=3)\n",
    "    plt.ylim(0.7, 1)\n",
    "    plt.xlabel(\"degree\")\n",
    "    plt.ylabel(\"error\")\n",
    "    plt.title(\"Bias-Variance Decomposition\")\n",
    "    plt.savefig(\"bias_variance\")\n",
    "\n",
    "\n",
    "def bias_variance_demo():\n",
    "    \"\"\"The entry.\"\"\"\n",
    "    # define parameters\n",
    "    seeds = range(100)\n",
    "    ratio_train = 0.5\n",
    "    degrees = range(1, 8)\n",
    "    # define list to store the variable\n",
    "    rmse_tr = np.empty((len(seeds), len(degrees)))\n",
    "    rmse_te = np.empty((len(seeds), len(degrees)))\n",
    "    for index_seed, seed in enumerate(seeds):\n",
    "        np.random.seed(seed)\n",
    "        # split data with a specific seed\n",
    "        x_train, y_train, x_test, y_test = split_data(x, y, ratio_train, seed)\n",
    "        x_train_std = standardize(x_train)[0]\n",
    "        x_test_std = standardize(x_test)[0]\n",
    "        for index_degrees, degree in enumerate(degrees):\n",
    "            tx_train = build_poly(x_train_std, degree)\n",
    "            tx_test = build_poly(x_test_std, degree)\n",
    "            weight, loss_tr = ridge_regression(y_train, tx_train, 1.89e-05 )\n",
    "            loss_te = compute_loss(y_test, tx_test, weight, kind='mse')\n",
    "            rmse_tr[index_seed, index_degrees] = np.sqrt(2 * loss_tr)\n",
    "            rmse_te[index_seed, index_degrees] = np.sqrt(2 * loss_te)\n",
    "    bias_variance_decomposition_visualization(degrees, rmse_tr, rmse_te)\n",
    "\n",
    "\n",
    "bias_variance_demo()"
   ]
  },
  {
   "cell_type": "markdown",
   "metadata": {
    "heading_collapsed": true
   },
   "source": [
    "# Logistic regression NEW"
   ]
  },
  {
   "cell_type": "code",
   "execution_count": 26,
   "metadata": {
    "ExecuteTime": {
     "end_time": "2019-10-24T12:59:38.503443Z",
     "start_time": "2019-10-24T12:59:37.799725Z"
    },
    "hidden": true
   },
   "outputs": [
    {
     "name": "stdout",
     "output_type": "stream",
     "text": [
      "Accuracy ratio = 0.803\n",
      "Test loss = 849.962\n",
      "Train loss = 3368.144\n",
      "[-0.11252881  0.56249914 -0.70734386  0.07221543  0.21124136  0.47648587\n",
      " -0.11628118  0.26375989 -0.35192631  0.16578181  0.59773594 -0.00686058\n",
      "  0.03923464  0.3522235   0.07278065  0.08853583 -0.0550296  -0.06087281\n",
      " -0.06022777  0.01697526  0.11249201 -0.90652965  0.13185629 -0.8545514\n",
      "  0.00394634 -0.31464538  0.03551931  0.02057922  0.04513402  0.40097713\n",
      " -0.0549146  -0.09740322  0.01470469  0.00540386 -0.26994535  0.03664979\n",
      "  0.10355341 -0.03171698 -0.21074765 -0.11798162  0.02071415]\n"
     ]
    }
   ],
   "source": [
    "w_init = np.zeros(tx_train.shape[1])\n",
    "max_iter = 1000\n",
    "gamma = 1e-5\n",
    "w_lrgd, loss_lrgd = logistic_regression(y_train,\n",
    "                                        tx_train,\n",
    "                                        w_init,\n",
    "                                        max_iter,\n",
    "                                        gamma,\n",
    "                                        pr=False,\n",
    "                                        adapt_gamma=False,\n",
    "                                       accel=False,\n",
    "                                       new=True)\n",
    "\n",
    "lrgd_prediction = predict_labels(w_lrgd, tx_test)\n",
    "\n",
    "acc_lrgd = accuracy_ratio(lrgd_prediction, y_test)\n",
    "\n",
    "print('Accuracy ratio = %.3f' % acc_lrgd)\n",
    "print('Test loss = %.3f' % compute_loss_logistic_new(y_test, tx_test, w_lrgd))\n",
    "print('Train loss = %.3f' % loss_lrgd)\n",
    "print((w_lrgd))"
   ]
  },
  {
   "cell_type": "code",
   "execution_count": null,
   "metadata": {
    "ExecuteTime": {
     "end_time": "2019-10-23T20:35:14.830175Z",
     "start_time": "2019-10-23T20:35:09.813385Z"
    },
    "hidden": true
   },
   "outputs": [],
   "source": [
    "lambda_ = 100\n",
    "gamma = 5e-6\n",
    "w_rlrgd, loss_rlrgd = reg_logistic_regression(y_train,\n",
    "                                              tx_train,\n",
    "                                              lambda_,\n",
    "                                              w_init,\n",
    "                                              max_iter,\n",
    "                                              gamma,\n",
    "                                              pr=True,\n",
    "                                              adapt_gamma=False, \n",
    "                                              accel=False,\n",
    "                                              new = True)\n",
    "rlrgd_prediction = predict_labels(w_rlrgd, tx_test)\n",
    "acc_rlrgd = accuracy_ratio(rlrgd_prediction, y_test)\n",
    "print('Accuracy ratio = %.3f' % acc_rlrgd)\n",
    "print('Test loss = %.3f' % compute_loss_logistic_new(y_test, tx_test, w_rlrgd))\n",
    "print('Train loss = %.3f' % loss_rlrgd)\n",
    "print((w_rlrgd))"
   ]
  },
  {
   "cell_type": "markdown",
   "metadata": {},
   "source": [
    "# Bias-variance"
   ]
  },
  {
   "cell_type": "code",
   "execution_count": 54,
   "metadata": {
    "ExecuteTime": {
     "end_time": "2019-10-21T11:40:49.132002Z",
     "start_time": "2019-10-21T11:40:11.716871Z"
    }
   },
   "outputs": [
    {
     "name": "stdout",
     "output_type": "stream",
     "text": [
      "2\n"
     ]
    },
    {
     "data": {
      "image/png": "[encoded data removed]",
      "text/plain": [
       "<Figure size 432x288 with 1 Axes>"
      ]
     },
     "metadata": {
      "needs_background": "light"
     },
     "output_type": "display_data"
    },
    {
     "data": {
      "image/png": "[encoded data removed]",
      "text/plain": [
       "<Figure size 432x288 with 1 Axes>"
      ]
     },
     "metadata": {
      "needs_background": "light"
     },
     "output_type": "display_data"
    }
   ],
   "source": [
    "def cross_validation(y, x, k_indices, k, lambda_, degree):\n",
    "    \"\"\"return the loss of ridge regression.\"\"\"\n",
    "\n",
    "    index = np.arange(k_indices.shape[0])\n",
    "    index_te = k\n",
    "    index_tr = index[index != index_te]\n",
    "\n",
    "    x_tr = x[np.ravel(k_indices[index_tr])]\n",
    "    x_te = x[k_indices[index_te]]\n",
    "    y_tr = y[np.ravel(k_indices[index_tr])]\n",
    "    y_te = y[k_indices[index_te]]\n",
    "    tx_tr = build_poly(x_tr, degree)\n",
    "    tx_te = build_poly(x_te, degree)\n",
    "\n",
    "    weight, loss_tr = ridge_regression(y_tr, tx_tr, lambda_)\n",
    "\n",
    "    loss_te = compute_loss(y_te, tx_te, weight)\n",
    "    accuracy = accuracy_ratio(predict_labels(weight, tx_test), y_test)\n",
    "    return loss_tr, loss_te, accuracy, weight\n",
    "\n",
    "\n",
    "def best_degree_lambda(y, x):\n",
    "    \"\"\"The entry.\"\"\"\n",
    "    # define parameters\n",
    "    seeds = range(20)\n",
    "    lambdas = np.logspace(-7, 0, 30)\n",
    "    k_fold = 5\n",
    "    ratio_train = 0.3\n",
    "    degrees = range(1, 5)\n",
    "\n",
    "    # define list to store the variable\n",
    "    rmse_te = np.empty((len(seeds), len(degrees)))\n",
    "    lambda_all = np.empty((len(seeds), len(degrees)))\n",
    "    variance_te = np.empty(len(degrees))\n",
    "    \n",
    "    for index_seed, seed in enumerate(seeds):\n",
    "        np.random.seed(seed)\n",
    "\n",
    "        x_tr, y_tr, x_te, y_te = split_data(x, y, ratio_train, seed)\n",
    "        y_tr, x_tr, _, _, _, _ = preprocess(x_train,\n",
    "                                            y_train,\n",
    "                                            clean=clean,\n",
    "                                            dopca=dopca,\n",
    "                                            max_comp=max_comp,\n",
    "                                            remove_cols=remove_cols,\n",
    "                                            cols=cols)\n",
    "        y_te, x_te, _, _, _, _ = preprocess(x_test,\n",
    "                                            y_test,\n",
    "                                            clean=clean,\n",
    "                                            dopca=dopca,\n",
    "                                            max_comp=max_comp,\n",
    "                                            remove_cols=remove_cols,\n",
    "                                            cols=cols)\n",
    "        k_indices = build_k_indices(y_tr, k_fold, seed)\n",
    "        for index_deg, deg in enumerate(degrees):\n",
    "            tx_te = build_poly(x_te, deg)\n",
    "            ws_lambda = []\n",
    "            loss_te_lambda = np.empty(len(lambdas))\n",
    "            loss_tr_lambda = np.empty(len(lambdas))\n",
    "            acc_lambda = np.empty(len(lambdas))\n",
    "            for index_l, lambda_ in enumerate(lambdas):\n",
    "                ws_k = []\n",
    "                loss_te_k = np.empty(k_fold)\n",
    "                loss_tr_k = np.empty(k_fold)\n",
    "                acc_k = np.empty(k_fold)\n",
    "                for k in range(k_fold):\n",
    "                    loss_tr_tmp, loss_te_tmp, acc_tmp, w_tmp = cross_validation(\n",
    "                        y_tr, x_tr, k_indices, k, lambda_, deg)\n",
    "                    loss_te_k[k] = loss_te_tmp\n",
    "                    loss_tr_k[k] = loss_tr_tmp\n",
    "                    ws_k.append(w_tmp)\n",
    "                loss_te_lambda[index_l] = np.mean(loss_te_k)\n",
    "                loss_tr_lambda[index_l] = np.mean(loss_tr_k)\n",
    "                ws_lambda.append(ws_k)\n",
    "\n",
    "            ind_opt_lambda = np.argmin(loss_te_lambda)\n",
    "            ws_opt = ws_lambda[ind_opt_lambda]\n",
    "\n",
    "            loss_te = np.mean(\n",
    "                [np.sqrt(2 * compute_loss(y_te, tx_te, w)) for w in ws_opt])\n",
    "            rmse_te[index_seed, index_deg] = loss_te\n",
    "            lambda_all[index_seed, index_deg] = lambdas[ind_opt_lambda]\n",
    "\n",
    "    variance_te = np.std(rmse_te, axis=0)\n",
    "\n",
    "    plt.figure(1)\n",
    "    plt.errorbar(degrees, np.mean(rmse_te, axis=0), yerr=variance_te)\n",
    "    plt.figure(2)\n",
    "    plt.errorbar(degrees,\n",
    "                 np.mean(lambda_all, axis=0),\n",
    "                 yerr=np.std(lambda_all, axis=0))\n",
    "    print(degrees[np.argmin(np.mean(rmse_te, axis=0))])\n",
    "    return np.mean(rmse_te, axis=0), variance_te\n",
    "    #plt.figure(2)\n",
    "    #plt.boxplot(rmse_te)\n",
    "\n",
    "\n",
    "rmse_CV, var_CV = best_degree_lambda(y, x)"
   ]
  },
  {
   "cell_type": "code",
   "execution_count": 55,
   "metadata": {
    "ExecuteTime": {
     "end_time": "2019-10-21T11:40:49.139000Z",
     "start_time": "2019-10-21T11:40:49.134296Z"
    }
   },
   "outputs": [
    {
     "data": {
      "text/plain": [
       "array([0.82530948, 0.81605139, 0.85528506, 1.15471421])"
      ]
     },
     "execution_count": 55,
     "metadata": {},
     "output_type": "execute_result"
    }
   ],
   "source": [
    "rmse_CV"
   ]
  },
  {
   "cell_type": "code",
   "execution_count": null,
   "metadata": {},
   "outputs": [],
   "source": []
  }
 ],
 "metadata": {
  "kernelspec": {
   "display_name": "Python 3",
   "language": "python",
   "name": "python3"
  },
  "language_info": {
   "codemirror_mode": {
    "name": "ipython",
    "version": 3
   },
   "file_extension": ".py",
   "mimetype": "text/x-python",
   "name": "python",
   "nbconvert_exporter": "python",
   "pygments_lexer": "ipython3",
   "version": "3.6.7"
  },
  "latex_envs": {
   "LaTeX_envs_menu_present": true,
   "autoclose": true,
   "autocomplete": true,
   "bibliofile": "biblio.bib",
   "cite_by": "apalike",
   "current_citInitial": 1,
   "eqLabelWithNumbers": true,
   "eqNumInitial": 1,
   "hotkeys": {
    "equation": "Ctrl-E",
    "itemize": "Ctrl-I"
   },
   "labels_anchors": false,
   "latex_user_defs": false,
   "report_style_numbering": false,
   "user_envs_cfg": false
  },
  "toc": {
   "base_numbering": 1,
   "nav_menu": {},
   "number_sections": true,
   "sideBar": true,
   "skip_h1_title": false,
   "title_cell": "Table of Contents",
   "title_sidebar": "Contents",
   "toc_cell": false,
   "toc_position": {},
   "toc_section_display": true,
   "toc_window_display": false
  }
 },
 "nbformat": 4,
 "nbformat_minor": 2
}
