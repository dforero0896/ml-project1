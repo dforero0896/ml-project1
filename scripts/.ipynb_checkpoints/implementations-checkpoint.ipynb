{
 "cells": [
  {
   "cell_type": "code",
   "execution_count": 1,
   "metadata": {
    "ExecuteTime": {
     "end_time": "2019-10-23T20:24:38.316661Z",
     "start_time": "2019-10-23T20:24:37.951201Z"
    }
   },
   "outputs": [],
   "source": [
    "from proj1_helpers import *\n",
    "from implementations import *\n",
    "from tests import *\n",
    "from preprocessing import *\n",
    "import numpy as np\n",
    "import matplotlib.pyplot as plt\n"
   ]
  },
  {
   "cell_type": "markdown",
   "metadata": {},
   "source": [
    "# Outline of the pipeline\n",
    "## Import data\n",
    "+ Import raw data. Split original train data into out test and train sets.\n",
    "## Preprocessing\n",
    "+ The file `preprocessing.py` is imported and contains functions to clean (impute with mean), remove columns, standardize and do PCA.\n",
    "+ Preprocess train and test data separately (you can define the number of principal components used with the max_comp parameter. Defaults to 30).\n",
    "## Apply Model\n",
    "+ Apply your preferred model!"
   ]
  },
  {
   "cell_type": "code",
   "execution_count": 2,
   "metadata": {
    "ExecuteTime": {
     "end_time": "2019-10-23T20:25:08.392130Z",
     "start_time": "2019-10-23T20:24:38.482580Z"
    }
   },
   "outputs": [],
   "source": [
    "# Read train_y=LABELS, train_x=FEATURES and train_id=EVENT_IDS from dataset.\n",
    "subsamp = True\n",
    "y, x, id_ = load_csv_data('../data/train.csv', sub_sample=subsamp)\n",
    "y_out_test, x_out_test, id_out_test = load_csv_data('../data/test.csv', sub_sample=subsamp)"
   ]
  },
  {
   "cell_type": "code",
   "execution_count": 3,
   "metadata": {
    "ExecuteTime": {
     "end_time": "2019-10-23T20:25:14.734241Z",
     "start_time": "2019-10-23T20:25:08.394583Z"
    }
   },
   "outputs": [],
   "source": [
    "features = np.loadtxt('../data/train.csv', dtype=str, delimiter=',')[0,2:]\n",
    "def show_PC_explicit(features):\n",
    "    import sympy as sy\n",
    "    features_sym = [sy.symbols(f, real=True, positive=True) for f in features]\n",
    "    display(np.array(features_sym).dot(np.around(transform_train, 1)))"
   ]
  },
  {
   "cell_type": "code",
   "execution_count": 60,
   "metadata": {
    "ExecuteTime": {
     "end_time": "2019-10-23T20:43:42.159328Z",
     "start_time": "2019-10-23T20:43:42.120607Z"
    }
   },
   "outputs": [
    {
     "name": "stdout",
     "output_type": "stream",
     "text": [
      "(1000, 30) (4000, 30)\n"
     ]
    }
   ],
   "source": [
    "clean = True\n",
    "dopca = False\n",
    "max_comp = 30 # For cleaning, and no removing cols\n",
    "\n",
    "x_train, y_train, x_test, y_test = split_data(x, y, ratio=0.8, seed=42)\n",
    "y_train, x_train, x_train_mean, x_train_var, transform_train, eigenvals_train = preprocess(\n",
    "    x_train, y_train, clean=clean, dopca=dopca, max_comp=max_comp)\n",
    "y_test, x_test, x_test_mean, x_test_var, transform_test, eigenvals_test = preprocess(\n",
    "    x_test, y_test, clean=clean, dopca=dopca, max_comp=max_comp)\n",
    "print(x_test.shape, x_train.shape)"
   ]
  },
  {
   "cell_type": "code",
   "execution_count": 68,
   "metadata": {
    "ExecuteTime": {
     "end_time": "2019-10-23T20:48:15.247926Z",
     "start_time": "2019-10-23T20:48:15.221797Z"
    }
   },
   "outputs": [
    {
     "data": {
      "text/plain": [
       "((4000, 61), (1000, 61))"
      ]
     },
     "execution_count": 68,
     "metadata": {},
     "output_type": "execute_result"
    }
   ],
   "source": [
    "degree = 2\n",
    "# Build data matrix with feature expansion\n",
    "tx_train = build_poly(x_train, degree)\n",
    "tx_test = build_poly(x_test, degree)\n",
    "tx_train.shape, tx_test.shape\n"
   ]
  },
  {
   "cell_type": "markdown",
   "metadata": {},
   "source": [
    "# Gradient Descent"
   ]
  },
  {
   "cell_type": "code",
   "execution_count": 71,
   "metadata": {
    "ExecuteTime": {
     "end_time": "2019-10-23T20:49:09.685359Z",
     "start_time": "2019-10-23T20:49:02.057102Z"
    },
    "scrolled": true
   },
   "outputs": [
    {
     "name": "stdout",
     "output_type": "stream",
     "text": [
      "Accuracy ratio = 0.802\n",
      "Test loss = 0.306\n",
      "Train loss = 0.298\n"
     ]
    }
   ],
   "source": [
    "w_init = np.array([0] * tx_train.shape[1])\n",
    "max_iter = 50000\n",
    "gamma = 9e-3\n",
    "w_gd, loss_gd = least_squares_GD(y_train,\n",
    "                                 tx_train,\n",
    "                                 w_init,\n",
    "                                 max_iter,\n",
    "                                 gamma,\n",
    "                                 pr=False,\n",
    "                                 adapt_gamma=False,\n",
    "                                 kind='mse',\n",
    "                                accel=True)\n",
    "gd_prediction = predict_labels(w_gd, tx_test)\n",
    "acc_gd = accuracy_ratio(gd_prediction, y_test)\n",
    "print('Accuracy ratio = %.3f' % acc_gd)\n",
    "print('Test loss = %.3f' % compute_loss(y_test, tx_test, w_gd))\n",
    "print('Train loss = %.3f' % loss_gd)"
   ]
  },
  {
   "cell_type": "markdown",
   "metadata": {
    "ExecuteTime": {
     "end_time": "2019-10-17T12:37:03.486835Z",
     "start_time": "2019-10-17T12:37:03.480662Z"
    }
   },
   "source": [
    "np.savetxt('../data/w_gd_acc.dat', w_gd)"
   ]
  },
  {
   "cell_type": "markdown",
   "metadata": {},
   "source": [
    "# Stochastic Gradient Descent"
   ]
  },
  {
   "cell_type": "code",
   "execution_count": 74,
   "metadata": {
    "ExecuteTime": {
     "end_time": "2019-10-23T20:52:21.720718Z",
     "start_time": "2019-10-23T20:51:42.854531Z"
    },
    "scrolled": true
   },
   "outputs": [
    {
     "name": "stdout",
     "output_type": "stream",
     "text": [
      "Accuracy ratio = 0.75\n",
      "Test loss = 3.33e-01\n",
      "Train loss = 3.34e-01\n"
     ]
    }
   ],
   "source": [
    "w_init = np.array([0] * tx_train.shape[1])\n",
    "max_iter = 50000\n",
    "gamma = 1e-5\n",
    "batch_size = 1\n",
    "\n",
    "w_sgd, loss_sgd = least_squares_SGD(y_train,\n",
    "                                    tx_train,\n",
    "                                    w_init,\n",
    "                                    batch_size,\n",
    "                                    max_iter,\n",
    "                                    gamma,\n",
    "                                    pr=False,\n",
    "                                    adapt_gamma=False,\n",
    "                                    choose_best=True)\n",
    "sgd_prediction = predict_labels(w_sgd, tx_test)\n",
    "acc_sgd = accuracy_ratio(sgd_prediction, y_test)\n",
    "print('Accuracy ratio = %.2f' % acc_sgd)\n",
    "print('Test loss = %.2e' % compute_loss(y_test, tx_test, w_sgd))\n",
    "print('Train loss = %.2e' % loss_sgd)"
   ]
  },
  {
   "cell_type": "markdown",
   "metadata": {},
   "source": [
    "# Least Squares"
   ]
  },
  {
   "cell_type": "code",
   "execution_count": 75,
   "metadata": {
    "ExecuteTime": {
     "end_time": "2019-10-23T20:52:21.730159Z",
     "start_time": "2019-10-23T20:52:21.723262Z"
    }
   },
   "outputs": [
    {
     "name": "stdout",
     "output_type": "stream",
     "text": [
      "Accuracy ratio = 0.43\n",
      "Train loss = 0.30\n",
      "Test loss = 3.07e+03\n"
     ]
    }
   ],
   "source": [
    "w_lsq, loss_lsq = least_squares(y_train, tx_train)\n",
    "lsq_prediction = predict_labels(w_lsq, tx_test)\n",
    "acc_lsq = accuracy_ratio(lsq_prediction, y_test)\n",
    "print('Accuracy ratio = %.2f' % acc_lsq)\n",
    "print('Train loss = %.2f' % loss_lsq)\n",
    "print('Test loss = %.2e' % compute_loss(y_test, tx_test, w_lsq))"
   ]
  },
  {
   "cell_type": "markdown",
   "metadata": {
    "ExecuteTime": {
     "end_time": "2019-10-17T12:45:30.271461Z",
     "start_time": "2019-10-17T12:45:30.267909Z"
    }
   },
   "source": [
    "np.savetxt('../data/w_lsq.dat', w_lsq)"
   ]
  },
  {
   "cell_type": "markdown",
   "metadata": {},
   "source": [
    "# Ridge Regression"
   ]
  },
  {
   "cell_type": "code",
   "execution_count": 83,
   "metadata": {
    "ExecuteTime": {
     "end_time": "2019-10-23T20:56:28.099243Z",
     "start_time": "2019-10-23T20:56:28.073086Z"
    }
   },
   "outputs": [
    {
     "name": "stdout",
     "output_type": "stream",
     "text": [
      "Accuracy ratio = 0.800\n",
      "Test loss = 0.306\n",
      "Train loss = 0.298\n"
     ]
    }
   ],
   "source": [
    "lambda_ = 2e-4\n",
    "w_rr, loss_rr = ridge_regression(y_train, tx_train, lambda_)\n",
    "rr_prediction = predict_labels(w_rr, tx_test)\n",
    "acc_rr = accuracy_ratio(rr_prediction, y_test)\n",
    "print('Accuracy ratio = %.3f'%acc_rr)\n",
    "print('Test loss = %.3f'%compute_loss(y_test, tx_test, w_rr))\n",
    "print('Train loss = %.3f'%loss_rr)"
   ]
  },
  {
   "cell_type": "markdown",
   "metadata": {
    "ExecuteTime": {
     "end_time": "2019-10-18T15:18:22.322364Z",
     "start_time": "2019-10-18T15:18:22.309384Z"
    }
   },
   "source": [
    "np.savetxt('../data/w_rr.dat', w_rr)"
   ]
  },
  {
   "cell_type": "code",
   "execution_count": 84,
   "metadata": {
    "ExecuteTime": {
     "end_time": "2019-10-23T20:56:30.122448Z",
     "start_time": "2019-10-23T20:56:30.106931Z"
    }
   },
   "outputs": [],
   "source": [
    "def ridge_regression_demo(x, y, degree, ratio, seed):\n",
    "    \"\"\"ridge regression demo.\"\"\"\n",
    "    # define parameter\n",
    "    lambdas = np.logspace(-5, 3, 50)\n",
    "    y_pre, x_pre, _, _, _, _ = preprocess(x, y, clean=clean, dopca=True, max_comp=30)\n",
    "    # split the data, and return train and test data\n",
    "    x_train, y_train, x_test, y_test = split_data(x_pre, y_pre, ratio, seed)\n",
    "    tx_train=build_poly(x_train, degree)\n",
    "    tx_test=build_poly(x_test, degree)\n",
    "    rmse_tr = []\n",
    "    rmse_te = []\n",
    "    accuracies = []\n",
    "    for ind, lambda_ in enumerate(lambdas):\n",
    "        # calcualte weight through least square.\n",
    "        w_train, loss_train = ridge_regression(y_train, tx_train, lambda_)\n",
    "        rmse_tr.append(np.sqrt(2*loss_train))\n",
    "        rmse_te.append(np.sqrt(2*compute_loss(y_test, tx_test, w_train, kind = 'mse')))\n",
    "        accuracies.append(accuracy_ratio(predict_labels(w_train, tx_test), y_test))\n",
    "        #print(\"proportion={p}, degree={d}, lambda={l:.3e}, Training RMSE={tr:.3f}, Testing RMSE={te:.3f}, Accuracy={ac:.3f}\".format(\n",
    "         #      p=ratio, d=degree, l=lambda_, tr=rmse_tr[ind], te=rmse_te[ind], ac=accuracies[ind]))\n",
    "        \n",
    "    # Plot the obtained results\n",
    "    plot_train_test(rmse_tr, rmse_te, lambdas, degree)\n",
    "    plt.figure()\n",
    "    plt.semilogx(lambdas,accuracies, marker='o')\n",
    "def plot_train_test(train_errors, test_errors, lambdas, degree):\n",
    "    \"\"\"\n",
    "    train_errors, test_errors and lambas should be list (of the same size) the respective train error and test error for a given lambda,\n",
    "    * lambda[0] = 1\n",
    "    * train_errors[0] = RMSE of a ridge regression on the train set\n",
    "    * test_errors[0] = RMSE of the parameter found by ridge regression applied on the test set\n",
    "    \n",
    "    degree is just used for the title of the plot.\n",
    "    \"\"\"\n",
    "    plt.semilogx(lambdas, train_errors, color='b', marker='*', label=\"Train error\")\n",
    "    plt.semilogx(lambdas, test_errors, color='r', marker='*', label=\"Test error\")\n",
    "    plt.xlabel(\"lambda\")\n",
    "    plt.ylabel(\"RMSE\")\n",
    "    plt.title(\"Ridge regression for polynomial degree \" + str(degree))\n",
    "    leg = plt.legend(loc=1, shadow=True)\n",
    "    leg.draw_frame(False)\n",
    "    plt.savefig(\"../results/ridge_regression\")"
   ]
  },
  {
   "cell_type": "code",
   "execution_count": 85,
   "metadata": {
    "ExecuteTime": {
     "end_time": "2019-10-23T20:56:32.941669Z",
     "start_time": "2019-10-23T20:56:31.227471Z"
    },
    "scrolled": false
   },
   "outputs": [
    {
     "data": {
      "image/png": "[encoded data removed]",
      "text/plain": [
       "<Figure size 432x288 with 1 Axes>"
      ]
     },
     "metadata": {
      "needs_background": "light"
     },
     "output_type": "display_data"
    },
    {
     "data": {
      "image/png": "[encoded data removed]",
      "text/plain": [
       "<Figure size 432x288 with 1 Axes>"
      ]
     },
     "metadata": {
      "needs_background": "light"
     },
     "output_type": "display_data"
    }
   ],
   "source": [
    "seed = 42\n",
    "degree = 3\n",
    "split_ratio = 0.8\n",
    "ridge_regression_demo(x, y, degree, split_ratio, seed)"
   ]
  },
  {
   "cell_type": "code",
   "execution_count": 86,
   "metadata": {
    "ExecuteTime": {
     "end_time": "2019-10-23T20:56:34.925285Z",
     "start_time": "2019-10-23T20:56:34.869599Z"
    }
   },
   "outputs": [],
   "source": [
    "def cross_validation(y, x, k_indices, k, lambda_, degree):\n",
    "    \"\"\"return the loss of ridge regression.\"\"\"\n",
    "    # get k'th subgroup in test, others in train\n",
    "    id_test = k_indices[k]\n",
    "    id_train = k_indices[~(np.arange(k_indices.shape[0]) == k)].reshape(-1)\n",
    "    x_test = x[id_test]\n",
    "    x_train = x[id_train]\n",
    "    y_test = y[id_test]\n",
    "    y_train = y[id_train]\n",
    "    # form data with polynomial degree\n",
    "    tx_train = build_poly(x_train, degree)\n",
    "    tx_test = build_poly(x_test, degree)\n",
    "    # ridge regression\n",
    "    weight, loss_tr = ridge_regression(y_train, tx_train, lambda_)\n",
    "    # calculate the loss for train and test data\n",
    "    loss_te = compute_loss(y_test, tx_test, weight)\n",
    "    accuracy = accuracy_ratio(predict_labels(weight, tx_test), y_test)\n",
    "    return loss_tr, loss_te, accuracy\n",
    "\n",
    "def cross_validation_visualization(lambds, mse_tr, mse_te):\n",
    "    \"\"\"visualization the curves of mse_tr and mse_te.\"\"\"\n",
    "    best_l_err = lambds[np.argmin(mse_te)]\n",
    "    print('Best lambda from error: %.2e'%best_l_err)\n",
    "    plt.semilogx(lambds, mse_tr, marker=\".\", color='b', label='train error')\n",
    "    plt.semilogx(lambds, mse_te, marker=\".\", color='r', label='test error')\n",
    "    plt.axvline(best_l_err, c = 'g', label = '$\\lambda^*_{rmse}=%.1e$'%best_l_err, ls = ':')\n",
    "    plt.xlabel(\"lambda\")\n",
    "    plt.ylabel(\"rmse\")\n",
    "    plt.title(\"cross validation\")\n",
    "    plt.legend(loc=0)\n",
    "    plt.grid(True)\n",
    "    plt.savefig(\"../results/cross_validation\")\n",
    "def cross_validation_visualization_accuracy(lambdas, accuracies):\n",
    "    \"\"\"visualization the curves of mse_tr and mse_te.\"\"\"\n",
    "    plt.semilogx(lambdas, accuracies, lw =2, marker = '*', label = 'Accuracy ratio')\n",
    "    best_l_acc = lambdas[np.argmax(accuracies)]\n",
    "    plt.axvline(best_l_acc, c= 'k', label = '$\\lambda^*_{acc}=%.1e$'%best_l_acc, ls = ':')\n",
    "    print('Best lambda from accuracy: %.2e'%best_l_acc)\n",
    "    plt.xlabel(\"lambda\")\n",
    "    plt.ylabel(\"accuracy\")\n",
    "    plt.title(\"cross validation\")\n",
    "    plt.legend(loc=0)\n",
    "    plt.grid(True)\n",
    "    plt.savefig(\"../results/cross_validation_accuracies\")\n",
    "\n",
    "\n",
    "def cross_validation_demo(x, y, seed = 42, degree = 1, k_fold=4):\n",
    "    lambdas = np.logspace(-7, 3, 30)\n",
    "    # split data in k fold\n",
    "    k_indices = build_k_indices(y, k_fold, seed)\n",
    "    # define lists to store the loss of training data and test data\n",
    "    rmse_tr = []\n",
    "    rmse_te = []\n",
    "    std_tr = []\n",
    "    std_te = []\n",
    "    accuracies = []\n",
    "    # cross validation\n",
    "    for ind, lambda_ in enumerate(lambdas):\n",
    "        x_validation = np.array([cross_validation(y, x, k_indices, k, lambda_, degree) for k in range(k_fold)])\n",
    "        rmse_tr.append(np.mean(np.sqrt(2 * x_validation[:, 0])))\n",
    "        rmse_te.append(np.mean(np.sqrt(2 * x_validation[:, 1])))\n",
    "        std_tr.append(np.std(np.sqrt(2 * x_validation[:, 0])))\n",
    "        std_te.append(np.std(np.sqrt(2 * x_validation[:, 1])))\n",
    "        accuracies.append(np.mean(x_validation[:,2]))\n",
    "    cross_validation_visualization_accuracy(lambdas, accuracies)\n",
    "    plt.figure()\n",
    "    cross_validation_visualization(lambdas, rmse_tr, rmse_te)"
   ]
  },
  {
   "cell_type": "code",
   "execution_count": 87,
   "metadata": {
    "ExecuteTime": {
     "end_time": "2019-10-23T20:56:37.340848Z",
     "start_time": "2019-10-23T20:56:36.062006Z"
    }
   },
   "outputs": [
    {
     "name": "stdout",
     "output_type": "stream",
     "text": [
      "(5000, 30)\n",
      "Best lambda from accuracy: 2.81e-04\n",
      "Best lambda from error: 3.04e-03\n"
     ]
    },
    {
     "data": {
      "image/png": "[encoded data removed]",
      "text/plain": [
       "<Figure size 432x288 with 1 Axes>"
      ]
     },
     "metadata": {
      "needs_background": "light"
     },
     "output_type": "display_data"
    },
    {
     "data": {
      "image/png": "[encoded data removed]",
      "text/plain": [
       "<Figure size 432x288 with 1 Axes>"
      ]
     },
     "metadata": {
      "needs_background": "light"
     },
     "output_type": "display_data"
    }
   ],
   "source": [
    "\n",
    "y_clean, x_clean, _, _, _, _ = preprocess(x, y, clean=clean, dopca=dopca, max_comp=24)\n",
    "print(x_clean.shape)\n",
    "cross_validation_demo(x_clean, y_clean)\n"
   ]
  },
  {
   "cell_type": "markdown",
   "metadata": {
    "heading_collapsed": true
   },
   "source": [
    "# Bias-Variance test"
   ]
  },
  {
   "cell_type": "code",
   "execution_count": null,
   "metadata": {
    "ExecuteTime": {
     "end_time": "2019-10-21T10:12:29.041410Z",
     "start_time": "2019-10-21T10:12:08.532Z"
    },
    "hidden": true
   },
   "outputs": [],
   "source": [
    "def bias_variance_decomposition_visualization(degrees, rmse_tr, rmse_te):\n",
    "    \"\"\"visualize the bias variance decomposition.\"\"\"\n",
    "    rmse_tr_mean = np.expand_dims(np.mean(rmse_tr, axis=0), axis=0)\n",
    "    rmse_te_mean = np.expand_dims(np.mean(rmse_te, axis=0), axis=0)\n",
    "    print(rmse_te_mean, rmse_tr_mean)\n",
    "    plt.plot(degrees,\n",
    "             rmse_tr.T,\n",
    "             'b',\n",
    "             linestyle=\"-\",\n",
    "             color=([0.7, 0.7, 1]),\n",
    "             label='train',\n",
    "             linewidth=0.3)\n",
    "    plt.plot(degrees,\n",
    "             rmse_te.T,\n",
    "             'r',\n",
    "             linestyle=\"-\",\n",
    "             color=[1, 0.7, 0.7],\n",
    "             label='test',\n",
    "             linewidth=0.3)\n",
    "    plt.plot(degrees,\n",
    "             rmse_tr_mean.T,\n",
    "             'b',\n",
    "             linestyle=\"-\",\n",
    "             label='train',\n",
    "             linewidth=3)\n",
    "    plt.plot(degrees,\n",
    "             rmse_te_mean.T,\n",
    "             'r',\n",
    "             linestyle=\"-\",\n",
    "             label='test',\n",
    "             linewidth=3)\n",
    "    plt.ylim(0.7, 1)\n",
    "    plt.xlabel(\"degree\")\n",
    "    plt.ylabel(\"error\")\n",
    "    plt.title(\"Bias-Variance Decomposition\")\n",
    "    plt.savefig(\"bias_variance\")\n",
    "\n",
    "\n",
    "def bias_variance_demo():\n",
    "    \"\"\"The entry.\"\"\"\n",
    "    # define parameters\n",
    "    seeds = range(100)\n",
    "    ratio_train = 0.5\n",
    "    degrees = range(1, 8)\n",
    "    # define list to store the variable\n",
    "    rmse_tr = np.empty((len(seeds), len(degrees)))\n",
    "    rmse_te = np.empty((len(seeds), len(degrees)))\n",
    "    for index_seed, seed in enumerate(seeds):\n",
    "        np.random.seed(seed)\n",
    "        # split data with a specific seed\n",
    "        x_train, y_train, x_test, y_test = split_data(x, y, ratio_train, seed)\n",
    "        x_train_std = standardize(x_train)[0]\n",
    "        x_test_std = standardize(x_test)[0]\n",
    "        for index_degrees, degree in enumerate(degrees):\n",
    "            tx_train = build_poly(x_train_std, degree)\n",
    "            tx_test = build_poly(x_test_std, degree)\n",
    "            weight, loss_tr = ridge_regression(y_train, tx_train, 1.89e-05 )\n",
    "            loss_te = compute_loss(y_test, tx_test, weight, kind='mse')\n",
    "            rmse_tr[index_seed, index_degrees] = np.sqrt(2 * loss_tr)\n",
    "            rmse_te[index_seed, index_degrees] = np.sqrt(2 * loss_te)\n",
    "    bias_variance_decomposition_visualization(degrees, rmse_tr, rmse_te)\n",
    "\n",
    "\n",
    "bias_variance_demo()"
   ]
  },
  {
   "cell_type": "code",
   "execution_count": null,
   "metadata": {
    "ExecuteTime": {
     "end_time": "2019-10-21T10:12:29.043327Z",
     "start_time": "2019-10-21T10:12:08.534Z"
    },
    "hidden": true
   },
   "outputs": [],
   "source": [
    "print(id_out_test.shape)\n",
    "x_out_test_std = standardize_features(x_out_test)\n",
    "x_out = x_out_test_std[0]\n",
    "tx_out = build_poly(x_out, 2)\n",
    "\n",
    "create_csv_submission(id_out_test, predict_labels(w_rr, tx_out) , '../results/rr_pred.csv')\n",
    "create_csv_submission(id_out_test, predict_labels(w_gd, tx_out) , '../results/gd_pred_accel.csv')\n",
    "create_csv_submission(id_out_test, predict_labels(w_lsq, tx_out) , '../results/lsq_pred.csv')\n",
    "#create_csv_submission(id_out_test, predict_labels(w_sgd, tx_out) , '../results/sgd_pred_noadapt.csv')"
   ]
  },
  {
   "cell_type": "markdown",
   "metadata": {},
   "source": [
    "# Logistic Regression"
   ]
  },
  {
   "cell_type": "code",
   "execution_count": 106,
   "metadata": {
    "ExecuteTime": {
     "end_time": "2019-10-23T21:07:42.077160Z",
     "start_time": "2019-10-23T21:07:20.209805Z"
    },
    "scrolled": false
   },
   "outputs": [
    {
     "name": "stdout",
     "output_type": "stream",
     "text": [
      "Accuracy ratio = 0.822\n",
      "Test loss = 406.991\n",
      "Train loss = 1578.969\n"
     ]
    }
   ],
   "source": [
    "y_train_log = np.copy(y_train)\n",
    "y_train_log[y_train == -1] = 0\n",
    "\n",
    "y_test_log = np.copy(y_test)\n",
    "y_test_log[y_test == -1] = 0\n",
    "\n",
    "w_init = np.array([0] * tx_train.shape[1])\n",
    "max_iter = 50000\n",
    "gamma = 1e-5\n",
    "w_lrgd, loss_lrgd = logistic_regression(y_train_log,\n",
    "                                        tx_train,\n",
    "                                        w_init,\n",
    "                                        max_iter,\n",
    "                                        gamma,\n",
    "                                        pr=False,\n",
    "                                        adapt_gamma=False,\n",
    "                                       accel=False)\n",
    "\n",
    "lrgd_prediction = predict_labels(w_lrgd, tx_test)\n",
    "acc_lrgd = accuracy_ratio(lrgd_prediction, y_test)\n",
    "\n",
    "print('Accuracy ratio = %.3f' % acc_lrgd)\n",
    "print('Test loss = %.3f' % compute_loss_logistic(y_test_log, tx_test, w_lrgd))\n",
    "print('Train loss = %.3f' % loss_lrgd)"
   ]
  },
  {
   "cell_type": "code",
   "execution_count": 107,
   "metadata": {
    "ExecuteTime": {
     "end_time": "2019-10-23T21:08:04.784700Z",
     "start_time": "2019-10-23T21:07:42.079683Z"
    },
    "scrolled": false
   },
   "outputs": [
    {
     "name": "stdout",
     "output_type": "stream",
     "text": [
      "Accuracy ratio = 0.813\n",
      "Test loss = 415.699\n",
      "Train loss = 1686.613\n"
     ]
    }
   ],
   "source": [
    "lambda_ = 50\n",
    "gamma = 1e-6\n",
    "w_rlrgd, loss_rlrgd = reg_logistic_regression(y_train_log,\n",
    "                                              tx_train,\n",
    "                                              lambda_,\n",
    "                                              w_init,\n",
    "                                              max_iter,\n",
    "                                              gamma,\n",
    "                                              pr=False,\n",
    "                                              adapt_gamma=False, \n",
    "                                              accel=False)\n",
    "rlrgd_prediction = predict_labels(w_rlrgd, tx_test)\n",
    "acc_rlrgd = accuracy_ratio(rlrgd_prediction, y_test)\n",
    "print('Accuracy ratio = %.3f' % acc_rlrgd)\n",
    "print('Test loss = %.3f' % compute_loss_logistic(y_test_log, tx_test, w_rlrgd))\n",
    "print('Train loss = %.3f' % loss_rlrgd)"
   ]
  },
  {
   "cell_type": "markdown",
   "metadata": {},
   "source": [
    "# Logistic regression NEW"
   ]
  },
  {
   "cell_type": "code",
   "execution_count": 38,
   "metadata": {
    "ExecuteTime": {
     "end_time": "2019-10-23T20:35:09.808539Z",
     "start_time": "2019-10-23T20:35:04.482987Z"
    }
   },
   "outputs": [
    {
     "name": "stdout",
     "output_type": "stream",
     "text": [
      "Logistic Regression GD (0/9999): loss=5545.177444479563\n",
      "Logistic Regression GD (100/9999): loss=4159.1746194058405\n",
      "Logistic Regression GD (200/9999): loss=4079.5519988883957\n",
      "Logistic Regression GD (300/9999): loss=4055.596584839993\n",
      "Logistic Regression GD (400/9999): loss=4043.643002196344\n",
      "Logistic Regression GD (500/9999): loss=4036.4248132661496\n",
      "Logistic Regression GD (600/9999): loss=4031.712505097891\n",
      "Logistic Regression GD (700/9999): loss=4028.508333051692\n",
      "Logistic Regression GD (800/9999): loss=4026.268273997741\n",
      "Logistic Regression GD (900/9999): loss=4024.6660377549997\n",
      "Logistic Regression GD (1000/9999): loss=4023.4960668912927\n",
      "Logistic Regression GD (1100/9999): loss=4022.6249576069986\n",
      "Logistic Regression GD (1200/9999): loss=4021.964267822065\n",
      "Logistic Regression GD (1300/9999): loss=4021.454332408736\n",
      "Logistic Regression GD (1400/9999): loss=4021.0542685642176\n",
      "Logistic Regression GD (1500/9999): loss=4020.7356482801747\n",
      "Logistic Regression GD (1600/9999): loss=4020.478416890808\n",
      "Logistic Regression GD (1700/9999): loss=4020.268220342553\n",
      "Logistic Regression GD (1800/9999): loss=4020.0946323276153\n",
      "Logistic Regression GD (1900/9999): loss=4019.949964874867\n",
      "Logistic Regression GD (2000/9999): loss=4019.8284620386985\n",
      "Logistic Regression GD (2100/9999): loss=4019.7257478866522\n",
      "Logistic Regression GD (2200/9999): loss=4019.6384449280076\n",
      "Logistic Regression GD (2300/9999): loss=4019.5639077860105\n",
      "Logistic Regression GD (2400/9999): loss=4019.5000354345457\n",
      "Logistic Regression GD (2500/9999): loss=4019.445137420018\n",
      "Logistic Regression GD (2600/9999): loss=4019.3978374725066\n",
      "Logistic Regression GD (2700/9999): loss=4019.3570032222597\n",
      "Logistic Regression GD (2800/9999): loss=4019.3216942983177\n",
      "Logistic Regression GD (2900/9999): loss=4019.2911234889925\n",
      "Logistic Regression GD (3000/9999): loss=4019.2646272751626\n",
      "Logistic Regression GD (3100/9999): loss=4019.2416431610454\n",
      "Logistic Regression GD (3200/9999): loss=4019.221691991569\n",
      "Logistic Regression GD (3300/9999): loss=4019.2043639730136\n",
      "Logistic Regression GD (3400/9999): loss=4019.189307479602\n",
      "Logistic Regression GD (3500/9999): loss=4019.1762199841796\n",
      "Logistic Regression GD (3600/9999): loss=4019.1648406304103\n",
      "Logistic Regression GD (3700/9999): loss=4019.154944090798\n",
      "Logistic Regression GD (3800/9999): loss=4019.146335445001\n",
      "Logistic Regression GD (3900/9999): loss=4019.138845877881\n",
      "Logistic Regression GD (4000/9999): loss=4019.1323290436303\n",
      "Logistic Regression GD (4100/9999): loss=4019.1266579767944\n",
      "Logistic Regression GD (4200/9999): loss=4019.121722456468\n",
      "Logistic Regression GD (4300/9999): loss=4019.1174267490474\n",
      "Logistic Regression GD (4400/9999): loss=4019.1136876693918\n",
      "Logistic Regression GD (4500/9999): loss=4019.110432911435\n",
      "Logistic Regression GD (4600/9999): loss=4019.10759960789\n",
      "Logistic Regression GD (4700/9999): loss=4019.105133085613\n",
      "Logistic Regression GD (4800/9999): loss=4019.1029857885997\n",
      "Logistic Regression GD (4900/9999): loss=4019.101116345031\n",
      "Logistic Regression GD (5000/9999): loss=4019.099488758395\n",
      "Logistic Regression GD (5100/9999): loss=4019.09807170568\n",
      "Logistic Regression GD (5200/9999): loss=4019.0968379281007\n",
      "Logistic Regression GD (5300/9999): loss=4019.095763701919\n",
      "Logistic Regression GD (5400/9999): loss=4019.094828378632\n",
      "Logistic Regression GD (5500/9999): loss=4019.094013985322\n",
      "Logistic Regression GD (5600/9999): loss=4019.0933048771994\n",
      "Logistic Regression GD (5700/9999): loss=4019.0926874354373\n",
      "Logistic Regression GD (5800/9999): loss=4019.0921498043886\n",
      "Logistic Regression GD (5900/9999): loss=4019.0916816629665\n",
      "Logistic Regression GD (6000/9999): loss=4019.091274025757\n",
      "Logistic Regression GD (6100/9999): loss=4019.090919069971\n",
      "Logistic Regression GD (6200/9999): loss=4019.0906099848507\n",
      "Logistic Regression GD (6300/9999): loss=4019.090340840623\n",
      "Logistic Regression GD (6400/9999): loss=4019.090106474442\n",
      "Logistic Regression GD (6500/9999): loss=4019.089902391132\n",
      "Logistic Regression GD (6600/9999): loss=4019.0897246767718\n",
      "Logistic Regression GD (6700/9999): loss=4019.089569923496\n",
      "Logistic Regression GD (6800/9999): loss=4019.0894351640154\n",
      "Logistic Regression GD (6900/9999): loss=4019.089317814638\n",
      "Logistic Regression GD (7000/9999): loss=4019.0892156256514\n",
      "Logistic Regression GD (7100/9999): loss=4019.0891266381295\n",
      "Logistic Regression GD (7200/9999): loss=4019.0890491463306\n",
      "Logistic Regression GD (7300/9999): loss=4019.088981664968\n",
      "Logistic Regression GD (7400/9999): loss=4019.0889229006953\n",
      "Logistic Regression GD (7500/9999): loss=4019.088871727311\n",
      "Logistic Regression GD (7600/9999): loss=4019.0888271641343\n",
      "Logistic Regression GD (7700/9999): loss=4019.0887883572077\n",
      "Logistic Regression GD (7800/9999): loss=4019.0887545629093\n",
      "Logistic Regression GD (7900/9999): loss=4019.0887251337026\n",
      "Logistic Regression GD (8000/9999): loss=4019.088699505707\n",
      "Logistic Regression GD (8100/9999): loss=4019.0886771879004\n",
      "Logistic Regression GD (8200/9999): loss=4019.0886577526912\n",
      "Logistic Regression GD (8300/9999): loss=4019.088640827731\n",
      "Logistic Regression GD (8400/9999): loss=4019.088626088773\n",
      "Logistic Regression GD (8500/9999): loss=4019.088613253456\n",
      "Logistic Regression GD (8600/9999): loss=4019.0886020758985\n",
      "Logistic Regression GD (8700/9999): loss=4019.0885923419764\n",
      "Logistic Regression GD (8800/9999): loss=4019.0885838652284\n",
      "Logistic Regression GD (8900/9999): loss=4019.0885764832756\n",
      "Logistic Regression GD (9000/9999): loss=4019.088570054716\n",
      "Logistic Regression GD (9100/9999): loss=4019.088564456413\n",
      "Logistic Regression GD (9200/9999): loss=4019.0885595811305\n",
      "Logistic Regression GD (9300/9999): loss=4019.08855533549\n",
      "Logistic Regression GD (9400/9999): loss=4019.0885516381686\n",
      "Logistic Regression GD (9500/9999): loss=4019.088548418349\n",
      "Logistic Regression GD (9600/9999): loss=4019.0885456143624\n",
      "Logistic Regression GD (9700/9999): loss=4019.0885431725014\n",
      "Logistic Regression GD (9800/9999): loss=4019.0885410459987\n",
      "Logistic Regression GD (9900/9999): loss=4019.088539194126\n",
      "Accuracy ratio = 0.611\n",
      "Test loss = 1731.715\n",
      "Train loss = 4019.089\n",
      "[-9.80077533e-01  2.48756887e-01  3.86307305e-01  6.15613697e-02\n",
      " -4.98882300e-01 -6.79122231e-05 -1.78229012e-01  3.10679388e-02\n",
      " -7.84047468e-02  8.11278808e-02  3.23827834e-02 -1.34738630e-01\n",
      "  4.92562170e-01  7.83801476e-02  4.53981256e-02 -3.31865327e-01\n",
      " -2.65911775e-01  1.43086360e-01  5.59030813e-02 -1.48120841e-01\n",
      " -1.21649087e-01  3.00309779e-01 -9.16818105e-01  2.10750207e-01\n",
      " -4.68888617e-01]\n"
     ]
    }
   ],
   "source": [
    "w_init = np.zeros(tx_train.shape[1])\n",
    "max_iter = 10000\n",
    "gamma = 1e-5\n",
    "w_lrgd, loss_lrgd = logistic_regression(y_train,\n",
    "                                        tx_train,\n",
    "                                        w_init,\n",
    "                                        max_iter,\n",
    "                                        gamma,\n",
    "                                        pr=True,\n",
    "                                        adapt_gamma=False,\n",
    "                                       accel=False,\n",
    "                                       new=True)\n",
    "\n",
    "lrgd_prediction = predict_labels(w_lrgd, tx_test)\n",
    "\n",
    "acc_lrgd = accuracy_ratio(lrgd_prediction, y_test)\n",
    "\n",
    "print('Accuracy ratio = %.3f' % acc_lrgd)\n",
    "print('Test loss = %.3f' % compute_loss_logistic_new(y_test, tx_test, w_lrgd))\n",
    "print('Train loss = %.3f' % loss_lrgd)\n",
    "print((w_lrgd))"
   ]
  },
  {
   "cell_type": "code",
   "execution_count": 39,
   "metadata": {
    "ExecuteTime": {
     "end_time": "2019-10-23T20:35:14.830175Z",
     "start_time": "2019-10-23T20:35:09.813385Z"
    }
   },
   "outputs": [
    {
     "name": "stdout",
     "output_type": "stream",
     "text": [
      " Regularized Logistic Regression GD (0/9999): loss=5545.177444479563\n",
      " Regularized Logistic Regression GD (100/9999): loss=4358.142951873687\n",
      " Regularized Logistic Regression GD (200/9999): loss=4218.428105570968\n",
      " Regularized Logistic Regression GD (300/9999): loss=4177.366843521876\n",
      " Regularized Logistic Regression GD (400/9999): loss=4160.660137717538\n",
      " Regularized Logistic Regression GD (500/9999): loss=4152.222548933174\n",
      " Regularized Logistic Regression GD (600/9999): loss=4147.30798784666\n",
      " Regularized Logistic Regression GD (700/9999): loss=4144.183489699961\n",
      " Regularized Logistic Regression GD (800/9999): loss=4142.090926258587\n",
      " Regularized Logistic Regression GD (900/9999): loss=4140.644867311096\n",
      " Regularized Logistic Regression GD (1000/9999): loss=4139.625583907525\n",
      " Regularized Logistic Regression GD (1100/9999): loss=4138.897368762487\n",
      " Regularized Logistic Regression GD (1200/9999): loss=4138.371859234052\n",
      " Regularized Logistic Regression GD (1300/9999): loss=4137.989524050776\n",
      " Regularized Logistic Regression GD (1400/9999): loss=4137.709355122653\n",
      " Regularized Logistic Regression GD (1500/9999): loss=4137.502677568368\n",
      " Regularized Logistic Regression GD (1600/9999): loss=4137.349225428573\n",
      " Regularized Logistic Regression GD (1700/9999): loss=4137.234559038683\n",
      " Regularized Logistic Regression GD (1800/9999): loss=4137.148321691305\n",
      " Regularized Logistic Regression GD (1900/9999): loss=4137.083042196186\n",
      " Regularized Logistic Regression GD (2000/9999): loss=4137.033302256949\n",
      " Regularized Logistic Regression GD (2100/9999): loss=4136.995152286239\n",
      " Regularized Logistic Regression GD (2200/9999): loss=4136.965698678264\n",
      " Regularized Logistic Regression GD (2300/9999): loss=4136.942810569978\n",
      " Regularized Logistic Regression GD (2400/9999): loss=4136.9249104928895\n",
      " Regularized Logistic Regression GD (2500/9999): loss=4136.910824269911\n",
      " Regularized Logistic Regression GD (2600/9999): loss=4136.899672956552\n",
      " Regularized Logistic Regression GD (2700/9999): loss=4136.8907947458065\n",
      " Regularized Logistic Regression GD (2800/9999): loss=4136.883688308591\n",
      " Regularized Logistic Regression GD (2900/9999): loss=4136.877971523416\n",
      " Regularized Logistic Regression GD (3000/9999): loss=4136.873351292392\n",
      " Regularized Logistic Regression GD (3100/9999): loss=4136.86960137099\n",
      " Regularized Logistic Regression GD (3200/9999): loss=4136.866546010496\n",
      " Regularized Logistic Regression GD (3300/9999): loss=4136.864047831695\n",
      " Regularized Logistic Regression GD (3400/9999): loss=4136.861998790079\n",
      " Regularized Logistic Regression GD (3500/9999): loss=4136.860313408714\n",
      " Regularized Logistic Regression GD (3600/9999): loss=4136.858923681458\n",
      " Regularized Logistic Regression GD (3700/9999): loss=4136.857775211968\n",
      " Regularized Logistic Regression GD (3800/9999): loss=4136.856824271406\n",
      " Regularized Logistic Regression GD (3900/9999): loss=4136.8560355424515\n",
      " Regularized Logistic Regression GD (4000/9999): loss=4136.855380378812\n",
      " Regularized Logistic Regression GD (4100/9999): loss=4136.854835454063\n",
      " Regularized Logistic Regression GD (4200/9999): loss=4136.854381706226\n",
      " Regularized Logistic Regression GD (4300/9999): loss=4136.854003508351\n",
      " Regularized Logistic Regression GD (4400/9999): loss=4136.853688012873\n",
      " Regularized Logistic Regression GD (4500/9999): loss=4136.853424630394\n",
      " Regularized Logistic Regression GD (4600/9999): loss=4136.853204613107\n",
      " Regularized Logistic Regression GD (4700/9999): loss=4136.853020720174\n",
      " Regularized Logistic Regression GD (4800/9999): loss=4136.85286694766\n",
      " Regularized Logistic Regression GD (4900/9999): loss=4136.85273830965\n",
      " Regularized Logistic Regression GD (5000/9999): loss=4136.852630660108\n",
      " Regularized Logistic Regression GD (5100/9999): loss=4136.8525405474065\n",
      " Regularized Logistic Regression GD (5200/9999): loss=4136.852465095117\n",
      " Regularized Logistic Regression GD (5300/9999): loss=4136.852401904066\n",
      " Regularized Logistic Regression GD (5400/9999): loss=4136.85234897164\n",
      " Regularized Logistic Regression GD (5500/9999): loss=4136.852304625141\n",
      " Regularized Logistic Regression GD (5600/9999): loss=4136.852267466644\n",
      " Regularized Logistic Regression GD (5700/9999): loss=4136.8522363273005\n",
      " Regularized Logistic Regression GD (5800/9999): loss=4136.852210229382\n",
      " Regularized Logistic Regression GD (5900/9999): loss=4136.852188354739\n",
      " Regularized Logistic Regression GD (6000/9999): loss=4136.852170018542\n",
      " Regularized Logistic Regression GD (6100/9999): loss=4136.852154647408\n",
      " Regularized Logistic Regression GD (6200/9999): loss=4136.852141761141\n",
      " Regularized Logistic Regression GD (6300/9999): loss=4136.852130957525\n",
      " Regularized Logistic Regression GD (6400/9999): loss=4136.852121899591\n",
      " Regularized Logistic Regression GD (6500/9999): loss=4136.852114304998\n",
      " Regularized Logistic Regression GD (6600/9999): loss=4136.852107937144\n",
      " Regularized Logistic Regression GD (6700/9999): loss=4136.852102597738\n",
      " Regularized Logistic Regression GD (6800/9999): loss=4136.8520981205775\n",
      " Regularized Logistic Regression GD (6900/9999): loss=4136.852094366351\n",
      " Regularized Logistic Regression GD (7000/9999): loss=4136.852091218273\n",
      " Regularized Logistic Regression GD (7100/9999): loss=4136.852088578438\n",
      " Regularized Logistic Regression GD (7200/9999): loss=4136.8520863647655\n",
      " Regularized Logistic Regression GD (7300/9999): loss=4136.852084508442\n",
      " Regularized Logistic Regression GD (7400/9999): loss=4136.852082951763\n",
      " Regularized Logistic Regression GD (7500/9999): loss=4136.852081646354\n",
      " Regularized Logistic Regression GD (7600/9999): loss=4136.852080551647\n",
      "Accuracy ratio = 0.617\n",
      "Test loss = 1534.007\n",
      "Train loss = 4136.852\n",
      "[-0.85196978  0.20819606  0.354001    0.05312898 -0.45539981 -0.02308218\n",
      " -0.17593255  0.02486306 -0.06534421  0.098468    0.02000262 -0.11063628\n",
      "  0.38933966  0.07246181  0.01914008 -0.24707715 -0.21110407  0.10478567\n",
      "  0.04242786 -0.07836199 -0.10124266  0.16031516 -0.59158971  0.13246535\n",
      " -0.15080712]\n"
     ]
    }
   ],
   "source": [
    "lambda_ = 100\n",
    "gamma = 5e-6\n",
    "w_rlrgd, loss_rlrgd = reg_logistic_regression(y_train,\n",
    "                                              tx_train,\n",
    "                                              lambda_,\n",
    "                                              w_init,\n",
    "                                              max_iter,\n",
    "                                              gamma,\n",
    "                                              pr=True,\n",
    "                                              adapt_gamma=False, \n",
    "                                              accel=False,\n",
    "                                              new = True)\n",
    "rlrgd_prediction = predict_labels(w_rlrgd, tx_test)\n",
    "acc_rlrgd = accuracy_ratio(rlrgd_prediction, y_test)\n",
    "print('Accuracy ratio = %.3f' % acc_rlrgd)\n",
    "print('Test loss = %.3f' % compute_loss_logistic_new(y_test, tx_test, w_rlrgd))\n",
    "print('Train loss = %.3f' % loss_rlrgd)\n",
    "print((w_rlrgd))"
   ]
  },
  {
   "cell_type": "code",
   "execution_count": 54,
   "metadata": {
    "ExecuteTime": {
     "end_time": "2019-10-21T11:40:49.132002Z",
     "start_time": "2019-10-21T11:40:11.716871Z"
    }
   },
   "outputs": [
    {
     "name": "stdout",
     "output_type": "stream",
     "text": [
      "2\n"
     ]
    },
    {
     "data": {
      "image/png": "[encoded data removed]",
      "text/plain": [
       "<Figure size 432x288 with 1 Axes>"
      ]
     },
     "metadata": {
      "needs_background": "light"
     },
     "output_type": "display_data"
    },
    {
     "data": {
      "image/png": "[encoded data removed]",
      "text/plain": [
       "<Figure size 432x288 with 1 Axes>"
      ]
     },
     "metadata": {
      "needs_background": "light"
     },
     "output_type": "display_data"
    }
   ],
   "source": [
    "def cross_validation(y, x, k_indices, k, lambda_, degree):\n",
    "    \"\"\"return the loss of ridge regression.\"\"\"\n",
    "  \n",
    "    index = np.arange(k_indices.shape[0])\n",
    "    index_te = k\n",
    "    index_tr = index[index!=index_te]\n",
    "    \n",
    "    x_tr = x[np.ravel(k_indices[index_tr])]\n",
    "    x_te = x[         k_indices[index_te]]\n",
    "    y_tr = y[np.ravel(k_indices[index_tr])]\n",
    "    y_te = y[         k_indices[index_te]]\n",
    "    tx_tr = build_poly(x_tr, degree)\n",
    "    tx_te = build_poly(x_te, degree)\n",
    "    \n",
    "    weight, loss_tr = ridge_regression(y_tr, tx_tr, lambda_)\n",
    "  \n",
    "    loss_te = compute_loss(y_te, tx_te, weight)\n",
    "    return loss_tr, loss_te, weight\n",
    "\n",
    "def best_degree_lambda(y, x):\n",
    "    \"\"\"The entry.\"\"\"\n",
    "    # define parameters\n",
    "    seeds = range(20)\n",
    "    lambdas = np.logspace(-7, 0, 30)\n",
    "    \n",
    "    k_fold = 4\n",
    "    ratio_train = 0.3\n",
    "    degrees = range(1, 5)\n",
    "    \n",
    "    # define list to store the variable\n",
    "    rmse_te = np.empty((len(seeds), len(degrees)))\n",
    "    lambda_all = np.empty((len(seeds), len(degrees)))\n",
    "    \n",
    "    variance_te = np.empty(len(degrees))\n",
    "    \n",
    "    for index_seed, seed in enumerate(seeds):\n",
    "        np.random.seed(seed)\n",
    "        \n",
    "        x_tr, y_tr, x_te, y_te = split_data(x, y, ratio_train, seed)\n",
    "        #print(x_tr.shape)\n",
    "        y_train, x_train = clean_data(y_tr, x_tr)\n",
    "        #y_test, x_test = clean_data(y_test, x_test)\n",
    "        \n",
    "        x_tr_std = standardize_features(x_train)[0]\n",
    "        x_te_std = standardize_features(x_te)[0]\n",
    "        \n",
    "        k_indices = build_k_indices(y_tr, k_fold, 1)\n",
    "    \n",
    "        for index_deg, deg in enumerate(degrees):\n",
    "            tx_te = build_poly(x_te_std, deg)\n",
    "            \n",
    "            ws_lambda = []\n",
    "            loss_te_lambda = np.empty(len(lambdas))\n",
    "            \n",
    "            for index_l, lambda_ in enumerate(lambdas):\n",
    "                ws_k= []\n",
    "                loss_te_k=np.empty(k_fold)\n",
    "                \n",
    "                for k in range(k_fold):\n",
    "                    _, loss_te_tmp, w_tmp = cross_validation(y_tr, x_tr_std, k_indices, k, lambda_, deg)\n",
    "                    loss_te_k[k] = loss_te_tmp\n",
    "                    ws_k.append(w_tmp)\n",
    "                    \n",
    "                loss_te_lambda[index_l] = np.mean(loss_te_k)    \n",
    "                ws_lambda.append(ws_k)\n",
    "                \n",
    "            ind_opt_lambda = np.argmin(loss_te_lambda)\n",
    "            ws_opt = ws_lambda[ind_opt_lambda]\n",
    "            \n",
    "            loss_te = np.mean([np.sqrt(2*compute_loss(y_te, tx_te, w)) for w in ws_opt])             \n",
    "            rmse_te[index_seed,index_deg] = loss_te \n",
    "            lambda_all[index_seed,index_deg] = lambdas[ind_opt_lambda]\n",
    "            \n",
    "    variance_te = np.std(rmse_te, axis=0)\n",
    "    \n",
    "    plt.figure(1)\n",
    "    plt.errorbar(degrees, np.mean(rmse_te,axis=0), yerr=variance_te)\n",
    "    plt.figure(2)\n",
    "    plt.errorbar(degrees, np.mean(lambda_all,axis=0), yerr=np.std(lambda_all, axis=0))\n",
    "    print(degrees[np.argmin(np.mean(rmse_te,axis=0))])\n",
    "    return np.mean(rmse_te,axis=0), variance_te\n",
    "    #plt.figure(2)\n",
    "    #plt.boxplot(rmse_te)\n",
    "    \n",
    "    \n",
    "         \n",
    "rmse_CV, var_CV = best_degree_lambda(y, x)\n"
   ]
  },
  {
   "cell_type": "code",
   "execution_count": 55,
   "metadata": {
    "ExecuteTime": {
     "end_time": "2019-10-21T11:40:49.139000Z",
     "start_time": "2019-10-21T11:40:49.134296Z"
    }
   },
   "outputs": [
    {
     "data": {
      "text/plain": [
       "array([0.82530948, 0.81605139, 0.85528506, 1.15471421])"
      ]
     },
     "execution_count": 55,
     "metadata": {},
     "output_type": "execute_result"
    }
   ],
   "source": [
    "rmse_CV"
   ]
  },
  {
   "cell_type": "code",
   "execution_count": null,
   "metadata": {},
   "outputs": [],
   "source": []
  }
 ],
 "metadata": {
  "kernelspec": {
   "display_name": "Python 3",
   "language": "python",
   "name": "python3"
  },
  "language_info": {
   "codemirror_mode": {
    "name": "ipython",
    "version": 3
   },
   "file_extension": ".py",
   "mimetype": "text/x-python",
   "name": "python",
   "nbconvert_exporter": "python",
   "pygments_lexer": "ipython3",
   "version": "3.6.7"
  },
  "latex_envs": {
   "LaTeX_envs_menu_present": true,
   "autoclose": true,
   "autocomplete": true,
   "bibliofile": "biblio.bib",
   "cite_by": "apalike",
   "current_citInitial": 1,
   "eqLabelWithNumbers": true,
   "eqNumInitial": 1,
   "hotkeys": {
    "equation": "Ctrl-E",
    "itemize": "Ctrl-I"
   },
   "labels_anchors": false,
   "latex_user_defs": false,
   "report_style_numbering": false,
   "user_envs_cfg": false
  },
  "toc": {
   "base_numbering": 1,
   "nav_menu": {},
   "number_sections": true,
   "sideBar": true,
   "skip_h1_title": false,
   "title_cell": "Table of Contents",
   "title_sidebar": "Contents",
   "toc_cell": false,
   "toc_position": {},
   "toc_section_display": true,
   "toc_window_display": false
  }
 },
 "nbformat": 4,
 "nbformat_minor": 2
}
