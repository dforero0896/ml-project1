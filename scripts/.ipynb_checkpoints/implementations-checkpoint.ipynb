{
 "cells": [
  {
   "cell_type": "code",
   "execution_count": 1,
   "metadata": {
    "ExecuteTime": {
     "end_time": "2019-10-21T10:35:23.974441Z",
     "start_time": "2019-10-21T10:35:23.787452Z"
    }
   },
   "outputs": [],
   "source": [
    "from proj1_helpers import *\n",
    "from implementations import *\n",
    "from tests import *\n",
    "import numpy as np\n",
    "import matplotlib.pyplot as plt"
   ]
  },
  {
   "cell_type": "code",
   "execution_count": 2,
   "metadata": {
    "ExecuteTime": {
     "end_time": "2019-10-21T10:35:45.048752Z",
     "start_time": "2019-10-21T10:35:23.975713Z"
    }
   },
   "outputs": [],
   "source": [
    "# Read train_y=LABELS, train_x=FEATURES and train_id=EVENT_IDS from dataset.\n",
    "subsamp = True\n",
    "y, x, id_ = load_csv_data('../data/train.csv', sub_sample=subsamp)\n",
    "y_out_test, x_out_test, id_out_test = load_csv_data('../data/test.csv', sub_sample=subsamp)"
   ]
  },
  {
   "cell_type": "code",
   "execution_count": 3,
   "metadata": {
    "ExecuteTime": {
     "end_time": "2019-10-21T10:35:45.098845Z",
     "start_time": "2019-10-21T10:35:45.050934Z"
    }
   },
   "outputs": [
    {
     "data": {
      "text/plain": [
       "((3500, 31), (1500, 31))"
      ]
     },
     "execution_count": 3,
     "metadata": {},
     "output_type": "execute_result"
    }
   ],
   "source": [
    "clean=True\n",
    "degree = 1\n",
    "feature_expansion = False\n",
    "x_train, y_train, x_test, y_test = split_data(x, y, ratio=0.7, seed = 42)\n",
    "if clean:\n",
    "    # Clean data\n",
    "    y_train, x_train = clean_data(y_train, x_train)\n",
    "    y_test, x_test = clean_data(y_test, x_test)\n",
    "# Standardize data\n",
    "x_train_std = standardize_features(x_train)\n",
    "x_test_std = standardize_features(x_test)\n",
    "x_train = x_train_std[0]\n",
    "x_test = x_test_std[0]\n",
    "# Build data matrix\n",
    "tx_train = build_poly(x_train, degree)\n",
    "tx_test = build_poly(x_test, degree)\n",
    "tx_train.shape, tx_test.shape\n"
   ]
  },
  {
   "cell_type": "markdown",
   "metadata": {},
   "source": [
    "# Gradient Descent"
   ]
  },
  {
   "cell_type": "code",
   "execution_count": 4,
   "metadata": {
    "ExecuteTime": {
     "end_time": "2019-10-21T10:35:45.156901Z",
     "start_time": "2019-10-21T10:35:45.101132Z"
    },
    "scrolled": true
   },
   "outputs": [
    {
     "name": "stdout",
     "output_type": "stream",
     "text": [
      "GD (0/399): loss=0.5\n",
      "GD (100/399): loss=0.34957340673389997\n",
      "GD (200/399): loss=0.33664709279876065\n",
      "GD (300/399): loss=0.3354845395553578\n",
      "Accuracy ratio = 0.765\n",
      "Test loss = 0.320\n",
      "Train loss = 0.335\n"
     ]
    }
   ],
   "source": [
    "w_init = np.array([0] * tx_train.shape[1])\n",
    "max_iter = 400\n",
    "gamma = 0.0009\n",
    "w_gd, loss_gd = least_squares_GD(y_train,\n",
    "                                 tx_train,\n",
    "                                 w_init,\n",
    "                                 max_iter,\n",
    "                                 gamma,\n",
    "                                 pr=True,\n",
    "                                 adapt_gamma=False,\n",
    "                                 kind='mse',\n",
    "                                accel=True)\n",
    "gd_prediction = predict_labels(w_gd, tx_test)\n",
    "acc_gd = accuracy_ratio(gd_prediction, y_test)\n",
    "print('Accuracy ratio = %.3f' % acc_gd)\n",
    "print('Test loss = %.3f' % compute_loss(y_test, tx_test, w_gd))\n",
    "print('Train loss = %.3f' % loss_gd)"
   ]
  },
  {
   "cell_type": "markdown",
   "metadata": {
    "ExecuteTime": {
     "end_time": "2019-10-17T12:37:03.486835Z",
     "start_time": "2019-10-17T12:37:03.480662Z"
    }
   },
   "source": [
    "np.savetxt('../data/w_gd_acc.dat', w_gd)"
   ]
  },
  {
   "cell_type": "markdown",
   "metadata": {},
   "source": [
    "# Stochastic Gradient Descent"
   ]
  },
  {
   "cell_type": "code",
   "execution_count": 5,
   "metadata": {
    "ExecuteTime": {
     "end_time": "2019-10-21T10:35:46.792530Z",
     "start_time": "2019-10-21T10:35:45.159088Z"
    },
    "scrolled": true
   },
   "outputs": [
    {
     "name": "stdout",
     "output_type": "stream",
     "text": [
      "SGD (0/4999): loss=0.5\n",
      "SGD (100/4999): loss=0.4739756150989605\n",
      "SGD (200/4999): loss=0.46568461343118445\n",
      "SGD (300/4999): loss=0.4814658833494064\n",
      "SGD (400/4999): loss=0.44688381454721116\n",
      "SGD (500/4999): loss=0.5290497953894876\n",
      "SGD (600/4999): loss=0.4476247144543855\n",
      "SGD (700/4999): loss=0.46662766674990336\n",
      "SGD (800/4999): loss=0.35496426186947017\n",
      "SGD (900/4999): loss=0.4223583791094096\n",
      "SGD (1000/4999): loss=0.3863797255137133\n",
      "SGD (1100/4999): loss=0.4397107162960953\n",
      "SGD (1200/4999): loss=0.3601137590892632\n",
      "SGD (1300/4999): loss=0.44391122697408825\n",
      "SGD (1400/4999): loss=0.46253288635260664\n",
      "SGD (1500/4999): loss=0.5334092617867483\n",
      "SGD (1600/4999): loss=0.48910995447078165\n",
      "SGD (1700/4999): loss=0.45750471386052677\n",
      "SGD (1800/4999): loss=0.3543757095567505\n",
      "SGD (1900/4999): loss=0.5253471412730096\n",
      "SGD (2000/4999): loss=0.36155447471737745\n",
      "SGD (2100/4999): loss=0.5557552324982894\n",
      "SGD (2200/4999): loss=0.3023918406338444\n",
      "SGD (2300/4999): loss=0.38697510483374165\n",
      "SGD (2400/4999): loss=0.34671529878257434\n",
      "SGD (2500/4999): loss=0.25372479433718037\n",
      "SGD (2600/4999): loss=0.34352502972924004\n",
      "SGD (2700/4999): loss=0.27684165975780173\n",
      "SGD (2800/4999): loss=0.6476941490434127\n",
      "SGD (2900/4999): loss=1.24824066536086\n",
      "SGD (3000/4999): loss=0.5670353988293416\n",
      "SGD (3100/4999): loss=0.38183032170771325\n",
      "SGD (3200/4999): loss=0.4913020955291647\n",
      "SGD (3300/4999): loss=0.3031628428121728\n",
      "SGD (3400/4999): loss=0.1893603942473753\n",
      "SGD (3500/4999): loss=0.40614744562273924\n",
      "SGD (3600/4999): loss=0.18225725117955682\n",
      "SGD (3700/4999): loss=0.33564465321033865\n",
      "SGD (3800/4999): loss=0.8906189711484671\n",
      "SGD (3900/4999): loss=0.48691720629813395\n",
      "SGD (4000/4999): loss=0.5072812885792851\n",
      "SGD (4100/4999): loss=1.018640504180816\n",
      "SGD (4200/4999): loss=0.6839051049947279\n",
      "SGD (4300/4999): loss=0.5975782012385593\n",
      "SGD (4400/4999): loss=0.6132192351227864\n",
      "SGD (4500/4999): loss=0.3555887870136112\n",
      "SGD (4600/4999): loss=0.6097362992874209\n",
      "SGD (4700/4999): loss=0.14012181191438572\n",
      "SGD (4800/4999): loss=0.2872108113473146\n",
      "SGD (4900/4999): loss=0.26529123579973113\n",
      "Accuracy ratio = 0.74\n",
      "Test loss = 3.77e-01\n",
      "Train loss = 3.83e-01\n"
     ]
    }
   ],
   "source": [
    "w_init = np.array([0] * tx_train.shape[1])\n",
    "max_iter = 5000\n",
    "gamma = 1e-4\n",
    "batch_size = 1\n",
    "\n",
    "w_sgd, loss_sgd = least_squares_SGD(y_train,\n",
    "                                    tx_train,\n",
    "                                    w_init,\n",
    "                                    batch_size,\n",
    "                                    max_iter,\n",
    "                                    gamma,\n",
    "                                    pr=True,\n",
    "                                    adapt_gamma=False,\n",
    "                                    choose_best=True)\n",
    "sgd_prediction = predict_labels(w_sgd, tx_test)\n",
    "acc_sgd = accuracy_ratio(sgd_prediction, y_test)\n",
    "print('Accuracy ratio = %.2f' % acc_sgd)\n",
    "print('Test loss = %.2e' % compute_loss(y_test, tx_test, w_sgd))\n",
    "print('Train loss = %.2e' % loss_sgd)"
   ]
  },
  {
   "cell_type": "markdown",
   "metadata": {},
   "source": [
    "# Least Squares"
   ]
  },
  {
   "cell_type": "code",
   "execution_count": 6,
   "metadata": {
    "ExecuteTime": {
     "end_time": "2019-10-21T10:35:46.799939Z",
     "start_time": "2019-10-21T10:35:46.793992Z"
    }
   },
   "outputs": [
    {
     "name": "stdout",
     "output_type": "stream",
     "text": [
      "Accuracy ratio = 0.50\n",
      "Train loss = 0.33\n",
      "Test loss = 1.05e+04\n"
     ]
    }
   ],
   "source": [
    "w_lsq, loss_lsq = least_squares(y_train, tx_train)\n",
    "lsq_prediction = predict_labels(w_lsq, tx_test)\n",
    "acc_lsq = accuracy_ratio(lsq_prediction, y_test)\n",
    "print('Accuracy ratio = %.2f' % acc_lsq)\n",
    "print('Train loss = %.2f' % loss_lsq)\n",
    "print('Test loss = %.2e' % compute_loss(y_test, tx_test, w_lsq))"
   ]
  },
  {
   "cell_type": "markdown",
   "metadata": {
    "ExecuteTime": {
     "end_time": "2019-10-17T12:45:30.271461Z",
     "start_time": "2019-10-17T12:45:30.267909Z"
    }
   },
   "source": [
    "np.savetxt('../data/w_lsq.dat', w_lsq)"
   ]
  },
  {
   "cell_type": "markdown",
   "metadata": {},
   "source": [
    "# Ridge Regression"
   ]
  },
  {
   "cell_type": "code",
   "execution_count": 7,
   "metadata": {
    "ExecuteTime": {
     "end_time": "2019-10-21T10:35:46.811556Z",
     "start_time": "2019-10-21T10:35:46.801596Z"
    }
   },
   "outputs": [
    {
     "name": "stdout",
     "output_type": "stream",
     "text": [
      "Accuracy ratio = 0.765\n",
      "Test loss = 0.326\n",
      "Train loss = 0.335\n"
     ]
    }
   ],
   "source": [
    "lambda_ = 3.3e-2\n",
    "w_rr, loss_rr = ridge_regression(y_train, tx_train, lambda_)\n",
    "rr_prediction = predict_labels(w_rr, tx_test)\n",
    "acc_rr = accuracy_ratio(rr_prediction, y_test)\n",
    "print('Accuracy ratio = %.3f'%acc_rr)\n",
    "print('Test loss = %.3f'%compute_loss(y_test, tx_test, w_rr))\n",
    "print('Train loss = %.3f'%loss_rr)"
   ]
  },
  {
   "cell_type": "markdown",
   "metadata": {
    "ExecuteTime": {
     "end_time": "2019-10-18T15:18:22.322364Z",
     "start_time": "2019-10-18T15:18:22.309384Z"
    }
   },
   "source": [
    "np.savetxt('../data/w_rr.dat', w_rr)"
   ]
  },
  {
   "cell_type": "code",
   "execution_count": 8,
   "metadata": {
    "ExecuteTime": {
     "end_time": "2019-10-21T10:35:46.826408Z",
     "start_time": "2019-10-21T10:35:46.813373Z"
    }
   },
   "outputs": [],
   "source": [
    "def ridge_regression_demo(x, y, degree, ratio, seed):\n",
    "    \"\"\"ridge regression demo.\"\"\"\n",
    "    # define parameter\n",
    "    lambdas = np.logspace(-5, 3, 50)\n",
    "    # split the data, and return train and test data\n",
    "    x_train, y_train, x_test, y_test = split_data(x, y, ratio, seed)\n",
    "    #Clean\n",
    "    if clean:\n",
    "        y_train, x_train = clean_data(y_train, x_train)\n",
    "        y_test, x_test = clean_data(y_test, x_test)\n",
    "    # form train and test data with offset column\n",
    "    x_train_std = standardize_features(x_train)[0]\n",
    "    x_test_std = standardize_features(x_test)[0]\n",
    "    tx_train=build_poly(x_train_std, degree)\n",
    "    tx_test=build_poly(x_test_std, degree)\n",
    "    rmse_tr = []\n",
    "    rmse_te = []\n",
    "    accuracies = []\n",
    "    for ind, lambda_ in enumerate(lambdas):\n",
    "        # calcualte weight through least square.\n",
    "        w_train, loss_train = ridge_regression(y_train, tx_train, lambda_)\n",
    "        rmse_tr.append(np.sqrt(2*loss_train))\n",
    "        rmse_te.append(np.sqrt(2*compute_loss(y_test, tx_test, w_train, kind = 'mse')))\n",
    "        accuracies.append(accuracy_ratio(predict_labels(w_train, tx_test), y_test))\n",
    "        print(\"proportion={p}, degree={d}, lambda={l:.3e}, Training RMSE={tr:.3f}, Testing RMSE={te:.3f}, Accuracy={ac:.3f}\".format(\n",
    "               p=ratio, d=degree, l=lambda_, tr=rmse_tr[ind], te=rmse_te[ind], ac=accuracies[ind]))\n",
    "        \n",
    "    # Plot the obtained results\n",
    "    plot_train_test(rmse_tr, rmse_te, lambdas, degree)\n",
    "    plt.figure()\n",
    "    plt.semilogx(lambdas,accuracies, marker='o')\n",
    "def plot_train_test(train_errors, test_errors, lambdas, degree):\n",
    "    \"\"\"\n",
    "    train_errors, test_errors and lambas should be list (of the same size) the respective train error and test error for a given lambda,\n",
    "    * lambda[0] = 1\n",
    "    * train_errors[0] = RMSE of a ridge regression on the train set\n",
    "    * test_errors[0] = RMSE of the parameter found by ridge regression applied on the test set\n",
    "    \n",
    "    degree is just used for the title of the plot.\n",
    "    \"\"\"\n",
    "    plt.semilogx(lambdas, train_errors, color='b', marker='*', label=\"Train error\")\n",
    "    plt.semilogx(lambdas, test_errors, color='r', marker='*', label=\"Test error\")\n",
    "    plt.xlabel(\"lambda\")\n",
    "    plt.ylabel(\"RMSE\")\n",
    "    plt.title(\"Ridge regression for polynomial degree \" + str(degree))\n",
    "    leg = plt.legend(loc=1, shadow=True)\n",
    "    leg.draw_frame(False)\n",
    "    plt.savefig(\"../results/ridge_regression\")"
   ]
  },
  {
   "cell_type": "code",
   "execution_count": 9,
   "metadata": {
    "ExecuteTime": {
     "end_time": "2019-10-21T10:35:48.013114Z",
     "start_time": "2019-10-21T10:35:46.827950Z"
    },
    "scrolled": false
   },
   "outputs": [
    {
     "name": "stdout",
     "output_type": "stream",
     "text": [
      "proportion=0.9, degree=2, lambda=1.000e-05, Training RMSE=0.772, Testing RMSE=0.786, Accuracy=0.802\n",
      "proportion=0.9, degree=2, lambda=1.456e-05, Training RMSE=0.772, Testing RMSE=0.786, Accuracy=0.802\n",
      "proportion=0.9, degree=2, lambda=2.121e-05, Training RMSE=0.772, Testing RMSE=0.786, Accuracy=0.802\n",
      "proportion=0.9, degree=2, lambda=3.089e-05, Training RMSE=0.772, Testing RMSE=0.786, Accuracy=0.802\n",
      "proportion=0.9, degree=2, lambda=4.498e-05, Training RMSE=0.772, Testing RMSE=0.786, Accuracy=0.802\n",
      "proportion=0.9, degree=2, lambda=6.551e-05, Training RMSE=0.772, Testing RMSE=0.786, Accuracy=0.802\n",
      "proportion=0.9, degree=2, lambda=9.541e-05, Training RMSE=0.772, Testing RMSE=0.786, Accuracy=0.802\n",
      "proportion=0.9, degree=2, lambda=1.389e-04, Training RMSE=0.772, Testing RMSE=0.786, Accuracy=0.802\n",
      "proportion=0.9, degree=2, lambda=2.024e-04, Training RMSE=0.772, Testing RMSE=0.786, Accuracy=0.802\n",
      "proportion=0.9, degree=2, lambda=2.947e-04, Training RMSE=0.772, Testing RMSE=0.786, Accuracy=0.802\n",
      "proportion=0.9, degree=2, lambda=4.292e-04, Training RMSE=0.772, Testing RMSE=0.786, Accuracy=0.802\n",
      "proportion=0.9, degree=2, lambda=6.251e-04, Training RMSE=0.772, Testing RMSE=0.786, Accuracy=0.802\n",
      "proportion=0.9, degree=2, lambda=9.103e-04, Training RMSE=0.772, Testing RMSE=0.786, Accuracy=0.802\n",
      "proportion=0.9, degree=2, lambda=1.326e-03, Training RMSE=0.772, Testing RMSE=0.786, Accuracy=0.800\n",
      "proportion=0.9, degree=2, lambda=1.931e-03, Training RMSE=0.772, Testing RMSE=0.787, Accuracy=0.796\n",
      "proportion=0.9, degree=2, lambda=2.812e-03, Training RMSE=0.772, Testing RMSE=0.787, Accuracy=0.796\n",
      "proportion=0.9, degree=2, lambda=4.095e-03, Training RMSE=0.772, Testing RMSE=0.787, Accuracy=0.792\n",
      "proportion=0.9, degree=2, lambda=5.964e-03, Training RMSE=0.773, Testing RMSE=0.788, Accuracy=0.796\n",
      "proportion=0.9, degree=2, lambda=8.685e-03, Training RMSE=0.773, Testing RMSE=0.789, Accuracy=0.800\n",
      "proportion=0.9, degree=2, lambda=1.265e-02, Training RMSE=0.774, Testing RMSE=0.790, Accuracy=0.802\n",
      "proportion=0.9, degree=2, lambda=1.842e-02, Training RMSE=0.775, Testing RMSE=0.791, Accuracy=0.802\n",
      "proportion=0.9, degree=2, lambda=2.683e-02, Training RMSE=0.776, Testing RMSE=0.792, Accuracy=0.798\n",
      "proportion=0.9, degree=2, lambda=3.907e-02, Training RMSE=0.778, Testing RMSE=0.794, Accuracy=0.798\n",
      "proportion=0.9, degree=2, lambda=5.690e-02, Training RMSE=0.780, Testing RMSE=0.795, Accuracy=0.798\n",
      "proportion=0.9, degree=2, lambda=8.286e-02, Training RMSE=0.783, Testing RMSE=0.797, Accuracy=0.788\n",
      "proportion=0.9, degree=2, lambda=1.207e-01, Training RMSE=0.785, Testing RMSE=0.799, Accuracy=0.784\n",
      "proportion=0.9, degree=2, lambda=1.758e-01, Training RMSE=0.789, Testing RMSE=0.802, Accuracy=0.780\n",
      "proportion=0.9, degree=2, lambda=2.560e-01, Training RMSE=0.794, Testing RMSE=0.806, Accuracy=0.770\n",
      "proportion=0.9, degree=2, lambda=3.728e-01, Training RMSE=0.801, Testing RMSE=0.811, Accuracy=0.762\n",
      "proportion=0.9, degree=2, lambda=5.429e-01, Training RMSE=0.810, Testing RMSE=0.819, Accuracy=0.752\n",
      "proportion=0.9, degree=2, lambda=7.906e-01, Training RMSE=0.821, Testing RMSE=0.828, Accuracy=0.744\n",
      "proportion=0.9, degree=2, lambda=1.151e+00, Training RMSE=0.834, Testing RMSE=0.840, Accuracy=0.742\n",
      "proportion=0.9, degree=2, lambda=1.677e+00, Training RMSE=0.848, Testing RMSE=0.853, Accuracy=0.734\n",
      "proportion=0.9, degree=2, lambda=2.442e+00, Training RMSE=0.863, Testing RMSE=0.868, Accuracy=0.716\n",
      "proportion=0.9, degree=2, lambda=3.556e+00, Training RMSE=0.880, Testing RMSE=0.884, Accuracy=0.710\n",
      "proportion=0.9, degree=2, lambda=5.179e+00, Training RMSE=0.896, Testing RMSE=0.900, Accuracy=0.702\n",
      "proportion=0.9, degree=2, lambda=7.543e+00, Training RMSE=0.912, Testing RMSE=0.915, Accuracy=0.692\n",
      "proportion=0.9, degree=2, lambda=1.099e+01, Training RMSE=0.927, Testing RMSE=0.930, Accuracy=0.692\n",
      "proportion=0.9, degree=2, lambda=1.600e+01, Training RMSE=0.940, Testing RMSE=0.943, Accuracy=0.684\n",
      "proportion=0.9, degree=2, lambda=2.330e+01, Training RMSE=0.952, Testing RMSE=0.955, Accuracy=0.680\n",
      "proportion=0.9, degree=2, lambda=3.393e+01, Training RMSE=0.962, Testing RMSE=0.964, Accuracy=0.680\n",
      "proportion=0.9, degree=2, lambda=4.942e+01, Training RMSE=0.971, Testing RMSE=0.972, Accuracy=0.680\n",
      "proportion=0.9, degree=2, lambda=7.197e+01, Training RMSE=0.977, Testing RMSE=0.979, Accuracy=0.678\n",
      "proportion=0.9, degree=2, lambda=1.048e+02, Training RMSE=0.983, Testing RMSE=0.984, Accuracy=0.674\n",
      "proportion=0.9, degree=2, lambda=1.526e+02, Training RMSE=0.988, Testing RMSE=0.988, Accuracy=0.676\n",
      "proportion=0.9, degree=2, lambda=2.223e+02, Training RMSE=0.991, Testing RMSE=0.992, Accuracy=0.678\n",
      "proportion=0.9, degree=2, lambda=3.237e+02, Training RMSE=0.994, Testing RMSE=0.994, Accuracy=0.678\n",
      "proportion=0.9, degree=2, lambda=4.715e+02, Training RMSE=0.995, Testing RMSE=0.996, Accuracy=0.676\n",
      "proportion=0.9, degree=2, lambda=6.866e+02, Training RMSE=0.997, Testing RMSE=0.997, Accuracy=0.674\n",
      "proportion=0.9, degree=2, lambda=1.000e+03, Training RMSE=0.998, Testing RMSE=0.998, Accuracy=0.674\n"
     ]
    },
    {
     "data": {
      "image/png": "[encoded data removed]",
      "text/plain": [
       "<Figure size 432x288 with 1 Axes>"
      ]
     },
     "metadata": {
      "needs_background": "light"
     },
     "output_type": "display_data"
    },
    {
     "data": {
      "image/png": "[encoded data removed]",
      "text/plain": [
       "<Figure size 432x288 with 1 Axes>"
      ]
     },
     "metadata": {
      "needs_background": "light"
     },
     "output_type": "display_data"
    }
   ],
   "source": [
    "seed = 42\n",
    "degree = 2\n",
    "split_ratio = 0.9\n",
    "ridge_regression_demo(x, y, degree, split_ratio, seed)"
   ]
  },
  {
   "cell_type": "code",
   "execution_count": null,
   "metadata": {},
   "outputs": [],
   "source": [
    "def cross_validation_demo(x, y, seed = 42, degree = 1, k_fold=4):\n",
    "    lambdas = np.logspace(-7, 3, 30)\n",
    "    # split data in k fold\n",
    "    k_indices = build_k_indices(y, k_fold, seed)\n",
    "    # define lists to store the loss of training data and test data\n",
    "    rmse_tr = []\n",
    "    rmse_te = []\n",
    "    std_tr = []\n",
    "    std_te = []\n",
    "    accuracies = []\n",
    "    # cross validation\n",
    "    for ind, lambda_ in enumerate(lambdas):\n",
    "        x_validation = np.array([cross_validation(y, x, k_indices, k, lambda_, degree) for k in range(k_fold)])\n",
    "        rmse_tr.append(np.mean(np.sqrt(2 * x_validation[:, 0])))\n",
    "        rmse_te.append(np.mean(np.sqrt(2 * x_validation[:, 1])))\n",
    "        std_tr.append(np.std(np.sqrt(2 * x_validation[:, 0])))\n",
    "        std_te.append(np.std(np.sqrt(2 * x_validation[:, 1])))\n",
    "        accuracies.append(np.mean(x_validation[:,2]))\n",
    "    cross_validation_visualization_accuracy(lambdas, accuracies)\n",
    "    plt.figure()\n",
    "    cross_validation_visualization(lambdas, rmse_tr, rmse_te)"
   ]
  },
  {
   "cell_type": "code",
   "execution_count": 10,
   "metadata": {
    "ExecuteTime": {
     "end_time": "2019-10-21T10:36:04.430967Z",
     "start_time": "2019-10-21T10:36:04.340127Z"
    }
   },
   "outputs": [
    {
     "ename": "NameError",
     "evalue": "name 'ridge_regression' is not defined",
     "output_type": "error",
     "traceback": [
      "\u001b[0;31m---------------------------------------------------------------------------\u001b[0m",
      "\u001b[0;31mNameError\u001b[0m                                 Traceback (most recent call last)",
      "\u001b[0;32m<ipython-input-10-a3f88f706687>\u001b[0m in \u001b[0;36m<module>\u001b[0;34m\u001b[0m\n\u001b[1;32m      2\u001b[0m \u001b[0my_clean\u001b[0m\u001b[0;34m,\u001b[0m \u001b[0mx_clean\u001b[0m \u001b[0;34m=\u001b[0m \u001b[0mclean_data\u001b[0m\u001b[0;34m(\u001b[0m\u001b[0my\u001b[0m\u001b[0;34m,\u001b[0m \u001b[0mx\u001b[0m\u001b[0;34m)\u001b[0m\u001b[0;34m\u001b[0m\u001b[0;34m\u001b[0m\u001b[0m\n\u001b[1;32m      3\u001b[0m \u001b[0mx_clean\u001b[0m\u001b[0;34m,\u001b[0m \u001b[0mx_mean\u001b[0m\u001b[0;34m,\u001b[0m \u001b[0mx_variance\u001b[0m \u001b[0;34m=\u001b[0m \u001b[0mstandardize_features\u001b[0m\u001b[0;34m(\u001b[0m\u001b[0mx_clean\u001b[0m\u001b[0;34m)\u001b[0m\u001b[0;34m\u001b[0m\u001b[0;34m\u001b[0m\u001b[0m\n\u001b[0;32m----> 4\u001b[0;31m \u001b[0mcross_validation_demo\u001b[0m\u001b[0;34m(\u001b[0m\u001b[0mx_clean\u001b[0m\u001b[0;34m,\u001b[0m \u001b[0my_clean\u001b[0m\u001b[0;34m)\u001b[0m\u001b[0;34m\u001b[0m\u001b[0;34m\u001b[0m\u001b[0m\n\u001b[0m",
      "\u001b[0;32m~/gdrive/EPFL/2019-2020/MachineLearning/Project/ml-project1/scripts/tests.py\u001b[0m in \u001b[0;36mcross_validation_demo\u001b[0;34m(x, y, seed, degree, k_fold)\u001b[0m\n\u001b[1;32m     14\u001b[0m     \u001b[0;31m# cross validation\u001b[0m\u001b[0;34m\u001b[0m\u001b[0;34m\u001b[0m\u001b[0;34m\u001b[0m\u001b[0m\n\u001b[1;32m     15\u001b[0m     \u001b[0;32mfor\u001b[0m \u001b[0mind\u001b[0m\u001b[0;34m,\u001b[0m \u001b[0mlambda_\u001b[0m \u001b[0;32min\u001b[0m \u001b[0menumerate\u001b[0m\u001b[0;34m(\u001b[0m\u001b[0mlambdas\u001b[0m\u001b[0;34m)\u001b[0m\u001b[0;34m:\u001b[0m\u001b[0;34m\u001b[0m\u001b[0;34m\u001b[0m\u001b[0m\n\u001b[0;32m---> 16\u001b[0;31m         \u001b[0mx_validation\u001b[0m \u001b[0;34m=\u001b[0m \u001b[0mnp\u001b[0m\u001b[0;34m.\u001b[0m\u001b[0marray\u001b[0m\u001b[0;34m(\u001b[0m\u001b[0;34m[\u001b[0m\u001b[0mcross_validation\u001b[0m\u001b[0;34m(\u001b[0m\u001b[0my\u001b[0m\u001b[0;34m,\u001b[0m \u001b[0mx\u001b[0m\u001b[0;34m,\u001b[0m \u001b[0mk_indices\u001b[0m\u001b[0;34m,\u001b[0m \u001b[0mk\u001b[0m\u001b[0;34m,\u001b[0m \u001b[0mlambda_\u001b[0m\u001b[0;34m,\u001b[0m \u001b[0mdegree\u001b[0m\u001b[0;34m)\u001b[0m \u001b[0;32mfor\u001b[0m \u001b[0mk\u001b[0m \u001b[0;32min\u001b[0m \u001b[0mrange\u001b[0m\u001b[0;34m(\u001b[0m\u001b[0mk_fold\u001b[0m\u001b[0;34m)\u001b[0m\u001b[0;34m]\u001b[0m\u001b[0;34m)\u001b[0m\u001b[0;34m\u001b[0m\u001b[0;34m\u001b[0m\u001b[0m\n\u001b[0m\u001b[1;32m     17\u001b[0m         \u001b[0mrmse_tr\u001b[0m\u001b[0;34m.\u001b[0m\u001b[0mappend\u001b[0m\u001b[0;34m(\u001b[0m\u001b[0mnp\u001b[0m\u001b[0;34m.\u001b[0m\u001b[0mmean\u001b[0m\u001b[0;34m(\u001b[0m\u001b[0mnp\u001b[0m\u001b[0;34m.\u001b[0m\u001b[0msqrt\u001b[0m\u001b[0;34m(\u001b[0m\u001b[0;36m2\u001b[0m \u001b[0;34m*\u001b[0m \u001b[0mx_validation\u001b[0m\u001b[0;34m[\u001b[0m\u001b[0;34m:\u001b[0m\u001b[0;34m,\u001b[0m \u001b[0;36m0\u001b[0m\u001b[0;34m]\u001b[0m\u001b[0;34m)\u001b[0m\u001b[0;34m)\u001b[0m\u001b[0;34m)\u001b[0m\u001b[0;34m\u001b[0m\u001b[0;34m\u001b[0m\u001b[0m\n\u001b[1;32m     18\u001b[0m         \u001b[0mrmse_te\u001b[0m\u001b[0;34m.\u001b[0m\u001b[0mappend\u001b[0m\u001b[0;34m(\u001b[0m\u001b[0mnp\u001b[0m\u001b[0;34m.\u001b[0m\u001b[0mmean\u001b[0m\u001b[0;34m(\u001b[0m\u001b[0mnp\u001b[0m\u001b[0;34m.\u001b[0m\u001b[0msqrt\u001b[0m\u001b[0;34m(\u001b[0m\u001b[0;36m2\u001b[0m \u001b[0;34m*\u001b[0m \u001b[0mx_validation\u001b[0m\u001b[0;34m[\u001b[0m\u001b[0;34m:\u001b[0m\u001b[0;34m,\u001b[0m \u001b[0;36m1\u001b[0m\u001b[0;34m]\u001b[0m\u001b[0;34m)\u001b[0m\u001b[0;34m)\u001b[0m\u001b[0;34m)\u001b[0m\u001b[0;34m\u001b[0m\u001b[0;34m\u001b[0m\u001b[0m\n",
      "\u001b[0;32m~/gdrive/EPFL/2019-2020/MachineLearning/Project/ml-project1/scripts/tests.py\u001b[0m in \u001b[0;36m<listcomp>\u001b[0;34m(.0)\u001b[0m\n\u001b[1;32m     14\u001b[0m     \u001b[0;31m# cross validation\u001b[0m\u001b[0;34m\u001b[0m\u001b[0;34m\u001b[0m\u001b[0;34m\u001b[0m\u001b[0m\n\u001b[1;32m     15\u001b[0m     \u001b[0;32mfor\u001b[0m \u001b[0mind\u001b[0m\u001b[0;34m,\u001b[0m \u001b[0mlambda_\u001b[0m \u001b[0;32min\u001b[0m \u001b[0menumerate\u001b[0m\u001b[0;34m(\u001b[0m\u001b[0mlambdas\u001b[0m\u001b[0;34m)\u001b[0m\u001b[0;34m:\u001b[0m\u001b[0;34m\u001b[0m\u001b[0;34m\u001b[0m\u001b[0m\n\u001b[0;32m---> 16\u001b[0;31m         \u001b[0mx_validation\u001b[0m \u001b[0;34m=\u001b[0m \u001b[0mnp\u001b[0m\u001b[0;34m.\u001b[0m\u001b[0marray\u001b[0m\u001b[0;34m(\u001b[0m\u001b[0;34m[\u001b[0m\u001b[0mcross_validation\u001b[0m\u001b[0;34m(\u001b[0m\u001b[0my\u001b[0m\u001b[0;34m,\u001b[0m \u001b[0mx\u001b[0m\u001b[0;34m,\u001b[0m \u001b[0mk_indices\u001b[0m\u001b[0;34m,\u001b[0m \u001b[0mk\u001b[0m\u001b[0;34m,\u001b[0m \u001b[0mlambda_\u001b[0m\u001b[0;34m,\u001b[0m \u001b[0mdegree\u001b[0m\u001b[0;34m)\u001b[0m \u001b[0;32mfor\u001b[0m \u001b[0mk\u001b[0m \u001b[0;32min\u001b[0m \u001b[0mrange\u001b[0m\u001b[0;34m(\u001b[0m\u001b[0mk_fold\u001b[0m\u001b[0;34m)\u001b[0m\u001b[0;34m]\u001b[0m\u001b[0;34m)\u001b[0m\u001b[0;34m\u001b[0m\u001b[0;34m\u001b[0m\u001b[0m\n\u001b[0m\u001b[1;32m     17\u001b[0m         \u001b[0mrmse_tr\u001b[0m\u001b[0;34m.\u001b[0m\u001b[0mappend\u001b[0m\u001b[0;34m(\u001b[0m\u001b[0mnp\u001b[0m\u001b[0;34m.\u001b[0m\u001b[0mmean\u001b[0m\u001b[0;34m(\u001b[0m\u001b[0mnp\u001b[0m\u001b[0;34m.\u001b[0m\u001b[0msqrt\u001b[0m\u001b[0;34m(\u001b[0m\u001b[0;36m2\u001b[0m \u001b[0;34m*\u001b[0m \u001b[0mx_validation\u001b[0m\u001b[0;34m[\u001b[0m\u001b[0;34m:\u001b[0m\u001b[0;34m,\u001b[0m \u001b[0;36m0\u001b[0m\u001b[0;34m]\u001b[0m\u001b[0;34m)\u001b[0m\u001b[0;34m)\u001b[0m\u001b[0;34m)\u001b[0m\u001b[0;34m\u001b[0m\u001b[0;34m\u001b[0m\u001b[0m\n\u001b[1;32m     18\u001b[0m         \u001b[0mrmse_te\u001b[0m\u001b[0;34m.\u001b[0m\u001b[0mappend\u001b[0m\u001b[0;34m(\u001b[0m\u001b[0mnp\u001b[0m\u001b[0;34m.\u001b[0m\u001b[0mmean\u001b[0m\u001b[0;34m(\u001b[0m\u001b[0mnp\u001b[0m\u001b[0;34m.\u001b[0m\u001b[0msqrt\u001b[0m\u001b[0;34m(\u001b[0m\u001b[0;36m2\u001b[0m \u001b[0;34m*\u001b[0m \u001b[0mx_validation\u001b[0m\u001b[0;34m[\u001b[0m\u001b[0;34m:\u001b[0m\u001b[0;34m,\u001b[0m \u001b[0;36m1\u001b[0m\u001b[0;34m]\u001b[0m\u001b[0;34m)\u001b[0m\u001b[0;34m)\u001b[0m\u001b[0;34m)\u001b[0m\u001b[0;34m\u001b[0m\u001b[0;34m\u001b[0m\u001b[0m\n",
      "\u001b[0;32m~/gdrive/EPFL/2019-2020/MachineLearning/Project/ml-project1/scripts/proj1_helpers.py\u001b[0m in \u001b[0;36mcross_validation\u001b[0;34m(y, x, k_indices, k, lambda_, degree)\u001b[0m\n\u001b[1;32m    101\u001b[0m     \u001b[0mtx_test\u001b[0m \u001b[0;34m=\u001b[0m \u001b[0mbuild_poly\u001b[0m\u001b[0;34m(\u001b[0m\u001b[0mx_test\u001b[0m\u001b[0;34m,\u001b[0m \u001b[0mdegree\u001b[0m\u001b[0;34m)\u001b[0m\u001b[0;34m\u001b[0m\u001b[0;34m\u001b[0m\u001b[0m\n\u001b[1;32m    102\u001b[0m     \u001b[0;31m# ridge regression\u001b[0m\u001b[0;34m\u001b[0m\u001b[0;34m\u001b[0m\u001b[0;34m\u001b[0m\u001b[0m\n\u001b[0;32m--> 103\u001b[0;31m     \u001b[0mweight\u001b[0m\u001b[0;34m,\u001b[0m \u001b[0mloss_tr\u001b[0m \u001b[0;34m=\u001b[0m \u001b[0mridge_regression\u001b[0m\u001b[0;34m(\u001b[0m\u001b[0my_train\u001b[0m\u001b[0;34m,\u001b[0m \u001b[0mtx_train\u001b[0m\u001b[0;34m,\u001b[0m \u001b[0mlambda_\u001b[0m\u001b[0;34m)\u001b[0m\u001b[0;34m\u001b[0m\u001b[0;34m\u001b[0m\u001b[0m\n\u001b[0m\u001b[1;32m    104\u001b[0m     \u001b[0;31m# calculate the loss for train and test data\u001b[0m\u001b[0;34m\u001b[0m\u001b[0;34m\u001b[0m\u001b[0;34m\u001b[0m\u001b[0m\n\u001b[1;32m    105\u001b[0m     \u001b[0mloss_te\u001b[0m \u001b[0;34m=\u001b[0m \u001b[0mcompute_loss\u001b[0m\u001b[0;34m(\u001b[0m\u001b[0my_test\u001b[0m\u001b[0;34m,\u001b[0m \u001b[0mtx_test\u001b[0m\u001b[0;34m,\u001b[0m \u001b[0mweight\u001b[0m\u001b[0;34m)\u001b[0m\u001b[0;34m\u001b[0m\u001b[0;34m\u001b[0m\u001b[0m\n",
      "\u001b[0;31mNameError\u001b[0m: name 'ridge_regression' is not defined"
     ]
    }
   ],
   "source": [
    "\n",
    "y_clean, x_clean = clean_data(y, x)\n",
    "x_clean, x_mean, x_variance = standardize_features(x_clean)\n",
    "cross_validation_demo(x_clean, y_clean)\n"
   ]
  },
  {
   "cell_type": "markdown",
   "metadata": {
    "heading_collapsed": true
   },
   "source": [
    "# Bias-Variance test"
   ]
  },
  {
   "cell_type": "code",
   "execution_count": null,
   "metadata": {
    "ExecuteTime": {
     "end_time": "2019-10-21T10:12:29.041410Z",
     "start_time": "2019-10-21T10:12:08.532Z"
    },
    "hidden": true
   },
   "outputs": [],
   "source": [
    "def bias_variance_decomposition_visualization(degrees, rmse_tr, rmse_te):\n",
    "    \"\"\"visualize the bias variance decomposition.\"\"\"\n",
    "    rmse_tr_mean = np.expand_dims(np.mean(rmse_tr, axis=0), axis=0)\n",
    "    rmse_te_mean = np.expand_dims(np.mean(rmse_te, axis=0), axis=0)\n",
    "    print(rmse_te_mean, rmse_tr_mean)\n",
    "    plt.plot(degrees,\n",
    "             rmse_tr.T,\n",
    "             'b',\n",
    "             linestyle=\"-\",\n",
    "             color=([0.7, 0.7, 1]),\n",
    "             label='train',\n",
    "             linewidth=0.3)\n",
    "    plt.plot(degrees,\n",
    "             rmse_te.T,\n",
    "             'r',\n",
    "             linestyle=\"-\",\n",
    "             color=[1, 0.7, 0.7],\n",
    "             label='test',\n",
    "             linewidth=0.3)\n",
    "    plt.plot(degrees,\n",
    "             rmse_tr_mean.T,\n",
    "             'b',\n",
    "             linestyle=\"-\",\n",
    "             label='train',\n",
    "             linewidth=3)\n",
    "    plt.plot(degrees,\n",
    "             rmse_te_mean.T,\n",
    "             'r',\n",
    "             linestyle=\"-\",\n",
    "             label='test',\n",
    "             linewidth=3)\n",
    "    plt.ylim(0.7, 1)\n",
    "    plt.xlabel(\"degree\")\n",
    "    plt.ylabel(\"error\")\n",
    "    plt.title(\"Bias-Variance Decomposition\")\n",
    "    plt.savefig(\"bias_variance\")\n",
    "\n",
    "\n",
    "def bias_variance_demo():\n",
    "    \"\"\"The entry.\"\"\"\n",
    "    # define parameters\n",
    "    seeds = range(100)\n",
    "    ratio_train = 0.5\n",
    "    degrees = range(1, 8)\n",
    "    # define list to store the variable\n",
    "    rmse_tr = np.empty((len(seeds), len(degrees)))\n",
    "    rmse_te = np.empty((len(seeds), len(degrees)))\n",
    "    for index_seed, seed in enumerate(seeds):\n",
    "        np.random.seed(seed)\n",
    "        # split data with a specific seed\n",
    "        x_train, y_train, x_test, y_test = split_data(x, y, ratio_train, seed)\n",
    "        x_train_std = standardize(x_train)[0]\n",
    "        x_test_std = standardize(x_test)[0]\n",
    "        for index_degrees, degree in enumerate(degrees):\n",
    "            tx_train = build_poly(x_train_std, degree)\n",
    "            tx_test = build_poly(x_test_std, degree)\n",
    "            weight, loss_tr = ridge_regression(y_train, tx_train, 1.89e-05 )\n",
    "            loss_te = compute_loss(y_test, tx_test, weight, kind='mse')\n",
    "            rmse_tr[index_seed, index_degrees] = np.sqrt(2 * loss_tr)\n",
    "            rmse_te[index_seed, index_degrees] = np.sqrt(2 * loss_te)\n",
    "    bias_variance_decomposition_visualization(degrees, rmse_tr, rmse_te)\n",
    "\n",
    "\n",
    "bias_variance_demo()"
   ]
  },
  {
   "cell_type": "code",
   "execution_count": null,
   "metadata": {
    "ExecuteTime": {
     "end_time": "2019-10-21T10:12:29.043327Z",
     "start_time": "2019-10-21T10:12:08.534Z"
    },
    "hidden": true
   },
   "outputs": [],
   "source": [
    "print(id_out_test.shape)\n",
    "x_out_test_std = standardize_features(x_out_test)\n",
    "x_out = x_out_test_std[0]\n",
    "tx_out = build_poly(x_out, 2)\n",
    "\n",
    "create_csv_submission(id_out_test, predict_labels(w_rr, tx_out) , '../results/rr_pred.csv')\n",
    "create_csv_submission(id_out_test, predict_labels(w_gd, tx_out) , '../results/gd_pred_accel.csv')\n",
    "create_csv_submission(id_out_test, predict_labels(w_lsq, tx_out) , '../results/lsq_pred.csv')\n",
    "#create_csv_submission(id_out_test, predict_labels(w_sgd, tx_out) , '../results/sgd_pred_noadapt.csv')"
   ]
  },
  {
   "cell_type": "markdown",
   "metadata": {},
   "source": [
    "# Logistic Regression"
   ]
  },
  {
   "cell_type": "code",
   "execution_count": null,
   "metadata": {
    "ExecuteTime": {
     "end_time": "2019-10-21T10:12:29.044833Z",
     "start_time": "2019-10-21T10:12:08.656Z"
    }
   },
   "outputs": [],
   "source": [
    "y_train_log = np.copy(y_train)\n",
    "y_train_log[y_train == -1] = 0\n",
    "\n",
    "y_test_log = np.copy(y_test)\n",
    "y_test_log[y_test == -1] = 0\n",
    "\n",
    "w_init = np.array([0] * tx_train.shape[1])\n",
    "max_iter = 10000\n",
    "gamma = 1e-5\n",
    "w_lrgd, loss_lrgd = logistic_regression(y_train_log,\n",
    "                                        tx_train,\n",
    "                                        w_init,\n",
    "                                        max_iter,\n",
    "                                        gamma,\n",
    "                                        pr=True,\n",
    "                                        adapt_gamma=False,\n",
    "                                       accel=False)\n",
    "\n",
    "lrgd_prediction = predict_labels_log(w_lrgd, tx_test)\n",
    "print(tx_test.dot(w_lrgd))\n",
    "acc_lrgd = accuracy_ratio(lrgd_prediction, y_test)\n",
    "\n",
    "print('Accuracy ratio = %.3f' % acc_lrgd)\n",
    "print('Test loss = %.3f' % compute_loss_logistic(y_test_log, tx_test, w_lrgd))\n",
    "print('Train loss = %.3f' % loss_lrgd)"
   ]
  },
  {
   "cell_type": "code",
   "execution_count": null,
   "metadata": {
    "ExecuteTime": {
     "end_time": "2019-10-21T10:12:29.045839Z",
     "start_time": "2019-10-21T10:12:08.659Z"
    },
    "scrolled": false
   },
   "outputs": [],
   "source": [
    "lambda_ = 500\n",
    "gamma = 1e-6\n",
    "w_rlrgd, loss_rlrgd = reg_logistic_regression(y_train_log,\n",
    "                                              tx_train,\n",
    "                                              lambda_,\n",
    "                                              w_init,\n",
    "                                              max_iter,\n",
    "                                              gamma,\n",
    "                                              pr=True,\n",
    "                                              adapt_gamma=False, \n",
    "                                              accel=False)\n",
    "rlrgd_prediction = predict_labels_log(w_rlrgd, tx_test)\n",
    "acc_rlrgd = accuracy_ratio(rlrgd_prediction, y_test)\n",
    "print('Accuracy ratio = %.3f' % acc_rlrgd)\n",
    "print('Test loss = %.3f' % compute_loss_logistic(y_test_log, tx_test, w_rlrgd))\n",
    "print('Train loss = %.3f' % loss_rlrgd)"
   ]
  },
  {
   "cell_type": "code",
   "execution_count": null,
   "metadata": {
    "ExecuteTime": {
     "end_time": "2019-10-21T10:12:29.046618Z",
     "start_time": "2019-10-21T10:12:08.783Z"
    }
   },
   "outputs": [],
   "source": [
    "cross_validation_demo()\n"
   ]
  },
  {
   "cell_type": "markdown",
   "metadata": {},
   "source": [
    "# Logistic regression NEW"
   ]
  },
  {
   "cell_type": "code",
   "execution_count": null,
   "metadata": {
    "ExecuteTime": {
     "end_time": "2019-10-21T10:12:29.047497Z",
     "start_time": "2019-10-21T10:12:08.903Z"
    }
   },
   "outputs": [],
   "source": [
    "w_init = np.zeros(tx_train.shape[1])\n",
    "max_iter = 10000\n",
    "gamma = 1e-5\n",
    "w_lrgd, loss_lrgd = logistic_regression(y_train,\n",
    "                                        tx_train,\n",
    "                                        w_init,\n",
    "                                        max_iter,\n",
    "                                        gamma,\n",
    "                                        pr=True,\n",
    "                                        adapt_gamma=False,\n",
    "                                       accel=False,\n",
    "                                       new=True)\n",
    "\n",
    "lrgd_prediction = predict_labels(w_lrgd, tx_test)\n",
    "\n",
    "acc_lrgd = accuracy_ratio(lrgd_prediction, y_test)\n",
    "\n",
    "print('Accuracy ratio = %.3f' % acc_lrgd)\n",
    "print('Test loss = %.3f' % compute_loss_logistic_new(y_test, tx_test, w_lrgd))\n",
    "print('Train loss = %.3f' % loss_lrgd)\n",
    "print((w_lrgd))"
   ]
  },
  {
   "cell_type": "code",
   "execution_count": null,
   "metadata": {
    "ExecuteTime": {
     "end_time": "2019-10-21T10:12:29.048297Z",
     "start_time": "2019-10-21T10:12:08.906Z"
    }
   },
   "outputs": [],
   "source": [
    "lambda_ = 100\n",
    "gamma = 5e-6\n",
    "w_rlrgd, loss_rlrgd = reg_logistic_regression(y_train,\n",
    "                                              tx_train,\n",
    "                                              lambda_,\n",
    "                                              w_init,\n",
    "                                              max_iter,\n",
    "                                              gamma,\n",
    "                                              pr=True,\n",
    "                                              adapt_gamma=False, \n",
    "                                              accel=False,\n",
    "                                              new = True)\n",
    "rlrgd_prediction = predict_labels(w_rlrgd, tx_test)\n",
    "acc_rlrgd = accuracy_ratio(rlrgd_prediction, y_test)\n",
    "print('Accuracy ratio = %.3f' % acc_rlrgd)\n",
    "print('Test loss = %.3f' % compute_loss_logistic_new(y_test, tx_test, w_rlrgd))\n",
    "print('Train loss = %.3f' % loss_rlrgd)\n",
    "print((w_rlrgd))"
   ]
  },
  {
   "cell_type": "code",
   "execution_count": null,
   "metadata": {
    "ExecuteTime": {
     "end_time": "2019-10-21T10:12:29.049344Z",
     "start_time": "2019-10-21T10:12:08.909Z"
    }
   },
   "outputs": [],
   "source": [
    "def cross_validation(y, x, k_indices, k, lambda_, degree):\n",
    "    \"\"\"return the loss of ridge regression.\"\"\"\n",
    "  \n",
    "    index = np.arange(k_indices.shape[0])\n",
    "    index_te = k\n",
    "    index_tr = index[index!=index_te]\n",
    "    \n",
    "    x_tr = x[np.ravel(k_indices[index_tr])]\n",
    "    x_te = x[         k_indices[index_te]]\n",
    "    y_tr = y[np.ravel(k_indices[index_tr])]\n",
    "    y_te = y[         k_indices[index_te]]\n",
    "    tx_tr = build_poly(x_tr, degree)\n",
    "    tx_te = build_poly(x_te, degree)\n",
    "    \n",
    "    weight, loss_tr = ridge_regression(y_tr, tx_tr, lambda_)\n",
    "  \n",
    "    loss_te = compute_loss(y_te, tx_te, weight)\n",
    "    return loss_tr, loss_te, weight\n",
    "\n",
    "def best_degree_lambda(y, x):\n",
    "    \"\"\"The entry.\"\"\"\n",
    "    # define parameters\n",
    "    seeds = range(20)\n",
    "    lambdas = np.logspace(-7, 0, 30)\n",
    "    \n",
    "    k_fold = 4\n",
    "    ratio_train = 0.3\n",
    "    degrees = range(1, 5)\n",
    "    \n",
    "    # define list to store the variable\n",
    "    rmse_te = np.empty((len(seeds), len(degrees)))\n",
    "    lambda_all = np.empty((len(seeds), len(degrees)))\n",
    "    \n",
    "    variance_te = np.empty(len(degrees))\n",
    "    \n",
    "    for index_seed, seed in enumerate(seeds):\n",
    "        np.random.seed(seed)\n",
    "        \n",
    "        x_tr, y_tr, x_te, y_te = split_data(x, y, ratio_train, seed)\n",
    "        #print(x_tr.shape)\n",
    "        y_train, x_train = clean_data(y_tr, x_tr)\n",
    "        #y_test, x_test = clean_data(y_test, x_test)\n",
    "        \n",
    "        x_tr_std = standardize_features(x_train)[0]\n",
    "        x_te_std = standardize_features(x_te)[0]\n",
    "        \n",
    "        k_indices = build_k_indices(y_tr, k_fold, 1)\n",
    "    \n",
    "        for index_deg, deg in enumerate(degrees):\n",
    "            tx_te = build_poly(x_te_std, deg)\n",
    "            \n",
    "            ws_lambda = []\n",
    "            loss_te_lambda = np.empty(len(lambdas))\n",
    "            \n",
    "            for index_l, lambda_ in enumerate(lambdas):\n",
    "                ws_k= []\n",
    "                loss_te_k=np.empty(k_fold)\n",
    "                \n",
    "                for k in range(k_fold):\n",
    "                    _, loss_te_tmp, w_tmp = cross_validation(y_tr, x_tr_std, k_indices, k, lambda_, deg)\n",
    "                    loss_te_k[k] = loss_te_tmp\n",
    "                    ws_k.append(w_tmp)\n",
    "                    \n",
    "                loss_te_lambda[index_l] = np.mean(loss_te_k)    \n",
    "                ws_lambda.append(ws_k)\n",
    "                \n",
    "            ind_opt_lambda = np.argmin(loss_te_lambda)\n",
    "            ws_opt = ws_lambda[ind_opt_lambda]\n",
    "            \n",
    "            loss_te = np.mean([np.sqrt(2*compute_loss(y_te, tx_te, w)) for w in ws_opt])             \n",
    "            rmse_te[index_seed,index_deg] = loss_te \n",
    "            lambda_all[index_seed,index_deg] = lambdas[ind_opt_lambda]\n",
    "            \n",
    "    variance_te = np.std(rmse_te, axis=0)\n",
    "    \n",
    "    plt.figure(1)\n",
    "    plt.errorbar(degrees, np.mean(rmse_te,axis=0), yerr=variance_te)\n",
    "    plt.figure(2)\n",
    "    plt.errorbar(degrees, np.mean(lambda_all,axis=0), yerr=np.std(lambda_all, axis=0))\n",
    "    print(degrees[np.argmin(np.mean(rmse_te,axis=0))])\n",
    "    return np.mean(rmse_te,axis=0), variance_te\n",
    "    #plt.figure(2)\n",
    "    #plt.boxplot(rmse_te)\n",
    "    \n",
    "    \n",
    "         \n",
    "rmse_CV, var_CV = best_degree_lambda(y, x)\n"
   ]
  },
  {
   "cell_type": "code",
   "execution_count": null,
   "metadata": {},
   "outputs": [],
   "source": []
  }
 ],
 "metadata": {
  "kernelspec": {
   "display_name": "Python 3",
   "language": "python",
   "name": "python3"
  },
  "language_info": {
   "codemirror_mode": {
    "name": "ipython",
    "version": 3
   },
   "file_extension": ".py",
   "mimetype": "text/x-python",
   "name": "python",
   "nbconvert_exporter": "python",
   "pygments_lexer": "ipython3",
   "version": "3.6.7"
  },
  "latex_envs": {
   "LaTeX_envs_menu_present": true,
   "autoclose": true,
   "autocomplete": true,
   "bibliofile": "biblio.bib",
   "cite_by": "apalike",
   "current_citInitial": 1,
   "eqLabelWithNumbers": true,
   "eqNumInitial": 1,
   "hotkeys": {
    "equation": "Ctrl-E",
    "itemize": "Ctrl-I"
   },
   "labels_anchors": false,
   "latex_user_defs": false,
   "report_style_numbering": false,
   "user_envs_cfg": false
  },
  "toc": {
   "base_numbering": 1,
   "nav_menu": {},
   "number_sections": true,
   "sideBar": true,
   "skip_h1_title": false,
   "title_cell": "Table of Contents",
   "title_sidebar": "Contents",
   "toc_cell": false,
   "toc_position": {},
   "toc_section_display": true,
   "toc_window_display": false
  }
 },
 "nbformat": 4,
 "nbformat_minor": 2
}
