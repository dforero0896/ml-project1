{
 "cells": [
  {
   "cell_type": "code",
   "execution_count": 1,
   "metadata": {
    "ExecuteTime": {
     "end_time": "2019-10-21T11:27:26.786735Z",
     "start_time": "2019-10-21T11:27:26.571792Z"
    }
   },
   "outputs": [],
   "source": [
    "from proj1_helpers import *\n",
    "from implementations import *\n",
    "from tests import *\n",
    "from preprocessing import *\n",
    "import numpy as np\n",
    "import matplotlib.pyplot as plt"
   ]
  },
  {
   "cell_type": "code",
   "execution_count": 57,
   "metadata": {
    "ExecuteTime": {
     "end_time": "2019-10-21T11:42:46.873043Z",
     "start_time": "2019-10-21T11:42:26.845478Z"
    }
   },
   "outputs": [],
   "source": [
    "# Read train_y=LABELS, train_x=FEATURES and train_id=EVENT_IDS from dataset.\n",
    "subsamp = False\n",
    "y, x, id_ = load_csv_data('../data/train.csv', sub_sample=subsamp)\n",
    "y_out_test, x_out_test, id_out_test = load_csv_data('../data/test.csv', sub_sample=subsamp)"
   ]
  },
  {
   "cell_type": "code",
   "execution_count": 58,
   "metadata": {
    "ExecuteTime": {
     "end_time": "2019-10-21T11:42:49.185873Z",
     "start_time": "2019-10-21T11:42:48.850837Z"
    }
   },
   "outputs": [
    {
     "name": "stdout",
     "output_type": "stream",
     "text": [
      "(30, 30)\n"
     ]
    }
   ],
   "source": [
    "clean=True\n",
    "y_pre, x_pre = preprocess(x, y, clean=clean, dopca=True)"
   ]
  },
  {
   "cell_type": "code",
   "execution_count": 60,
   "metadata": {
    "ExecuteTime": {
     "end_time": "2019-10-21T11:43:04.168511Z",
     "start_time": "2019-10-21T11:43:03.384099Z"
    }
   },
   "outputs": [
    {
     "data": {
      "text/plain": [
       "((249975, 61), (25, 61))"
      ]
     },
     "execution_count": 60,
     "metadata": {},
     "output_type": "execute_result"
    }
   ],
   "source": [
    "degree = 2\n",
    "x_train, y_train, x_test, y_test = split_data(x_pre, y_pre, ratio=0.9999, seed = 42)\n",
    "# Build data matrix\n",
    "tx_train = build_poly(x_train, degree)\n",
    "tx_test = build_poly(x_test, degree)\n",
    "tx_train.shape, tx_test.shape\n"
   ]
  },
  {
   "cell_type": "markdown",
   "metadata": {},
   "source": [
    "# Gradient Descent"
   ]
  },
  {
   "cell_type": "code",
   "execution_count": null,
   "metadata": {
    "ExecuteTime": {
     "start_time": "2019-10-21T11:43:09.413Z"
    },
    "scrolled": true
   },
   "outputs": [
    {
     "name": "stdout",
     "output_type": "stream",
     "text": [
      "GD (0/3999): loss=0.5\n",
      "GD (100/3999): loss=0.33855558445659956\n",
      "GD (200/3999): loss=0.32879190774743794\n",
      "GD (300/3999): loss=0.32591849683377905\n",
      "GD (400/3999): loss=0.32510859066353814\n",
      "GD (500/3999): loss=0.3245222989625754\n",
      "GD (600/3999): loss=0.32451077476022167\n",
      "GD (700/3999): loss=0.3240036827753865\n",
      "GD (800/3999): loss=0.32356905730760327\n",
      "GD (900/3999): loss=0.32362553406932876\n",
      "GD (1000/3999): loss=0.32360283517648036\n",
      "GD (1100/3999): loss=0.323543040711402\n",
      "GD (1200/3999): loss=0.32339781721650257\n",
      "GD (1300/3999): loss=0.3233810024201905\n",
      "GD (1400/3999): loss=0.3230594749756972\n",
      "GD (1500/3999): loss=0.32335139206427554\n",
      "GD (1600/3999): loss=0.3232849147323732\n",
      "GD (1700/3999): loss=0.3231834130981863\n",
      "GD (1800/3999): loss=0.32307696875364567\n",
      "GD (1900/3999): loss=0.3231517204103111\n"
     ]
    }
   ],
   "source": [
    "w_init = np.array([0] * tx_train.shape[1])\n",
    "max_iter = 4000\n",
    "gamma = 0.0009\n",
    "w_gd, loss_gd = least_squares_GD(y_train,\n",
    "                                 tx_train,\n",
    "                                 w_init,\n",
    "                                 max_iter,\n",
    "                                 gamma,\n",
    "                                 pr=True,\n",
    "                                 adapt_gamma=False,\n",
    "                                 kind='mse',\n",
    "                                accel=True)\n",
    "gd_prediction = predict_labels(w_gd, tx_test)\n",
    "acc_gd = accuracy_ratio(gd_prediction, y_test)\n",
    "print('Accuracy ratio = %.3f' % acc_gd)\n",
    "print('Test loss = %.3f' % compute_loss(y_test, tx_test, w_gd))\n",
    "print('Train loss = %.3f' % loss_gd)"
   ]
  },
  {
   "cell_type": "markdown",
   "metadata": {
    "ExecuteTime": {
     "end_time": "2019-10-17T12:37:03.486835Z",
     "start_time": "2019-10-17T12:37:03.480662Z"
    }
   },
   "source": [
    "np.savetxt('../data/w_gd_acc.dat', w_gd)"
   ]
  },
  {
   "cell_type": "markdown",
   "metadata": {},
   "source": [
    "# Stochastic Gradient Descent"
   ]
  },
  {
   "cell_type": "code",
   "execution_count": 27,
   "metadata": {
    "ExecuteTime": {
     "end_time": "2019-10-21T11:34:20.742854Z",
     "start_time": "2019-10-21T11:34:17.437096Z"
    },
    "scrolled": true
   },
   "outputs": [
    {
     "name": "stdout",
     "output_type": "stream",
     "text": [
      "SGD (0/4999): loss=0.5\n",
      "SGD (100/4999): loss=0.49957174891301076\n",
      "SGD (200/4999): loss=0.2623231604669889\n",
      "SGD (300/4999): loss=0.10528781481207224\n",
      "SGD (400/4999): loss=0.022281782757364827\n",
      "SGD (500/4999): loss=0.44067378391040485\n",
      "SGD (600/4999): loss=0.2237091572559792\n",
      "SGD (700/4999): loss=0.10356472902102389\n",
      "SGD (800/4999): loss=0.31824981551258874\n",
      "SGD (900/4999): loss=0.33372613896784964\n",
      "SGD (1000/4999): loss=0.2123648049955055\n",
      "SGD (1100/4999): loss=0.6268603829462736\n",
      "SGD (1200/4999): loss=0.18823567717235726\n",
      "SGD (1300/4999): loss=0.238230222681209\n",
      "SGD (1400/4999): loss=0.34421741046371374\n",
      "SGD (1500/4999): loss=0.6772220358966599\n",
      "SGD (1600/4999): loss=0.23401611286739138\n",
      "SGD (1700/4999): loss=0.018741048972884176\n",
      "SGD (1800/4999): loss=0.8274983311184149\n",
      "SGD (1900/4999): loss=0.3089927553883085\n",
      "SGD (2000/4999): loss=2.7161149727952187\n",
      "SGD (2100/4999): loss=0.9754136256845043\n",
      "SGD (2200/4999): loss=0.636869806599234\n",
      "SGD (2300/4999): loss=0.16178465000762782\n",
      "SGD (2400/4999): loss=0.547613963704515\n",
      "SGD (2500/4999): loss=1.0245872579378192\n",
      "SGD (2600/4999): loss=0.1800174304216386\n",
      "SGD (2700/4999): loss=3.1913598396746026\n",
      "SGD (2800/4999): loss=1.0765366681590944\n",
      "SGD (2900/4999): loss=1341.5334808961309\n",
      "SGD (3000/4999): loss=0.8072860795126527\n",
      "SGD (3100/4999): loss=6.127562886031636\n",
      "SGD (3200/4999): loss=2.464455675774884\n",
      "SGD (3300/4999): loss=0.016994581888501482\n",
      "SGD (3400/4999): loss=0.1858812791632683\n",
      "SGD (3500/4999): loss=0.11623870171476693\n",
      "SGD (3600/4999): loss=0.10210639226193172\n",
      "SGD (3700/4999): loss=0.09972090530390416\n",
      "SGD (3800/4999): loss=1.2929691823116753\n",
      "SGD (3900/4999): loss=0.6188484679661256\n",
      "SGD (4000/4999): loss=15.054515666194483\n",
      "SGD (4100/4999): loss=566.3106397607326\n",
      "SGD (4200/4999): loss=6.934934101053884\n",
      "SGD (4300/4999): loss=86.13542087952277\n",
      "SGD (4400/4999): loss=3.91670792422993\n",
      "SGD (4500/4999): loss=0.9187246249535421\n",
      "SGD (4600/4999): loss=9.824064231400751\n",
      "SGD (4700/4999): loss=0.7992392024449315\n",
      "SGD (4800/4999): loss=0.7784860171101653\n",
      "SGD (4900/4999): loss=0.6615106083629565\n",
      "Accuracy ratio = 0.72\n",
      "Test loss = 3.92e-01\n",
      "Train loss = 4.05e-01\n"
     ]
    }
   ],
   "source": [
    "w_init = np.array([0] * tx_train.shape[1])\n",
    "max_iter = 5000\n",
    "gamma = 1e-4\n",
    "batch_size = 1\n",
    "\n",
    "w_sgd, loss_sgd = least_squares_SGD(y_train,\n",
    "                                    tx_train,\n",
    "                                    w_init,\n",
    "                                    batch_size,\n",
    "                                    max_iter,\n",
    "                                    gamma,\n",
    "                                    pr=True,\n",
    "                                    adapt_gamma=False,\n",
    "                                    choose_best=True)\n",
    "sgd_prediction = predict_labels(w_sgd, tx_test)\n",
    "acc_sgd = accuracy_ratio(sgd_prediction, y_test)\n",
    "print('Accuracy ratio = %.2f' % acc_sgd)\n",
    "print('Test loss = %.2e' % compute_loss(y_test, tx_test, w_sgd))\n",
    "print('Train loss = %.2e' % loss_sgd)"
   ]
  },
  {
   "cell_type": "markdown",
   "metadata": {},
   "source": [
    "# Least Squares"
   ]
  },
  {
   "cell_type": "code",
   "execution_count": 28,
   "metadata": {
    "ExecuteTime": {
     "end_time": "2019-10-21T11:34:23.929809Z",
     "start_time": "2019-10-21T11:34:23.925235Z"
    }
   },
   "outputs": [
    {
     "name": "stdout",
     "output_type": "stream",
     "text": [
      "Accuracy ratio = 0.78\n",
      "Train loss = 0.31\n",
      "Test loss = 3.04e-01\n"
     ]
    }
   ],
   "source": [
    "w_lsq, loss_lsq = least_squares(y_train, tx_train)\n",
    "lsq_prediction = predict_labels(w_lsq, tx_test)\n",
    "acc_lsq = accuracy_ratio(lsq_prediction, y_test)\n",
    "print('Accuracy ratio = %.2f' % acc_lsq)\n",
    "print('Train loss = %.2f' % loss_lsq)\n",
    "print('Test loss = %.2e' % compute_loss(y_test, tx_test, w_lsq))"
   ]
  },
  {
   "cell_type": "markdown",
   "metadata": {
    "ExecuteTime": {
     "end_time": "2019-10-17T12:45:30.271461Z",
     "start_time": "2019-10-17T12:45:30.267909Z"
    }
   },
   "source": [
    "np.savetxt('../data/w_lsq.dat', w_lsq)"
   ]
  },
  {
   "cell_type": "markdown",
   "metadata": {},
   "source": [
    "# Ridge Regression"
   ]
  },
  {
   "cell_type": "code",
   "execution_count": 29,
   "metadata": {
    "ExecuteTime": {
     "end_time": "2019-10-21T11:34:28.699387Z",
     "start_time": "2019-10-21T11:34:28.694587Z"
    }
   },
   "outputs": [
    {
     "name": "stdout",
     "output_type": "stream",
     "text": [
      "Accuracy ratio = 0.784\n",
      "Test loss = 0.307\n",
      "Train loss = 0.315\n"
     ]
    }
   ],
   "source": [
    "lambda_ = 3.3e-2\n",
    "w_rr, loss_rr = ridge_regression(y_train, tx_train, lambda_)\n",
    "rr_prediction = predict_labels(w_rr, tx_test)\n",
    "acc_rr = accuracy_ratio(rr_prediction, y_test)\n",
    "print('Accuracy ratio = %.3f'%acc_rr)\n",
    "print('Test loss = %.3f'%compute_loss(y_test, tx_test, w_rr))\n",
    "print('Train loss = %.3f'%loss_rr)"
   ]
  },
  {
   "cell_type": "markdown",
   "metadata": {
    "ExecuteTime": {
     "end_time": "2019-10-18T15:18:22.322364Z",
     "start_time": "2019-10-18T15:18:22.309384Z"
    }
   },
   "source": [
    "np.savetxt('../data/w_rr.dat', w_rr)"
   ]
  },
  {
   "cell_type": "code",
   "execution_count": 31,
   "metadata": {
    "ExecuteTime": {
     "end_time": "2019-10-21T11:36:34.391349Z",
     "start_time": "2019-10-21T11:36:34.377977Z"
    }
   },
   "outputs": [],
   "source": [
    "def ridge_regression_demo(x, y, degree, ratio, seed):\n",
    "    \"\"\"ridge regression demo.\"\"\"\n",
    "    # define parameter\n",
    "    lambdas = np.logspace(-5, 3, 50)\n",
    "    y_pre, x_pre = preprocess(x, y, clean=clean, dopca=True)\n",
    "    # split the data, and return train and test data\n",
    "    x_train, y_train, x_test, y_test = split_data(x_pre, y_pre, ratio, seed)\n",
    "    tx_train=build_poly(x_train, degree)\n",
    "    tx_test=build_poly(x_test, degree)\n",
    "    rmse_tr = []\n",
    "    rmse_te = []\n",
    "    accuracies = []\n",
    "    for ind, lambda_ in enumerate(lambdas):\n",
    "        # calcualte weight through least square.\n",
    "        w_train, loss_train = ridge_regression(y_train, tx_train, lambda_)\n",
    "        rmse_tr.append(np.sqrt(2*loss_train))\n",
    "        rmse_te.append(np.sqrt(2*compute_loss(y_test, tx_test, w_train, kind = 'mse')))\n",
    "        accuracies.append(accuracy_ratio(predict_labels(w_train, tx_test), y_test))\n",
    "        print(\"proportion={p}, degree={d}, lambda={l:.3e}, Training RMSE={tr:.3f}, Testing RMSE={te:.3f}, Accuracy={ac:.3f}\".format(\n",
    "               p=ratio, d=degree, l=lambda_, tr=rmse_tr[ind], te=rmse_te[ind], ac=accuracies[ind]))\n",
    "        \n",
    "    # Plot the obtained results\n",
    "    plot_train_test(rmse_tr, rmse_te, lambdas, degree)\n",
    "    plt.figure()\n",
    "    plt.semilogx(lambdas,accuracies, marker='o')\n",
    "def plot_train_test(train_errors, test_errors, lambdas, degree):\n",
    "    \"\"\"\n",
    "    train_errors, test_errors and lambas should be list (of the same size) the respective train error and test error for a given lambda,\n",
    "    * lambda[0] = 1\n",
    "    * train_errors[0] = RMSE of a ridge regression on the train set\n",
    "    * test_errors[0] = RMSE of the parameter found by ridge regression applied on the test set\n",
    "    \n",
    "    degree is just used for the title of the plot.\n",
    "    \"\"\"\n",
    "    plt.semilogx(lambdas, train_errors, color='b', marker='*', label=\"Train error\")\n",
    "    plt.semilogx(lambdas, test_errors, color='r', marker='*', label=\"Test error\")\n",
    "    plt.xlabel(\"lambda\")\n",
    "    plt.ylabel(\"RMSE\")\n",
    "    plt.title(\"Ridge regression for polynomial degree \" + str(degree))\n",
    "    leg = plt.legend(loc=1, shadow=True)\n",
    "    leg.draw_frame(False)\n",
    "    plt.savefig(\"../results/ridge_regression\")"
   ]
  },
  {
   "cell_type": "code",
   "execution_count": 33,
   "metadata": {
    "ExecuteTime": {
     "end_time": "2019-10-21T11:36:44.618015Z",
     "start_time": "2019-10-21T11:36:43.445483Z"
    },
    "scrolled": false
   },
   "outputs": [
    {
     "name": "stdout",
     "output_type": "stream",
     "text": [
      "(30, 30)\n",
      "proportion=0.9, degree=4, lambda=1.000e-05, Training RMSE=0.760, Testing RMSE=0.867, Accuracy=0.788\n",
      "proportion=0.9, degree=4, lambda=1.456e-05, Training RMSE=0.760, Testing RMSE=0.867, Accuracy=0.788\n",
      "proportion=0.9, degree=4, lambda=2.121e-05, Training RMSE=0.760, Testing RMSE=0.866, Accuracy=0.788\n",
      "proportion=0.9, degree=4, lambda=3.089e-05, Training RMSE=0.760, Testing RMSE=0.866, Accuracy=0.788\n",
      "proportion=0.9, degree=4, lambda=4.498e-05, Training RMSE=0.760, Testing RMSE=0.866, Accuracy=0.788\n",
      "proportion=0.9, degree=4, lambda=6.551e-05, Training RMSE=0.760, Testing RMSE=0.866, Accuracy=0.788\n",
      "proportion=0.9, degree=4, lambda=9.541e-05, Training RMSE=0.760, Testing RMSE=0.865, Accuracy=0.788\n",
      "proportion=0.9, degree=4, lambda=1.389e-04, Training RMSE=0.760, Testing RMSE=0.865, Accuracy=0.788\n",
      "proportion=0.9, degree=4, lambda=2.024e-04, Training RMSE=0.760, Testing RMSE=0.864, Accuracy=0.788\n",
      "proportion=0.9, degree=4, lambda=2.947e-04, Training RMSE=0.760, Testing RMSE=0.864, Accuracy=0.788\n",
      "proportion=0.9, degree=4, lambda=4.292e-04, Training RMSE=0.760, Testing RMSE=0.863, Accuracy=0.788\n",
      "proportion=0.9, degree=4, lambda=6.251e-04, Training RMSE=0.760, Testing RMSE=0.862, Accuracy=0.788\n",
      "proportion=0.9, degree=4, lambda=9.103e-04, Training RMSE=0.760, Testing RMSE=0.861, Accuracy=0.790\n",
      "proportion=0.9, degree=4, lambda=1.326e-03, Training RMSE=0.760, Testing RMSE=0.859, Accuracy=0.792\n",
      "proportion=0.9, degree=4, lambda=1.931e-03, Training RMSE=0.760, Testing RMSE=0.858, Accuracy=0.792\n",
      "proportion=0.9, degree=4, lambda=2.812e-03, Training RMSE=0.761, Testing RMSE=0.856, Accuracy=0.794\n",
      "proportion=0.9, degree=4, lambda=4.095e-03, Training RMSE=0.761, Testing RMSE=0.853, Accuracy=0.800\n",
      "proportion=0.9, degree=4, lambda=5.964e-03, Training RMSE=0.761, Testing RMSE=0.851, Accuracy=0.800\n",
      "proportion=0.9, degree=4, lambda=8.685e-03, Training RMSE=0.762, Testing RMSE=0.848, Accuracy=0.800\n",
      "proportion=0.9, degree=4, lambda=1.265e-02, Training RMSE=0.763, Testing RMSE=0.844, Accuracy=0.800\n",
      "proportion=0.9, degree=4, lambda=1.842e-02, Training RMSE=0.764, Testing RMSE=0.840, Accuracy=0.798\n",
      "proportion=0.9, degree=4, lambda=2.683e-02, Training RMSE=0.765, Testing RMSE=0.836, Accuracy=0.796\n",
      "proportion=0.9, degree=4, lambda=3.907e-02, Training RMSE=0.767, Testing RMSE=0.831, Accuracy=0.798\n",
      "proportion=0.9, degree=4, lambda=5.690e-02, Training RMSE=0.769, Testing RMSE=0.825, Accuracy=0.794\n",
      "proportion=0.9, degree=4, lambda=8.286e-02, Training RMSE=0.772, Testing RMSE=0.820, Accuracy=0.792\n",
      "proportion=0.9, degree=4, lambda=1.207e-01, Training RMSE=0.776, Testing RMSE=0.816, Accuracy=0.794\n",
      "proportion=0.9, degree=4, lambda=1.758e-01, Training RMSE=0.780, Testing RMSE=0.813, Accuracy=0.790\n",
      "proportion=0.9, degree=4, lambda=2.560e-01, Training RMSE=0.786, Testing RMSE=0.812, Accuracy=0.786\n",
      "proportion=0.9, degree=4, lambda=3.728e-01, Training RMSE=0.793, Testing RMSE=0.814, Accuracy=0.770\n",
      "proportion=0.9, degree=4, lambda=5.429e-01, Training RMSE=0.801, Testing RMSE=0.818, Accuracy=0.760\n",
      "proportion=0.9, degree=4, lambda=7.906e-01, Training RMSE=0.811, Testing RMSE=0.825, Accuracy=0.758\n",
      "proportion=0.9, degree=4, lambda=1.151e+00, Training RMSE=0.822, Testing RMSE=0.834, Accuracy=0.746\n",
      "proportion=0.9, degree=4, lambda=1.677e+00, Training RMSE=0.833, Testing RMSE=0.844, Accuracy=0.738\n",
      "proportion=0.9, degree=4, lambda=2.442e+00, Training RMSE=0.844, Testing RMSE=0.855, Accuracy=0.720\n",
      "proportion=0.9, degree=4, lambda=3.556e+00, Training RMSE=0.856, Testing RMSE=0.866, Accuracy=0.718\n",
      "proportion=0.9, degree=4, lambda=5.179e+00, Training RMSE=0.868, Testing RMSE=0.877, Accuracy=0.712\n",
      "proportion=0.9, degree=4, lambda=7.543e+00, Training RMSE=0.879, Testing RMSE=0.888, Accuracy=0.708\n",
      "proportion=0.9, degree=4, lambda=1.099e+01, Training RMSE=0.891, Testing RMSE=0.899, Accuracy=0.706\n",
      "proportion=0.9, degree=4, lambda=1.600e+01, Training RMSE=0.902, Testing RMSE=0.910, Accuracy=0.698\n",
      "proportion=0.9, degree=4, lambda=2.330e+01, Training RMSE=0.913, Testing RMSE=0.921, Accuracy=0.694\n",
      "proportion=0.9, degree=4, lambda=3.393e+01, Training RMSE=0.923, Testing RMSE=0.931, Accuracy=0.696\n",
      "proportion=0.9, degree=4, lambda=4.942e+01, Training RMSE=0.933, Testing RMSE=0.940, Accuracy=0.700\n",
      "proportion=0.9, degree=4, lambda=7.197e+01, Training RMSE=0.942, Testing RMSE=0.948, Accuracy=0.702\n",
      "proportion=0.9, degree=4, lambda=1.048e+02, Training RMSE=0.950, Testing RMSE=0.955, Accuracy=0.700\n",
      "proportion=0.9, degree=4, lambda=1.526e+02, Training RMSE=0.956, Testing RMSE=0.962, Accuracy=0.700\n",
      "proportion=0.9, degree=4, lambda=2.223e+02, Training RMSE=0.963, Testing RMSE=0.967, Accuracy=0.702\n",
      "proportion=0.9, degree=4, lambda=3.237e+02, Training RMSE=0.968, Testing RMSE=0.972, Accuracy=0.700\n",
      "proportion=0.9, degree=4, lambda=4.715e+02, Training RMSE=0.972, Testing RMSE=0.976, Accuracy=0.696\n",
      "proportion=0.9, degree=4, lambda=6.866e+02, Training RMSE=0.977, Testing RMSE=0.980, Accuracy=0.690\n",
      "proportion=0.9, degree=4, lambda=1.000e+03, Training RMSE=0.980, Testing RMSE=0.983, Accuracy=0.690\n"
     ]
    },
    {
     "data": {
      "image/png": "[encoded data removed]",
      "text/plain": [
       "<Figure size 432x288 with 1 Axes>"
      ]
     },
     "metadata": {
      "needs_background": "light"
     },
     "output_type": "display_data"
    },
    {
     "data": {
      "image/png": "[encoded data removed]",
      "text/plain": [
       "<Figure size 432x288 with 1 Axes>"
      ]
     },
     "metadata": {
      "needs_background": "light"
     },
     "output_type": "display_data"
    }
   ],
   "source": [
    "seed = 42\n",
    "degree = 4\n",
    "split_ratio = 0.9\n",
    "ridge_regression_demo(x, y, degree, split_ratio, seed)"
   ]
  },
  {
   "cell_type": "code",
   "execution_count": 34,
   "metadata": {
    "ExecuteTime": {
     "end_time": "2019-10-21T11:37:01.264973Z",
     "start_time": "2019-10-21T11:37:01.231619Z"
    }
   },
   "outputs": [],
   "source": [
    "def cross_validation(y, x, k_indices, k, lambda_, degree):\n",
    "    \"\"\"return the loss of ridge regression.\"\"\"\n",
    "    # get k'th subgroup in test, others in train\n",
    "    id_test = k_indices[k]\n",
    "    id_train = k_indices[~(np.arange(k_indices.shape[0]) == k)].reshape(-1)\n",
    "    x_test = x[id_test]\n",
    "    x_train = x[id_train]\n",
    "    y_test = y[id_test]\n",
    "    y_train = y[id_train]\n",
    "    # form data with polynomial degree\n",
    "    tx_train = build_poly(x_train, degree)\n",
    "    tx_test = build_poly(x_test, degree)\n",
    "    # ridge regression\n",
    "    weight, loss_tr = ridge_regression(y_train, tx_train, lambda_)\n",
    "    # calculate the loss for train and test data\n",
    "    loss_te = compute_loss(y_test, tx_test, weight)\n",
    "    accuracy = accuracy_ratio(predict_labels(weight, tx_test), y_test)\n",
    "    return loss_tr, loss_te, accuracy\n",
    "\n",
    "def cross_validation_visualization(lambds, mse_tr, mse_te):\n",
    "    \"\"\"visualization the curves of mse_tr and mse_te.\"\"\"\n",
    "    best_l_err = lambds[np.argmin(mse_te)]\n",
    "    print('Best lambda from error: %.2e'%best_l_err)\n",
    "    plt.semilogx(lambds, mse_tr, marker=\".\", color='b', label='train error')\n",
    "    plt.semilogx(lambds, mse_te, marker=\".\", color='r', label='test error')\n",
    "    plt.axvline(best_l_err, c = 'g', label = '$\\lambda^*_{rmse}=%.1e$'%best_l_err, ls = ':')\n",
    "    plt.xlabel(\"lambda\")\n",
    "    plt.ylabel(\"rmse\")\n",
    "    plt.title(\"cross validation\")\n",
    "    plt.legend(loc=0)\n",
    "    plt.grid(True)\n",
    "    plt.savefig(\"../results/cross_validation\")\n",
    "def cross_validation_visualization_accuracy(lambdas, accuracies):\n",
    "    \"\"\"visualization the curves of mse_tr and mse_te.\"\"\"\n",
    "    plt.semilogx(lambdas, accuracies, lw =2, marker = '*', label = 'Accuracy ratio')\n",
    "    best_l_acc = lambdas[np.argmax(accuracies)]\n",
    "    plt.axvline(best_l_acc, c= 'k', label = '$\\lambda^*_{acc}=%.1e$'%best_l_acc, ls = ':')\n",
    "    print('Best lambda from accuracy: %.2e'%best_l_acc)\n",
    "    plt.xlabel(\"lambda\")\n",
    "    plt.ylabel(\"accuracy\")\n",
    "    plt.title(\"cross validation\")\n",
    "    plt.legend(loc=0)\n",
    "    plt.grid(True)\n",
    "    plt.savefig(\"../results/cross_validation_accuracies\")\n",
    "\n",
    "\n",
    "def cross_validation_demo(x, y, seed = 42, degree = 1, k_fold=4):\n",
    "    lambdas = np.logspace(-7, 3, 30)\n",
    "    # split data in k fold\n",
    "    k_indices = build_k_indices(y, k_fold, seed)\n",
    "    # define lists to store the loss of training data and test data\n",
    "    rmse_tr = []\n",
    "    rmse_te = []\n",
    "    std_tr = []\n",
    "    std_te = []\n",
    "    accuracies = []\n",
    "    # cross validation\n",
    "    for ind, lambda_ in enumerate(lambdas):\n",
    "        x_validation = np.array([cross_validation(y, x, k_indices, k, lambda_, degree) for k in range(k_fold)])\n",
    "        rmse_tr.append(np.mean(np.sqrt(2 * x_validation[:, 0])))\n",
    "        rmse_te.append(np.mean(np.sqrt(2 * x_validation[:, 1])))\n",
    "        std_tr.append(np.std(np.sqrt(2 * x_validation[:, 0])))\n",
    "        std_te.append(np.std(np.sqrt(2 * x_validation[:, 1])))\n",
    "        accuracies.append(np.mean(x_validation[:,2]))\n",
    "    cross_validation_visualization_accuracy(lambdas, accuracies)\n",
    "    plt.figure()\n",
    "    cross_validation_visualization(lambdas, rmse_tr, rmse_te)"
   ]
  },
  {
   "cell_type": "code",
   "execution_count": 35,
   "metadata": {
    "ExecuteTime": {
     "end_time": "2019-10-21T11:37:22.303895Z",
     "start_time": "2019-10-21T11:37:21.466104Z"
    }
   },
   "outputs": [
    {
     "name": "stdout",
     "output_type": "stream",
     "text": [
      "(30, 30)\n",
      "Best lambda from accuracy: 2.81e-04\n",
      "Best lambda from error: 3.04e-03\n"
     ]
    },
    {
     "data": {
      "image/png": "[encoded data removed]",
      "text/plain": [
       "<Figure size 432x288 with 1 Axes>"
      ]
     },
     "metadata": {
      "needs_background": "light"
     },
     "output_type": "display_data"
    },
    {
     "data": {
      "image/png": "[encoded data removed]",
      "text/plain": [
       "<Figure size 432x288 with 1 Axes>"
      ]
     },
     "metadata": {
      "needs_background": "light"
     },
     "output_type": "display_data"
    }
   ],
   "source": [
    "\n",
    "y_clean, x_clean = preprocess(x, y, clean=clean, dopca=True)\n",
    "cross_validation_demo(x_clean, y_clean)\n"
   ]
  },
  {
   "cell_type": "markdown",
   "metadata": {
    "heading_collapsed": true
   },
   "source": [
    "# Bias-Variance test"
   ]
  },
  {
   "cell_type": "code",
   "execution_count": null,
   "metadata": {
    "ExecuteTime": {
     "end_time": "2019-10-21T10:12:29.041410Z",
     "start_time": "2019-10-21T10:12:08.532Z"
    },
    "hidden": true
   },
   "outputs": [],
   "source": [
    "def bias_variance_decomposition_visualization(degrees, rmse_tr, rmse_te):\n",
    "    \"\"\"visualize the bias variance decomposition.\"\"\"\n",
    "    rmse_tr_mean = np.expand_dims(np.mean(rmse_tr, axis=0), axis=0)\n",
    "    rmse_te_mean = np.expand_dims(np.mean(rmse_te, axis=0), axis=0)\n",
    "    print(rmse_te_mean, rmse_tr_mean)\n",
    "    plt.plot(degrees,\n",
    "             rmse_tr.T,\n",
    "             'b',\n",
    "             linestyle=\"-\",\n",
    "             color=([0.7, 0.7, 1]),\n",
    "             label='train',\n",
    "             linewidth=0.3)\n",
    "    plt.plot(degrees,\n",
    "             rmse_te.T,\n",
    "             'r',\n",
    "             linestyle=\"-\",\n",
    "             color=[1, 0.7, 0.7],\n",
    "             label='test',\n",
    "             linewidth=0.3)\n",
    "    plt.plot(degrees,\n",
    "             rmse_tr_mean.T,\n",
    "             'b',\n",
    "             linestyle=\"-\",\n",
    "             label='train',\n",
    "             linewidth=3)\n",
    "    plt.plot(degrees,\n",
    "             rmse_te_mean.T,\n",
    "             'r',\n",
    "             linestyle=\"-\",\n",
    "             label='test',\n",
    "             linewidth=3)\n",
    "    plt.ylim(0.7, 1)\n",
    "    plt.xlabel(\"degree\")\n",
    "    plt.ylabel(\"error\")\n",
    "    plt.title(\"Bias-Variance Decomposition\")\n",
    "    plt.savefig(\"bias_variance\")\n",
    "\n",
    "\n",
    "def bias_variance_demo():\n",
    "    \"\"\"The entry.\"\"\"\n",
    "    # define parameters\n",
    "    seeds = range(100)\n",
    "    ratio_train = 0.5\n",
    "    degrees = range(1, 8)\n",
    "    # define list to store the variable\n",
    "    rmse_tr = np.empty((len(seeds), len(degrees)))\n",
    "    rmse_te = np.empty((len(seeds), len(degrees)))\n",
    "    for index_seed, seed in enumerate(seeds):\n",
    "        np.random.seed(seed)\n",
    "        # split data with a specific seed\n",
    "        x_train, y_train, x_test, y_test = split_data(x, y, ratio_train, seed)\n",
    "        x_train_std = standardize(x_train)[0]\n",
    "        x_test_std = standardize(x_test)[0]\n",
    "        for index_degrees, degree in enumerate(degrees):\n",
    "            tx_train = build_poly(x_train_std, degree)\n",
    "            tx_test = build_poly(x_test_std, degree)\n",
    "            weight, loss_tr = ridge_regression(y_train, tx_train, 1.89e-05 )\n",
    "            loss_te = compute_loss(y_test, tx_test, weight, kind='mse')\n",
    "            rmse_tr[index_seed, index_degrees] = np.sqrt(2 * loss_tr)\n",
    "            rmse_te[index_seed, index_degrees] = np.sqrt(2 * loss_te)\n",
    "    bias_variance_decomposition_visualization(degrees, rmse_tr, rmse_te)\n",
    "\n",
    "\n",
    "bias_variance_demo()"
   ]
  },
  {
   "cell_type": "code",
   "execution_count": null,
   "metadata": {
    "ExecuteTime": {
     "end_time": "2019-10-21T10:12:29.043327Z",
     "start_time": "2019-10-21T10:12:08.534Z"
    },
    "hidden": true
   },
   "outputs": [],
   "source": [
    "print(id_out_test.shape)\n",
    "x_out_test_std = standardize_features(x_out_test)\n",
    "x_out = x_out_test_std[0]\n",
    "tx_out = build_poly(x_out, 2)\n",
    "\n",
    "create_csv_submission(id_out_test, predict_labels(w_rr, tx_out) , '../results/rr_pred.csv')\n",
    "create_csv_submission(id_out_test, predict_labels(w_gd, tx_out) , '../results/gd_pred_accel.csv')\n",
    "create_csv_submission(id_out_test, predict_labels(w_lsq, tx_out) , '../results/lsq_pred.csv')\n",
    "#create_csv_submission(id_out_test, predict_labels(w_sgd, tx_out) , '../results/sgd_pred_noadapt.csv')"
   ]
  },
  {
   "cell_type": "markdown",
   "metadata": {},
   "source": [
    "# Logistic Regression"
   ]
  },
  {
   "cell_type": "code",
   "execution_count": 42,
   "metadata": {
    "ExecuteTime": {
     "end_time": "2019-10-21T11:38:27.136810Z",
     "start_time": "2019-10-21T11:38:26.761824Z"
    }
   },
   "outputs": [
    {
     "name": "stdout",
     "output_type": "stream",
     "text": [
      "Logistic Regression GD (0/999): loss=2426.015131959809\n",
      "Logistic Regression GD (100/999): loss=3566.242680130491\n",
      "Logistic Regression GD (200/999): loss=3635.2681155235805\n",
      "Logistic Regression GD (300/999): loss=3654.3587301208827\n",
      "Logistic Regression GD (400/999): loss=3664.4387586529047\n",
      "Logistic Regression GD (500/999): loss=3671.1446596616224\n",
      "Logistic Regression GD (600/999): loss=3675.7574334914507\n",
      "Logistic Regression GD (700/999): loss=3678.9454049129636\n",
      "Logistic Regression GD (800/999): loss=3681.203372771467\n",
      "Logistic Regression GD (900/999): loss=3682.9381800834035\n",
      "[-2.93049859  7.49866959  5.89298936 ... -3.65541366 -1.10117051\n",
      " -3.30020571]\n",
      "Accuracy ratio = 0.761\n",
      "Test loss = 1577.568\n",
      "Train loss = 5499.307\n"
     ]
    }
   ],
   "source": [
    "y_train_log = np.copy(y_train)\n",
    "y_train_log[y_train == -1] = 0\n",
    "\n",
    "y_test_log = np.copy(y_test)\n",
    "y_test_log[y_test == -1] = 0\n",
    "\n",
    "w_init = np.array([0] * tx_train.shape[1])\n",
    "max_iter = 1000\n",
    "gamma = 1e-4\n",
    "w_lrgd, loss_lrgd = logistic_regression(y_train_log,\n",
    "                                        tx_train,\n",
    "                                        w_init,\n",
    "                                        max_iter,\n",
    "                                        gamma,\n",
    "                                        pr=True,\n",
    "                                        adapt_gamma=False,\n",
    "                                       accel=False)\n",
    "\n",
    "lrgd_prediction = predict_labels_log(w_lrgd, tx_test)\n",
    "print(tx_test.dot(w_lrgd))\n",
    "acc_lrgd = accuracy_ratio(lrgd_prediction, y_test)\n",
    "\n",
    "print('Accuracy ratio = %.3f' % acc_lrgd)\n",
    "print('Test loss = %.3f' % compute_loss_logistic(y_test_log, tx_test, w_lrgd))\n",
    "print('Train loss = %.3f' % loss_lrgd)"
   ]
  },
  {
   "cell_type": "code",
   "execution_count": 51,
   "metadata": {
    "ExecuteTime": {
     "end_time": "2019-10-21T11:39:34.437968Z",
     "start_time": "2019-10-21T11:39:34.112172Z"
    },
    "scrolled": false
   },
   "outputs": [
    {
     "name": "stdout",
     "output_type": "stream",
     "text": [
      " Regularized Logistic Regression GD (0/999): loss=2426.015131959809\n",
      " Regularized Logistic Regression GD (100/999): loss=3578.751564714316\n",
      " Regularized Logistic Regression GD (200/999): loss=3602.300162691143\n",
      " Regularized Logistic Regression GD (300/999): loss=3611.89446911086\n",
      " Regularized Logistic Regression GD (400/999): loss=3615.620522195938\n",
      " Regularized Logistic Regression GD (500/999): loss=3617.2442889474983\n",
      " Regularized Logistic Regression GD (600/999): loss=3617.9967192861327\n",
      " Regularized Logistic Regression GD (700/999): loss=3618.3640235791436\n",
      " Regularized Logistic Regression GD (800/999): loss=3618.551971291028\n",
      " Regularized Logistic Regression GD (900/999): loss=3618.652091295372\n",
      "Accuracy ratio = 0.753\n",
      "Test loss = 1518.903\n",
      "Train loss = 6580.018\n"
     ]
    }
   ],
   "source": [
    "lambda_ = 50\n",
    "gamma = 1e-4\n",
    "w_rlrgd, loss_rlrgd = reg_logistic_regression(y_train_log,\n",
    "                                              tx_train,\n",
    "                                              lambda_,\n",
    "                                              w_init,\n",
    "                                              max_iter,\n",
    "                                              gamma,\n",
    "                                              pr=True,\n",
    "                                              adapt_gamma=False, \n",
    "                                              accel=False)\n",
    "rlrgd_prediction = predict_labels_log(w_rlrgd, tx_test)\n",
    "acc_rlrgd = accuracy_ratio(rlrgd_prediction, y_test)\n",
    "print('Accuracy ratio = %.3f' % acc_rlrgd)\n",
    "print('Test loss = %.3f' % compute_loss_logistic(y_test_log, tx_test, w_rlrgd))\n",
    "print('Train loss = %.3f' % loss_rlrgd)"
   ]
  },
  {
   "cell_type": "markdown",
   "metadata": {},
   "source": [
    "# Logistic regression NEW"
   ]
  },
  {
   "cell_type": "code",
   "execution_count": 52,
   "metadata": {
    "ExecuteTime": {
     "end_time": "2019-10-21T11:39:47.421010Z",
     "start_time": "2019-10-21T11:39:43.831525Z"
    }
   },
   "outputs": [
    {
     "name": "stdout",
     "output_type": "stream",
     "text": [
      "Logistic Regression GD (0/9999): loss=4852.030263919618\n",
      "Logistic Regression GD (100/9999): loss=3654.1392438222947\n",
      "Logistic Regression GD (200/9999): loss=3564.558646719308\n",
      "Logistic Regression GD (300/9999): loss=3523.364533232375\n",
      "Logistic Regression GD (400/9999): loss=3498.436715964075\n",
      "Logistic Regression GD (500/9999): loss=3481.415210194921\n",
      "Logistic Regression GD (600/9999): loss=3468.977380821787\n",
      "Logistic Regression GD (700/9999): loss=3459.440985733374\n",
      "Logistic Regression GD (800/9999): loss=3451.8400882466776\n",
      "Logistic Regression GD (900/9999): loss=3445.581638591335\n",
      "Logistic Regression GD (1000/9999): loss=3440.2862090212748\n",
      "Logistic Regression GD (1100/9999): loss=3435.7035107698302\n",
      "Logistic Regression GD (1200/9999): loss=3431.664039821586\n",
      "Logistic Regression GD (1300/9999): loss=3428.050135781101\n",
      "Logistic Regression GD (1400/9999): loss=3424.7781419803514\n",
      "Logistic Regression GD (1500/9999): loss=3421.7871603284266\n",
      "Logistic Regression GD (1600/9999): loss=3419.031826728634\n",
      "Logistic Regression GD (1700/9999): loss=3416.4775872969367\n",
      "Logistic Regression GD (1800/9999): loss=3414.097557137071\n",
      "Logistic Regression GD (1900/9999): loss=3411.8703966528665\n",
      "Logistic Regression GD (2000/9999): loss=3409.7788521526945\n",
      "Logistic Regression GD (2100/9999): loss=3407.8087366109467\n",
      "Logistic Regression GD (2200/9999): loss=3405.9482063388696\n",
      "Logistic Regression GD (2300/9999): loss=3404.1872394398124\n",
      "Logistic Regression GD (2400/9999): loss=3402.517253797576\n",
      "Logistic Regression GD (2500/9999): loss=3400.9308228824975\n",
      "Logistic Regression GD (2600/9999): loss=3399.4214610617237\n",
      "Logistic Regression GD (2700/9999): loss=3397.9834589552374\n",
      "Logistic Regression GD (2800/9999): loss=3396.6117553015974\n",
      "Logistic Regression GD (2900/9999): loss=3395.301835804712\n",
      "Logistic Regression GD (3000/9999): loss=3394.049652175743\n",
      "Logistic Regression GD (3100/9999): loss=3392.8515564827194\n",
      "Logistic Regression GD (3200/9999): loss=3391.7042472487155\n",
      "Logistic Regression GD (3300/9999): loss=3390.6047246794096\n",
      "Logistic Regression GD (3400/9999): loss=3389.550253072661\n",
      "Logistic Regression GD (3500/9999): loss=3388.5383289484444\n",
      "Logistic Regression GD (3600/9999): loss=3387.566653791935\n",
      "Logistic Regression GD (3700/9999): loss=3386.63311056372\n",
      "Logistic Regression GD (3800/9999): loss=3385.7357433253965\n",
      "Logistic Regression GD (3900/9999): loss=3384.872739474228\n",
      "Logistic Regression GD (4000/9999): loss=3384.042414190022\n",
      "Logistic Regression GD (4100/9999): loss=3383.2431967803295\n",
      "Logistic Regression GD (4200/9999): loss=3382.4736186726677\n",
      "Logistic Regression GD (4300/9999): loss=3381.7323028500678\n",
      "Logistic Regression GD (4400/9999): loss=3381.017954562002\n",
      "Logistic Regression GD (4500/9999): loss=3380.3293531696972\n",
      "Logistic Regression GD (4600/9999): loss=3379.6653450050317\n",
      "Logistic Regression GD (4700/9999): loss=3379.0248371371626\n",
      "Logistic Regression GD (4800/9999): loss=3378.4067919522204\n",
      "Logistic Regression GD (4900/9999): loss=3377.8102224599825\n",
      "Logistic Regression GD (5000/9999): loss=3377.2341882477594\n",
      "Logistic Regression GD (5100/9999): loss=3376.677792007218\n",
      "Logistic Regression GD (5200/9999): loss=3376.140176564367\n",
      "Logistic Regression GD (5300/9999): loss=3375.620522347105\n",
      "Logistic Regression GD (5400/9999): loss=3375.1180452290155\n",
      "Logistic Regression GD (5500/9999): loss=3374.631994692312\n",
      "Logistic Regression GD (5600/9999): loss=3374.161652257284\n",
      "Logistic Regression GD (5700/9999): loss=3373.706330130346\n",
      "Logistic Regression GD (5800/9999): loss=3373.265370027554\n",
      "Logistic Regression GD (5900/9999): loss=3372.8381421355516\n",
      "Logistic Regression GD (6000/9999): loss=3372.424044176749\n",
      "Logistic Regression GD (6100/9999): loss=3372.0225005505617\n",
      "Logistic Regression GD (6200/9999): loss=3371.63296152723\n",
      "Logistic Regression GD (6300/9999): loss=3371.254902475158\n",
      "Logistic Regression GD (6400/9999): loss=3370.887823106903\n",
      "Logistic Regression GD (6500/9999): loss=3370.531246732563\n",
      "Logistic Regression GD (6600/9999): loss=3370.1847195127357\n",
      "Logistic Regression GD (6700/9999): loss=3369.847809705867\n",
      "Logistic Regression GD (6800/9999): loss=3369.520106907339\n",
      "Logistic Regression GD (6900/9999): loss=3369.2012212794943\n",
      "Logistic Regression GD (7000/9999): loss=3368.890782773322\n",
      "Logistic Regression GD (7100/9999): loss=3368.588440343736\n",
      "Logistic Regression GD (7200/9999): loss=3368.293861161119\n",
      "Logistic Regression GD (7300/9999): loss=3368.006729822342\n",
      "Logistic Regression GD (7400/9999): loss=3367.726747564826\n",
      "Logistic Regression GD (7500/9999): loss=3367.453631487175\n",
      "Logistic Regression GD (7600/9999): loss=3367.1871137799153\n",
      "Logistic Regression GD (7700/9999): loss=3366.9269409696763\n",
      "Logistic Regression GD (7800/9999): loss=3366.6728731798103\n",
      "Logistic Regression GD (7900/9999): loss=3366.4246834101405\n",
      "Logistic Regression GD (8000/9999): loss=3366.1821568381856\n",
      "Logistic Regression GD (8100/9999): loss=3365.945090143725\n",
      "Logistic Regression GD (8200/9999): loss=3365.7132908582935\n",
      "Logistic Regression GD (8300/9999): loss=3365.4865767407255\n",
      "Logistic Regression GD (8400/9999): loss=3365.264775179552\n",
      "Logistic Regression GD (8500/9999): loss=3365.047722622754\n",
      "Logistic Regression GD (8600/9999): loss=3364.835264035046\n",
      "Logistic Regression GD (8700/9999): loss=3364.6272523826074\n",
      "Logistic Regression GD (8800/9999): loss=3364.4235481450014\n",
      "Logistic Regression GD (8900/9999): loss=3364.224018853747\n",
      "Logistic Regression GD (9000/9999): loss=3364.028538656954\n",
      "Logistic Regression GD (9100/9999): loss=3363.8369879092097\n",
      "Logistic Regression GD (9200/9999): loss=3363.64925278588\n",
      "Logistic Regression GD (9300/9999): loss=3363.465224920832\n",
      "Logistic Regression GD (9400/9999): loss=3363.284801066624\n",
      "Logistic Regression GD (9500/9999): loss=3363.1078827761085\n",
      "Logistic Regression GD (9600/9999): loss=3362.934376104362\n",
      "Logistic Regression GD (9700/9999): loss=3362.7641913299312\n",
      "Logistic Regression GD (9800/9999): loss=3362.597242694317\n",
      "Logistic Regression GD (9900/9999): loss=3362.4334481586393\n",
      "Accuracy ratio = 0.798\n",
      "Test loss = 1425.796\n",
      "Train loss = 3359.998\n",
      "[-8.25813391e-01  3.00671696e-01 -1.89320681e-01  5.45017459e-02\n",
      " -6.32669406e-01  2.51524194e-02  7.58180348e-02  4.36345533e-02\n",
      " -3.69840078e-02 -8.75289054e-03 -2.14453049e-01  9.84405610e-02\n",
      "  6.96018890e-01  1.70344776e-01 -9.60111349e-02  9.74740124e-02\n",
      " -4.08186315e-01 -9.25502003e-02 -1.93511156e-01 -3.09922288e-02\n",
      " -2.38676006e-01  1.77620802e-01  1.14070544e+00 -2.41001853e-01\n",
      " -1.42377405e+00  2.72908082e-01  2.98280094e-01 -1.08650193e+00\n",
      "  3.25398434e-01 -3.48511627e-01  1.90602179e-05  3.34096799e-03\n",
      "  4.20310213e-02 -2.37161694e-01  1.37924090e-01 -1.11940488e-01\n",
      "  1.57755255e-01  1.24641443e-01  9.61713083e-02  1.86798925e-01\n",
      " -7.75586146e-02  5.90643230e-02  2.17500579e-01 -4.44109388e-02\n",
      " -7.97014755e-03 -5.46330723e-02  4.66682846e-03 -4.80028837e-02\n",
      " -1.25908409e-01 -3.14082819e-02 -5.37096792e-01  4.27785595e-02\n",
      " -3.13028293e-01  3.74392640e-02 -1.04993170e-01  2.14855086e-01\n",
      " -9.93240633e-01 -1.00223824e+00 -1.35320409e-01 -6.50111862e-01\n",
      " -1.23922649e-11]\n"
     ]
    }
   ],
   "source": [
    "w_init = np.zeros(tx_train.shape[1])\n",
    "max_iter = 10000\n",
    "gamma = 1e-5\n",
    "w_lrgd, loss_lrgd = logistic_regression(y_train,\n",
    "                                        tx_train,\n",
    "                                        w_init,\n",
    "                                        max_iter,\n",
    "                                        gamma,\n",
    "                                        pr=True,\n",
    "                                        adapt_gamma=False,\n",
    "                                       accel=False,\n",
    "                                       new=True)\n",
    "\n",
    "lrgd_prediction = predict_labels(w_lrgd, tx_test)\n",
    "\n",
    "acc_lrgd = accuracy_ratio(lrgd_prediction, y_test)\n",
    "\n",
    "print('Accuracy ratio = %.3f' % acc_lrgd)\n",
    "print('Test loss = %.3f' % compute_loss_logistic_new(y_test, tx_test, w_lrgd))\n",
    "print('Train loss = %.3f' % loss_lrgd)\n",
    "print((w_lrgd))"
   ]
  },
  {
   "cell_type": "code",
   "execution_count": 53,
   "metadata": {
    "ExecuteTime": {
     "end_time": "2019-10-21T11:40:02.224212Z",
     "start_time": "2019-10-21T11:39:58.285049Z"
    }
   },
   "outputs": [
    {
     "name": "stdout",
     "output_type": "stream",
     "text": [
      " Regularized Logistic Regression GD (0/9999): loss=4852.030263919618\n",
      " Regularized Logistic Regression GD (100/9999): loss=3486.9271759125572\n",
      " Regularized Logistic Regression GD (200/9999): loss=3381.379448264267\n",
      " Regularized Logistic Regression GD (300/9999): loss=3340.1894903923553\n",
      " Regularized Logistic Regression GD (400/9999): loss=3318.588235454169\n",
      " Regularized Logistic Regression GD (500/9999): loss=3305.479589999461\n",
      " Regularized Logistic Regression GD (600/9999): loss=3296.830977984165\n",
      " Regularized Logistic Regression GD (700/9999): loss=3290.814853810412\n",
      " Regularized Logistic Regression GD (800/9999): loss=3286.474373851163\n",
      " Regularized Logistic Regression GD (900/9999): loss=3283.2567177360365\n",
      " Regularized Logistic Regression GD (1000/9999): loss=3280.8196205372565\n",
      " Regularized Logistic Regression GD (1100/9999): loss=3278.9403763036253\n",
      " Regularized Logistic Regression GD (1200/9999): loss=3277.468678626238\n",
      " Regularized Logistic Regression GD (1300/9999): loss=3276.3002416451277\n",
      " Regularized Logistic Regression GD (1400/9999): loss=3275.3611239151182\n",
      " Regularized Logistic Regression GD (1500/9999): loss=3274.59795736903\n",
      " Regularized Logistic Regression GD (1600/9999): loss=3273.9716266416967\n",
      " Regularized Logistic Regression GD (1700/9999): loss=3273.4530617705996\n",
      " Regularized Logistic Regression GD (1800/9999): loss=3273.020375300035\n",
      " Regularized Logistic Regression GD (1900/9999): loss=3272.6568804189055\n",
      " Regularized Logistic Regression GD (2000/9999): loss=3272.3496999144522\n",
      " Regularized Logistic Regression GD (2100/9999): loss=3272.0887784366782\n",
      " Regularized Logistic Regression GD (2200/9999): loss=3271.866173937757\n",
      " Regularized Logistic Regression GD (2300/9999): loss=3271.675544535943\n",
      " Regularized Logistic Regression GD (2400/9999): loss=3271.511773467777\n",
      " Regularized Logistic Regression GD (2500/9999): loss=3271.3706924235576\n",
      " Regularized Logistic Regression GD (2600/9999): loss=3271.248875516419\n",
      " Regularized Logistic Regression GD (2700/9999): loss=3271.1434843415745\n",
      " Regularized Logistic Regression GD (2800/9999): loss=3271.052150269104\n",
      " Regularized Logistic Regression GD (2900/9999): loss=3270.972884084983\n",
      " Regularized Logistic Regression GD (3000/9999): loss=3270.9040058858955\n",
      " Regularized Logistic Regression GD (3100/9999): loss=3270.844090105642\n",
      " Regularized Logistic Regression GD (3200/9999): loss=3270.791921951561\n",
      " Regularized Logistic Regression GD (3300/9999): loss=3270.7464625288235\n",
      " Regularized Logistic Regression GD (3400/9999): loss=3270.7068206472145\n",
      " Regularized Logistic Regression GD (3500/9999): loss=3270.672229821278\n",
      " Regularized Logistic Regression GD (3600/9999): loss=3270.6420293489173\n",
      " Regularized Logistic Regression GD (3700/9999): loss=3270.615648625963\n",
      " Regularized Logistic Regression GD (3800/9999): loss=3270.592594054164\n",
      " Regularized Logistic Regression GD (3900/9999): loss=3270.57243804753\n",
      " Regularized Logistic Regression GD (4000/9999): loss=3270.554809751694\n",
      " Regularized Logistic Regression GD (4100/9999): loss=3270.5393871733672\n",
      " Regularized Logistic Regression GD (4200/9999): loss=3270.5258904791776\n",
      " Regularized Logistic Regression GD (4300/9999): loss=3270.5140762707847\n",
      " Regularized Logistic Regression GD (4400/9999): loss=3270.503732679977\n",
      " Regularized Logistic Regression GD (4500/9999): loss=3270.4946751559273\n",
      " Regularized Logistic Regression GD (4600/9999): loss=3270.486742839422\n",
      " Regularized Logistic Regression GD (4700/9999): loss=3270.479795436773\n",
      " Regularized Logistic Regression GD (4800/9999): loss=3270.4737105204467\n",
      " Regularized Logistic Regression GD (4900/9999): loss=3270.468381195206\n",
      " Regularized Logistic Regression GD (5000/9999): loss=3270.463714078009\n",
      " Regularized Logistic Regression GD (5100/9999): loss=3270.459627547834\n",
      " Regularized Logistic Regression GD (5200/9999): loss=3270.4560502280588\n",
      " Regularized Logistic Regression GD (5300/9999): loss=3270.4529196695494\n",
      " Regularized Logistic Regression GD (5400/9999): loss=3270.4501812071358\n",
      " Regularized Logistic Regression GD (5500/9999): loss=3270.4477869660295\n",
      " Regularized Logistic Regression GD (5600/9999): loss=3270.445694998089\n",
      " Regularized Logistic Regression GD (5700/9999): loss=3270.4438685304995\n",
      " Regularized Logistic Regression GD (5800/9999): loss=3270.442275311981\n",
      " Regularized Logistic Regression GD (5900/9999): loss=3270.440887043536\n",
      " Regularized Logistic Regression GD (6000/9999): loss=3270.4396788825998\n",
      " Regularized Logistic Regression GD (6100/9999): loss=3270.438629010923\n",
      " Regularized Logistic Regression GD (6200/9999): loss=3270.4377182578287\n",
      " Regularized Logistic Regression GD (6300/9999): loss=3270.4369297715675\n",
      " Regularized Logistic Regression GD (6400/9999): loss=3270.43624873254\n",
      " Regularized Logistic Regression GD (6500/9999): loss=3270.4356621028896\n",
      " Regularized Logistic Regression GD (6600/9999): loss=3270.43515840779\n",
      " Regularized Logistic Regression GD (6700/9999): loss=3270.434727544293\n",
      " Regularized Logistic Regression GD (6800/9999): loss=3270.4343606141865\n",
      " Regularized Logistic Regression GD (6900/9999): loss=3270.4340497777853\n",
      " Regularized Logistic Regression GD (7000/9999): loss=3270.433788125959\n",
      " Regularized Logistic Regression GD (7100/9999): loss=3270.433569568047\n",
      " Regularized Logistic Regression GD (7200/9999): loss=3270.4333887336743\n",
      " Regularized Logistic Regression GD (7300/9999): loss=3270.433240886663\n",
      " Regularized Logistic Regression GD (7400/9999): loss=3270.4331218495054\n",
      " Regularized Logistic Regression GD (7500/9999): loss=3270.433027937112\n",
      " Regularized Logistic Regression GD (7600/9999): loss=3270.4329558985983\n",
      " Regularized Logistic Regression GD (7700/9999): loss=3270.4329028661473\n",
      " Regularized Logistic Regression GD (7800/9999): loss=3270.432866310066\n",
      " Regularized Logistic Regression GD (7900/9999): loss=3270.4328439992196\n",
      " Regularized Logistic Regression GD (8000/9999): loss=3270.432833966233\n",
      " Regularized Logistic Regression GD (8100/9999): loss=3270.4328344768296\n",
      " Regularized Logistic Regression GD (8200/9999): loss=3270.4328440028135\n",
      " Regularized Logistic Regression GD (8300/9999): loss=3270.4328611982482\n",
      " Regularized Logistic Regression GD (8400/9999): loss=3270.4328848784403\n",
      " Regularized Logistic Regression GD (8500/9999): loss=3270.4329140013842\n",
      " Regularized Logistic Regression GD (8600/9999): loss=3270.432947651381\n",
      " Regularized Logistic Regression GD (8700/9999): loss=3270.4329850245454\n",
      " Regularized Logistic Regression GD (8800/9999): loss=3270.43302541601\n",
      " Regularized Logistic Regression GD (8900/9999): loss=3270.4330682085865\n",
      " Regularized Logistic Regression GD (9000/9999): loss=3270.4331128627437\n",
      " Regularized Logistic Regression GD (9100/9999): loss=3270.4331589077206\n",
      " Regularized Logistic Regression GD (9200/9999): loss=3270.4332059336593\n",
      " Regularized Logistic Regression GD (9300/9999): loss=3270.433253584624\n",
      " Regularized Logistic Regression GD (9400/9999): loss=3270.4333015524235\n",
      " Regularized Logistic Regression GD (9500/9999): loss=3270.4333495711057\n",
      " Regularized Logistic Regression GD (9600/9999): loss=3270.4333974120964\n",
      " Regularized Logistic Regression GD (9700/9999): loss=3270.4334448798777\n",
      " Regularized Logistic Regression GD (9800/9999): loss=3270.433491808129\n",
      " Regularized Logistic Regression GD (9900/9999): loss=3270.4335380563284\n",
      "Accuracy ratio = 0.799\n",
      "Test loss = 1340.376\n",
      "Train loss = 3264.306\n",
      "[-2.97934142e-01  2.22370216e-01 -1.45354299e-01  1.25783059e-01\n",
      " -5.68732405e-01  2.81883742e-02 -1.01510962e-01 -8.25531333e-03\n",
      " -1.87726681e-02 -8.03177481e-03 -9.02050146e-02  7.21325045e-02\n",
      "  4.65729958e-01  1.23315698e-01 -2.68103874e-02  3.78816286e-02\n",
      " -2.67143490e-01 -1.84760510e-02 -1.19888691e-01 -3.32921661e-02\n",
      " -1.61923806e-01 -8.80912591e-03  4.78370656e-01 -6.82790597e-02\n",
      " -2.62376860e-01  1.49191298e-01  7.03162730e-02 -3.57366490e-01\n",
      "  6.28052793e-03 -9.05932764e-02  2.12116217e-06 -1.40721743e-02\n",
      "  3.43134513e-02 -2.30621271e-01  9.02979150e-02 -9.77061796e-02\n",
      "  6.41456350e-02  4.08225740e-02  1.10137696e-02  1.04569145e-01\n",
      " -3.61708883e-02  1.85972155e-02  1.55979954e-01 -1.24711880e-01\n",
      " -6.93980891e-03 -3.43803734e-02 -1.34191058e-02 -4.84522918e-02\n",
      " -1.40485596e-01 -1.83508725e-02 -5.32990586e-01  9.23996813e-03\n",
      " -1.28364714e-01  3.62010930e-02 -1.86939925e-02  2.99447316e-02\n",
      " -2.44175983e-01 -1.78501619e-01 -6.07291728e-02 -5.49844576e-02\n",
      " -2.52223860e-12]\n"
     ]
    }
   ],
   "source": [
    "lambda_ = 100\n",
    "gamma = 5e-6\n",
    "w_rlrgd, loss_rlrgd = reg_logistic_regression(y_train,\n",
    "                                              tx_train,\n",
    "                                              lambda_,\n",
    "                                              w_init,\n",
    "                                              max_iter,\n",
    "                                              gamma,\n",
    "                                              pr=True,\n",
    "                                              adapt_gamma=False, \n",
    "                                              accel=False,\n",
    "                                              new = True)\n",
    "rlrgd_prediction = predict_labels(w_rlrgd, tx_test)\n",
    "acc_rlrgd = accuracy_ratio(rlrgd_prediction, y_test)\n",
    "print('Accuracy ratio = %.3f' % acc_rlrgd)\n",
    "print('Test loss = %.3f' % compute_loss_logistic_new(y_test, tx_test, w_rlrgd))\n",
    "print('Train loss = %.3f' % loss_rlrgd)\n",
    "print((w_rlrgd))"
   ]
  },
  {
   "cell_type": "code",
   "execution_count": 54,
   "metadata": {
    "ExecuteTime": {
     "end_time": "2019-10-21T11:40:49.132002Z",
     "start_time": "2019-10-21T11:40:11.716871Z"
    }
   },
   "outputs": [
    {
     "name": "stdout",
     "output_type": "stream",
     "text": [
      "2\n"
     ]
    },
    {
     "data": {
      "image/png": "[encoded data removed]",
      "text/plain": [
       "<Figure size 432x288 with 1 Axes>"
      ]
     },
     "metadata": {
      "needs_background": "light"
     },
     "output_type": "display_data"
    },
    {
     "data": {
      "image/png": "[encoded data removed]",
      "text/plain": [
       "<Figure size 432x288 with 1 Axes>"
      ]
     },
     "metadata": {
      "needs_background": "light"
     },
     "output_type": "display_data"
    }
   ],
   "source": [
    "def cross_validation(y, x, k_indices, k, lambda_, degree):\n",
    "    \"\"\"return the loss of ridge regression.\"\"\"\n",
    "  \n",
    "    index = np.arange(k_indices.shape[0])\n",
    "    index_te = k\n",
    "    index_tr = index[index!=index_te]\n",
    "    \n",
    "    x_tr = x[np.ravel(k_indices[index_tr])]\n",
    "    x_te = x[         k_indices[index_te]]\n",
    "    y_tr = y[np.ravel(k_indices[index_tr])]\n",
    "    y_te = y[         k_indices[index_te]]\n",
    "    tx_tr = build_poly(x_tr, degree)\n",
    "    tx_te = build_poly(x_te, degree)\n",
    "    \n",
    "    weight, loss_tr = ridge_regression(y_tr, tx_tr, lambda_)\n",
    "  \n",
    "    loss_te = compute_loss(y_te, tx_te, weight)\n",
    "    return loss_tr, loss_te, weight\n",
    "\n",
    "def best_degree_lambda(y, x):\n",
    "    \"\"\"The entry.\"\"\"\n",
    "    # define parameters\n",
    "    seeds = range(20)\n",
    "    lambdas = np.logspace(-7, 0, 30)\n",
    "    \n",
    "    k_fold = 4\n",
    "    ratio_train = 0.3\n",
    "    degrees = range(1, 5)\n",
    "    \n",
    "    # define list to store the variable\n",
    "    rmse_te = np.empty((len(seeds), len(degrees)))\n",
    "    lambda_all = np.empty((len(seeds), len(degrees)))\n",
    "    \n",
    "    variance_te = np.empty(len(degrees))\n",
    "    \n",
    "    for index_seed, seed in enumerate(seeds):\n",
    "        np.random.seed(seed)\n",
    "        \n",
    "        x_tr, y_tr, x_te, y_te = split_data(x, y, ratio_train, seed)\n",
    "        #print(x_tr.shape)\n",
    "        y_train, x_train = clean_data(y_tr, x_tr)\n",
    "        #y_test, x_test = clean_data(y_test, x_test)\n",
    "        \n",
    "        x_tr_std = standardize_features(x_train)[0]\n",
    "        x_te_std = standardize_features(x_te)[0]\n",
    "        \n",
    "        k_indices = build_k_indices(y_tr, k_fold, 1)\n",
    "    \n",
    "        for index_deg, deg in enumerate(degrees):\n",
    "            tx_te = build_poly(x_te_std, deg)\n",
    "            \n",
    "            ws_lambda = []\n",
    "            loss_te_lambda = np.empty(len(lambdas))\n",
    "            \n",
    "            for index_l, lambda_ in enumerate(lambdas):\n",
    "                ws_k= []\n",
    "                loss_te_k=np.empty(k_fold)\n",
    "                \n",
    "                for k in range(k_fold):\n",
    "                    _, loss_te_tmp, w_tmp = cross_validation(y_tr, x_tr_std, k_indices, k, lambda_, deg)\n",
    "                    loss_te_k[k] = loss_te_tmp\n",
    "                    ws_k.append(w_tmp)\n",
    "                    \n",
    "                loss_te_lambda[index_l] = np.mean(loss_te_k)    \n",
    "                ws_lambda.append(ws_k)\n",
    "                \n",
    "            ind_opt_lambda = np.argmin(loss_te_lambda)\n",
    "            ws_opt = ws_lambda[ind_opt_lambda]\n",
    "            \n",
    "            loss_te = np.mean([np.sqrt(2*compute_loss(y_te, tx_te, w)) for w in ws_opt])             \n",
    "            rmse_te[index_seed,index_deg] = loss_te \n",
    "            lambda_all[index_seed,index_deg] = lambdas[ind_opt_lambda]\n",
    "            \n",
    "    variance_te = np.std(rmse_te, axis=0)\n",
    "    \n",
    "    plt.figure(1)\n",
    "    plt.errorbar(degrees, np.mean(rmse_te,axis=0), yerr=variance_te)\n",
    "    plt.figure(2)\n",
    "    plt.errorbar(degrees, np.mean(lambda_all,axis=0), yerr=np.std(lambda_all, axis=0))\n",
    "    print(degrees[np.argmin(np.mean(rmse_te,axis=0))])\n",
    "    return np.mean(rmse_te,axis=0), variance_te\n",
    "    #plt.figure(2)\n",
    "    #plt.boxplot(rmse_te)\n",
    "    \n",
    "    \n",
    "         \n",
    "rmse_CV, var_CV = best_degree_lambda(y, x)\n"
   ]
  },
  {
   "cell_type": "code",
   "execution_count": 55,
   "metadata": {
    "ExecuteTime": {
     "end_time": "2019-10-21T11:40:49.139000Z",
     "start_time": "2019-10-21T11:40:49.134296Z"
    }
   },
   "outputs": [
    {
     "data": {
      "text/plain": [
       "array([0.82530948, 0.81605139, 0.85528506, 1.15471421])"
      ]
     },
     "execution_count": 55,
     "metadata": {},
     "output_type": "execute_result"
    }
   ],
   "source": [
    "rmse_CV"
   ]
  },
  {
   "cell_type": "code",
   "execution_count": null,
   "metadata": {},
   "outputs": [],
   "source": []
  }
 ],
 "metadata": {
  "kernelspec": {
   "display_name": "Python 3",
   "language": "python",
   "name": "python3"
  },
  "language_info": {
   "codemirror_mode": {
    "name": "ipython",
    "version": 3
   },
   "file_extension": ".py",
   "mimetype": "text/x-python",
   "name": "python",
   "nbconvert_exporter": "python",
   "pygments_lexer": "ipython3",
   "version": "3.6.7"
  },
  "latex_envs": {
   "LaTeX_envs_menu_present": true,
   "autoclose": true,
   "autocomplete": true,
   "bibliofile": "biblio.bib",
   "cite_by": "apalike",
   "current_citInitial": 1,
   "eqLabelWithNumbers": true,
   "eqNumInitial": 1,
   "hotkeys": {
    "equation": "Ctrl-E",
    "itemize": "Ctrl-I"
   },
   "labels_anchors": false,
   "latex_user_defs": false,
   "report_style_numbering": false,
   "user_envs_cfg": false
  },
  "toc": {
   "base_numbering": 1,
   "nav_menu": {},
   "number_sections": true,
   "sideBar": true,
   "skip_h1_title": false,
   "title_cell": "Table of Contents",
   "title_sidebar": "Contents",
   "toc_cell": false,
   "toc_position": {},
   "toc_section_display": true,
   "toc_window_display": false
  }
 },
 "nbformat": 4,
 "nbformat_minor": 2
}
