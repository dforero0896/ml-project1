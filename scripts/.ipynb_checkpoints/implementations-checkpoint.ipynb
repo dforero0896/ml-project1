{
 "cells": [
  {
   "cell_type": "code",
   "execution_count": 2,
   "metadata": {
    "ExecuteTime": {
     "end_time": "2019-10-10T06:39:55.163939Z",
     "start_time": "2019-10-10T06:39:54.718817Z"
    }
   },
   "outputs": [],
   "source": [
    "from proj1_helpers import *\n",
    "from implementations import *\n",
    "import numpy as np\n",
    "import matplotlib.pyplot as plt"
   ]
  },
  {
   "cell_type": "code",
   "execution_count": 3,
   "metadata": {
    "ExecuteTime": {
     "end_time": "2019-10-10T06:40:21.302221Z",
     "start_time": "2019-10-10T06:39:55.166189Z"
    }
   },
   "outputs": [],
   "source": [
    "# Read train_y=LABELS, train_x=FEATURES and train_id=EVENT_IDS from dataset.\n",
    "subsamp = True\n",
    "y, tx, id_ = load_csv_data('../data/train.csv', sub_sample=subsamp)\n",
    "y_out_test, tx_out_test, id_out_test = load_csv_data('../data/test.csv', sub_sample=subsamp)"
   ]
  },
  {
   "cell_type": "code",
   "execution_count": 4,
   "metadata": {
    "ExecuteTime": {
     "end_time": "2019-10-10T06:40:44.651715Z",
     "start_time": "2019-10-10T06:40:44.627170Z"
    }
   },
   "outputs": [
    {
     "data": {
      "text/plain": [
       "((2500, 30), (2500, 30))"
      ]
     },
     "execution_count": 4,
     "metadata": {},
     "output_type": "execute_result"
    }
   ],
   "source": [
    "tx_train, y_train, tx_test, y_test = split_data(tx, y, ratio=0.5, seed = 42)\n",
    "tx_train.shape, tx_test.shape"
   ]
  },
  {
   "cell_type": "code",
   "execution_count": 5,
   "metadata": {
    "ExecuteTime": {
     "end_time": "2019-10-10T06:40:51.881737Z",
     "start_time": "2019-10-10T06:40:51.818603Z"
    }
   },
   "outputs": [],
   "source": [
    "# Clean data\n",
    "#y_train, tx_train = clean_data(y_train, tx_train)\n",
    "#y_test, tx_test = clean_data(y_test, tx_test) #Test data should not be cleaned.\n",
    "# Standardize data\n",
    "#y_train_std = standardize(y_train)\n",
    "tx_train_std = standardize_features(tx_train)\n",
    "#y_test_std = standardize(y_test)\n",
    "tx_test_std = standardize_features(tx_test)"
   ]
  },
  {
   "cell_type": "code",
   "execution_count": 6,
   "metadata": {
    "ExecuteTime": {
     "end_time": "2019-10-10T06:40:54.721082Z",
     "start_time": "2019-10-10T06:40:54.711485Z"
    }
   },
   "outputs": [
    {
     "name": "stdout",
     "output_type": "stream",
     "text": [
      "(2500, 30)\n"
     ]
    }
   ],
   "source": [
    "#y_train = y_train_std[0]\n",
    "tx_train = tx_train_std[0]\n",
    "#y_test = y_test_std[0]\n",
    "tx_test = tx_test_std[0]\n",
    "print(tx_test.shape)"
   ]
  },
  {
   "cell_type": "code",
   "execution_count": 7,
   "metadata": {
    "ExecuteTime": {
     "end_time": "2019-10-10T06:40:58.874508Z",
     "start_time": "2019-10-10T06:40:58.751276Z"
    },
    "scrolled": true
   },
   "outputs": [
    {
     "name": "stdout",
     "output_type": "stream",
     "text": [
      "GD (0/999): loss=0.5\n",
      "GD (100/999): loss=0.4031191950504085\n",
      "GD (200/999): loss=0.40060355739870657\n",
      "GD (300/999): loss=0.40014921233688094\n",
      "GD (400/999): loss=0.4000282833726026\n",
      "GD (500/999): loss=0.3999829140422058\n",
      "GD (600/999): loss=0.3999603112923332\n",
      "GD (700/999): loss=0.3999464688737984\n",
      "GD (800/999): loss=0.3999365686952614\n",
      "GD (900/999): loss=0.3999285948122304\n",
      "Accuracy ratio = 0.738\n",
      "Test loss = 0.377\n",
      "Train loss = 0.400\n"
     ]
    }
   ],
   "source": [
    "w_init = np.array([0]*tx_train.shape[1])\n",
    "max_iter = 1000\n",
    "gamma = 0.1\n",
    "w_gd, loss_gd = least_squares_GD(y_train, tx_train, w_init, max_iter, gamma, pr=True, adapt_gamma = False, kind = 'mse')\n",
    "gd_prediction = predict_labels(w_gd, tx_test)\n",
    "acc_gd = accuracy_ratio(gd_prediction, y_test)\n",
    "print('Accuracy ratio = %.3f'%acc_gd)\n",
    "print('Test loss = %.3f'%compute_loss(y_test, tx_test, w_gd))\n",
    "print('Train loss = %.3f'%loss_gd)"
   ]
  },
  {
   "cell_type": "code",
   "execution_count": 8,
   "metadata": {
    "ExecuteTime": {
     "end_time": "2019-10-10T06:41:06.397175Z",
     "start_time": "2019-10-10T06:41:06.149861Z"
    },
    "scrolled": false
   },
   "outputs": [
    {
     "name": "stdout",
     "output_type": "stream",
     "text": [
      "SGD (0/999): loss=0.5\n",
      "SGD (100/999): loss=0.9286261130837251\n",
      "SGD (200/999): loss=0.014075609150337433\n",
      "SGD (300/999): loss=0.05191573149138735\n",
      "SGD (400/999): loss=0.3377976686603511\n",
      "SGD (500/999): loss=0.10588953617169179\n",
      "SGD (600/999): loss=0.09467084616018956\n",
      "SGD (700/999): loss=0.03241674226316729\n",
      "SGD (800/999): loss=0.7437476662066301\n",
      "SGD (900/999): loss=1.743875116273989\n",
      "Accuracy ratio = 0.58\n",
      "Test loss = 5.77e-01\n",
      "Train loss = 4.67e-01\n"
     ]
    }
   ],
   "source": [
    "w_init = np.array([0]*tx_train.shape[1])\n",
    "gamma = 0.009\n",
    "batch_size = 1\n",
    "\n",
    "w_sgd, loss_sgd = least_squares_SGD(y_train, tx_train, w_init, batch_size, max_iter, gamma, pr = True, adapt_gamma=False, kind = 'mse')\n",
    "sgd_prediction = predict_labels(w_sgd, tx_test)\n",
    "acc_sgd = accuracy_ratio(sgd_prediction, y_test)\n",
    "print('Accuracy ratio = %.2f'%acc_sgd)\n",
    "print('Test loss = %.2e'%compute_loss(y_test, tx_test, w_sgd))\n",
    "print('Train loss = %.2e'%loss_sgd)"
   ]
  },
  {
   "cell_type": "code",
   "execution_count": 10,
   "metadata": {
    "ExecuteTime": {
     "end_time": "2019-10-10T06:42:06.527101Z",
     "start_time": "2019-10-10T06:42:06.518222Z"
    }
   },
   "outputs": [
    {
     "name": "stdout",
     "output_type": "stream",
     "text": [
      "Accuracy ratio = 0.55\n",
      "Train loss = 0.40\n",
      "Test loss = 4.55e+03\n"
     ]
    }
   ],
   "source": [
    "w_lsq, loss_lsq = least_squares(y_train, tx_train)\n",
    "lsq_prediction = predict_labels(w_lsq, tx_test)\n",
    "acc_lsq = accuracy_ratio(lsq_prediction, y_test)\n",
    "print('Accuracy ratio = %.2f'%acc_lsq)\n",
    "print('Train loss = %.2f'%loss_lsq)\n",
    "print('Test loss = %.2e'%compute_loss(y_test, tx_test, w_lsq))"
   ]
  },
  {
   "cell_type": "code",
   "execution_count": 28,
   "metadata": {
    "ExecuteTime": {
     "end_time": "2019-10-10T07:38:47.423540Z",
     "start_time": "2019-10-10T07:38:47.400474Z"
    }
   },
   "outputs": [
    {
     "name": "stdout",
     "output_type": "stream",
     "text": [
      "Accuracy ratio = 0.736\n",
      "Test loss = 0.380\n",
      "Train loss = 0.402\n"
     ]
    }
   ],
   "source": [
    "lambda_ = 2.5e-2\n",
    "w_rr, loss_rr = ridge_regression(y_train, tx_train, lambda_)\n",
    "rr_prediction = predict_labels(w_rr, tx_test)\n",
    "acc_rr = accuracy_ratio(rr_prediction, y_test)\n",
    "print('Accuracy ratio = %.3f'%acc_rr)\n",
    "print('Test loss = %.3f'%compute_loss(y_test, tx_test, w_rr))\n",
    "print('Train loss = %.3f'%loss_rr)"
   ]
  },
  {
   "cell_type": "code",
   "execution_count": 13,
   "metadata": {
    "ExecuteTime": {
     "end_time": "2019-10-10T06:42:32.096385Z",
     "start_time": "2019-10-10T06:42:32.066424Z"
    }
   },
   "outputs": [],
   "source": [
    "def ridge_regression_demo(x, y, degree, ratio, seed):\n",
    "    \"\"\"ridge regression demo.\"\"\"\n",
    "    # define parameter\n",
    "    lambdas = np.logspace(-5, 3, 50)\n",
    "    # split the data, and return train and test data\n",
    "    x_train, y_train, x_test, y_test = split_data(x, y, ratio, seed)\n",
    "    # form train and test data with polynomial basis function\n",
    "    #tx_train = build_poly(x_train, degree)\n",
    "    #tx_test = build_poly(x_test, degree)\n",
    "    tx_train=x_train\n",
    "    tx_test=x_test\n",
    "    rmse_tr = []\n",
    "    rmse_te = []\n",
    "    accuracies = []\n",
    "    for ind, lambda_ in enumerate(lambdas):\n",
    "        # calcualte weight through least square.\n",
    "        w_train, loss_train = ridge_regression(y_train, tx_train, lambda_)\n",
    "        rmse_tr.append(np.sqrt(2*loss_train))\n",
    "        rmse_te.append(np.sqrt(2*compute_loss(y_test, tx_test, w_train, kind = 'mse')))\n",
    "        accuracies.append(accuracy_ratio(predict_labels(w_train, tx_test), y_test))\n",
    "        print(\"proportion={p}, degree={d}, lambda={l:.3e}, Training RMSE={tr:.3f}, Testing RMSE={te:.3f}\".format(\n",
    "               p=ratio, d=degree, l=lambda_, tr=rmse_tr[ind], te=rmse_te[ind]))\n",
    "        \n",
    "    # Plot the obtained results\n",
    "    plot_train_test(rmse_tr, rmse_te, lambdas, degree)\n",
    "    plt.figure()\n",
    "    plt.semilogx(lambdas,accuracies, marker='o')\n",
    "def plot_train_test(train_errors, test_errors, lambdas, degree):\n",
    "    \"\"\"\n",
    "    train_errors, test_errors and lambas should be list (of the same size) the respective train error and test error for a given lambda,\n",
    "    * lambda[0] = 1\n",
    "    * train_errors[0] = RMSE of a ridge regression on the train set\n",
    "    * test_errors[0] = RMSE of the parameter found by ridge regression applied on the test set\n",
    "    \n",
    "    degree is just used for the title of the plot.\n",
    "    \"\"\"\n",
    "    plt.semilogx(lambdas, train_errors, color='b', marker='*', label=\"Train error\")\n",
    "    plt.semilogx(lambdas, test_errors, color='r', marker='*', label=\"Test error\")\n",
    "    plt.xlabel(\"lambda\")\n",
    "    plt.ylabel(\"RMSE\")\n",
    "    plt.title(\"Ridge regression for polynomial degree \" + str(degree))\n",
    "    leg = plt.legend(loc=1, shadow=True)\n",
    "    leg.draw_frame(False)\n",
    "    plt.savefig(\"../results/ridge_regression\")"
   ]
  },
  {
   "cell_type": "code",
   "execution_count": 14,
   "metadata": {
    "ExecuteTime": {
     "end_time": "2019-10-10T06:42:44.959505Z",
     "start_time": "2019-10-10T06:42:43.132413Z"
    },
    "scrolled": false
   },
   "outputs": [
    {
     "name": "stdout",
     "output_type": "stream",
     "text": [
      "proportion=0.5, degree=1, lambda=1.000e-05, Training RMSE=0.817, Testing RMSE=0.802\n",
      "proportion=0.5, degree=1, lambda=1.456e-05, Training RMSE=0.817, Testing RMSE=0.802\n",
      "proportion=0.5, degree=1, lambda=2.121e-05, Training RMSE=0.817, Testing RMSE=0.802\n",
      "proportion=0.5, degree=1, lambda=3.089e-05, Training RMSE=0.817, Testing RMSE=0.802\n",
      "proportion=0.5, degree=1, lambda=4.498e-05, Training RMSE=0.817, Testing RMSE=0.802\n",
      "proportion=0.5, degree=1, lambda=6.551e-05, Training RMSE=0.817, Testing RMSE=0.802\n",
      "proportion=0.5, degree=1, lambda=9.541e-05, Training RMSE=0.817, Testing RMSE=0.802\n",
      "proportion=0.5, degree=1, lambda=1.389e-04, Training RMSE=0.817, Testing RMSE=0.802\n",
      "proportion=0.5, degree=1, lambda=2.024e-04, Training RMSE=0.817, Testing RMSE=0.802\n",
      "proportion=0.5, degree=1, lambda=2.947e-04, Training RMSE=0.817, Testing RMSE=0.802\n",
      "proportion=0.5, degree=1, lambda=4.292e-04, Training RMSE=0.817, Testing RMSE=0.802\n",
      "proportion=0.5, degree=1, lambda=6.251e-04, Training RMSE=0.817, Testing RMSE=0.802\n",
      "proportion=0.5, degree=1, lambda=9.103e-04, Training RMSE=0.817, Testing RMSE=0.802\n",
      "proportion=0.5, degree=1, lambda=1.326e-03, Training RMSE=0.817, Testing RMSE=0.802\n",
      "proportion=0.5, degree=1, lambda=1.931e-03, Training RMSE=0.817, Testing RMSE=0.802\n",
      "proportion=0.5, degree=1, lambda=2.812e-03, Training RMSE=0.817, Testing RMSE=0.802\n",
      "proportion=0.5, degree=1, lambda=4.095e-03, Training RMSE=0.817, Testing RMSE=0.802\n",
      "proportion=0.5, degree=1, lambda=5.964e-03, Training RMSE=0.817, Testing RMSE=0.802\n",
      "proportion=0.5, degree=1, lambda=8.685e-03, Training RMSE=0.817, Testing RMSE=0.803\n",
      "proportion=0.5, degree=1, lambda=1.265e-02, Training RMSE=0.818, Testing RMSE=0.803\n",
      "proportion=0.5, degree=1, lambda=1.842e-02, Training RMSE=0.818, Testing RMSE=0.804\n",
      "proportion=0.5, degree=1, lambda=2.683e-02, Training RMSE=0.819, Testing RMSE=0.805\n",
      "proportion=0.5, degree=1, lambda=3.907e-02, Training RMSE=0.820, Testing RMSE=0.806\n",
      "proportion=0.5, degree=1, lambda=5.690e-02, Training RMSE=0.821, Testing RMSE=0.807\n",
      "proportion=0.5, degree=1, lambda=8.286e-02, Training RMSE=0.822, Testing RMSE=0.809\n",
      "proportion=0.5, degree=1, lambda=1.207e-01, Training RMSE=0.824, Testing RMSE=0.810\n",
      "proportion=0.5, degree=1, lambda=1.758e-01, Training RMSE=0.825, Testing RMSE=0.812\n",
      "proportion=0.5, degree=1, lambda=2.560e-01, Training RMSE=0.827, Testing RMSE=0.814\n",
      "proportion=0.5, degree=1, lambda=3.728e-01, Training RMSE=0.828, Testing RMSE=0.815\n",
      "proportion=0.5, degree=1, lambda=5.429e-01, Training RMSE=0.830, Testing RMSE=0.817\n",
      "proportion=0.5, degree=1, lambda=7.906e-01, Training RMSE=0.832, Testing RMSE=0.818\n",
      "proportion=0.5, degree=1, lambda=1.151e+00, Training RMSE=0.833, Testing RMSE=0.819\n",
      "proportion=0.5, degree=1, lambda=1.677e+00, Training RMSE=0.834, Testing RMSE=0.821\n",
      "proportion=0.5, degree=1, lambda=2.442e+00, Training RMSE=0.835, Testing RMSE=0.822\n",
      "proportion=0.5, degree=1, lambda=3.556e+00, Training RMSE=0.836, Testing RMSE=0.823\n",
      "proportion=0.5, degree=1, lambda=5.179e+00, Training RMSE=0.837, Testing RMSE=0.823\n",
      "proportion=0.5, degree=1, lambda=7.543e+00, Training RMSE=0.838, Testing RMSE=0.824\n",
      "proportion=0.5, degree=1, lambda=1.099e+01, Training RMSE=0.838, Testing RMSE=0.825\n",
      "proportion=0.5, degree=1, lambda=1.600e+01, Training RMSE=0.839, Testing RMSE=0.826\n",
      "proportion=0.5, degree=1, lambda=2.330e+01, Training RMSE=0.839, Testing RMSE=0.827\n",
      "proportion=0.5, degree=1, lambda=3.393e+01, Training RMSE=0.840, Testing RMSE=0.828\n",
      "proportion=0.5, degree=1, lambda=4.942e+01, Training RMSE=0.841, Testing RMSE=0.830\n",
      "proportion=0.5, degree=1, lambda=7.197e+01, Training RMSE=0.843, Testing RMSE=0.832\n",
      "proportion=0.5, degree=1, lambda=1.048e+02, Training RMSE=0.845, Testing RMSE=0.835\n",
      "proportion=0.5, degree=1, lambda=1.526e+02, Training RMSE=0.848, Testing RMSE=0.839\n",
      "proportion=0.5, degree=1, lambda=2.223e+02, Training RMSE=0.851, Testing RMSE=0.843\n",
      "proportion=0.5, degree=1, lambda=3.237e+02, Training RMSE=0.854, Testing RMSE=0.848\n",
      "proportion=0.5, degree=1, lambda=4.715e+02, Training RMSE=0.859, Testing RMSE=0.854\n",
      "proportion=0.5, degree=1, lambda=6.866e+02, Training RMSE=0.863, Testing RMSE=0.860\n",
      "proportion=0.5, degree=1, lambda=1.000e+03, Training RMSE=0.868, Testing RMSE=0.866\n"
     ]
    },
    {
     "data": {
      "image/png": "[encoded data removed]",
      "text/plain": [
       "<Figure size 432x288 with 1 Axes>"
      ]
     },
     "metadata": {
      "needs_background": "light"
     },
     "output_type": "display_data"
    },
    {
     "data": {
      "image/png": "[encoded data removed]",
      "text/plain": [
       "<Figure size 432x288 with 1 Axes>"
      ]
     },
     "metadata": {
      "needs_background": "light"
     },
     "output_type": "display_data"
    }
   ],
   "source": [
    "seed = 42\n",
    "degree = 1\n",
    "split_ratio = 0.5\n",
    "ridge_regression_demo(tx, y, degree, split_ratio, seed)"
   ]
  },
  {
   "cell_type": "code",
   "execution_count": 145,
   "metadata": {
    "ExecuteTime": {
     "end_time": "2019-10-09T14:05:02.957982Z",
     "start_time": "2019-10-09T14:05:02.948901Z"
    }
   },
   "outputs": [],
   "source": [
    "def cross_validation(y, x, k_indices, k, lambda_, degree):\n",
    "    \"\"\"return the loss of ridge regression.\"\"\"\n",
    "    # get k'th subgroup in test, others in train\n",
    "    id_test = k_indices[k]\n",
    "    id_train = k_indices[~(np.arange(k_indices.shape[0]) == k)].reshape(-1)\n",
    "    x_test = x[id_test]\n",
    "    x_train = x[id_train]\n",
    "    y_test = y[id_test]\n",
    "    y_train = y[id_train]\n",
    "    tx_train = x_train\n",
    "    tx_test = x_test\n",
    "    # form data with polynomial degree\n",
    "    #tx_train = build_poly(x_train, degree)\n",
    "    #tx_test = build_poly(x_test, degree)\n",
    "    # ridge regression\n",
    "    weight, loss_tr = ridge_regression(y_train, tx_train, lambda_)\n",
    "    # calculate the loss for train and test data\n",
    "    loss_te = compute_loss(y_test, tx_test, weight)\n",
    "    accuracy = accuracy_ratio(predict_labels(weight, tx_test), y_test)\n",
    "\n",
    "    return loss_tr, loss_te, accuracy"
   ]
  },
  {
   "cell_type": "code",
   "execution_count": 30,
   "metadata": {
    "ExecuteTime": {
     "end_time": "2019-10-10T07:52:37.597954Z",
     "start_time": "2019-10-10T07:52:35.993249Z"
    }
   },
   "outputs": [
    {
     "name": "stdout",
     "output_type": "stream",
     "text": [
      "Best lambda from accuracy: 2.40e-02\n",
      "Best lambda from error: 1.37e-03\n"
     ]
    },
    {
     "data": {
      "image/png": "[encoded data removed]",
      "text/plain": [
       "<Figure size 432x288 with 1 Axes>"
      ]
     },
     "metadata": {
      "needs_background": "light"
     },
     "output_type": "display_data"
    },
    {
     "data": {
      "image/png": "[encoded data removed]",
      "text/plain": [
       "<Figure size 432x288 with 1 Axes>"
      ]
     },
     "metadata": {
      "needs_background": "light"
     },
     "output_type": "display_data"
    }
   ],
   "source": [
    "def cross_validation_visualization(lambds, mse_tr, mse_te):\n",
    "    \"\"\"visualization the curves of mse_tr and mse_te.\"\"\"\n",
    "    best_l_err = lambds[np.argmin(mse_te)]\n",
    "    print('Best lambda from error: %.2e'%best_l_err)\n",
    "    plt.semilogx(lambds, mse_tr, marker=\".\", color='b', label='train error')\n",
    "    plt.semilogx(lambds, mse_te, marker=\".\", color='r', label='test error')\n",
    "    plt.axvline(best_l_err, c = 'g', label = '$\\lambda^*_{rmse}=%.1e$'%best_l_err, ls = ':')\n",
    "    plt.xlabel(\"lambda\")\n",
    "    plt.ylabel(\"rmse\")\n",
    "    plt.title(\"cross validation\")\n",
    "    plt.legend(loc=0)\n",
    "    plt.grid(True)\n",
    "    plt.savefig(\"../results/cross_validation\")\n",
    "def cross_validation_visualization_accuracy(lambdas, accuracies):\n",
    "    \"\"\"visualization the curves of mse_tr and mse_te.\"\"\"\n",
    "    plt.semilogx(lambdas, accuracies, lw =2, marker = '*', label = 'Accuracy ratio')\n",
    "    best_l_acc = lambdas[np.argmax(accuracies)]\n",
    "    plt.axvline(best_l_acc, c= 'k', label = '$\\lambda^*_{acc}=%.1e$'%best_l_acc, ls = ':')\n",
    "    print('Best lambda from accuracy: %.2e'%best_l_acc)\n",
    "    plt.xlabel(\"lambda\")\n",
    "    plt.ylabel(\"rmse\")\n",
    "    plt.title(\"cross validation\")\n",
    "    plt.legend(loc=0)\n",
    "    plt.grid(True)\n",
    "    plt.savefig(\"../results/cross_validation_accuracies\")\n",
    "def cross_validation_demo():\n",
    "    seed = 42\n",
    "    degree = 7\n",
    "    k_fold = 10\n",
    "    lambdas = np.logspace(-4, -1, 30)\n",
    "    # split data in k fold\n",
    "    k_indices = build_k_indices(y, k_fold, seed)\n",
    "    # define lists to store the loss of training data and test data\n",
    "    rmse_tr = []\n",
    "    rmse_te = []\n",
    "    std_tr = []\n",
    "    std_te = []\n",
    "    accuracies = []\n",
    "    # cross validation\n",
    "    for ind, lambda_ in enumerate(lambdas):\n",
    "        x_validation = np.array([cross_validation(y, tx, k_indices, k, lambda_, degree) for k in range(k_fold)])\n",
    "        rmse_tr.append(np.mean(np.sqrt(2 * x_validation[:, 0])))\n",
    "        rmse_te.append(np.mean(np.sqrt(2 * x_validation[:, 1])))\n",
    "        std_tr.append(np.std(np.sqrt(2 * x_validation[:, 0])))\n",
    "        std_te.append(np.std(np.sqrt(2 * x_validation[:, 1])))\n",
    "        accuracies.append(np.mean(x_validation[:,2]))\n",
    "    cross_validation_visualization_accuracy(lambdas, accuracies)\n",
    "    plt.figure()\n",
    "    cross_validation_visualization(lambdas, rmse_tr, rmse_te)\n",
    "\n",
    "cross_validation_demo()\n"
   ]
  },
  {
   "cell_type": "code",
   "execution_count": null,
   "metadata": {},
   "outputs": [],
   "source": []
  },
  {
   "cell_type": "code",
   "execution_count": 169,
   "metadata": {
    "ExecuteTime": {
     "end_time": "2019-10-09T14:39:07.559498Z",
     "start_time": "2019-10-09T14:38:59.016864Z"
    }
   },
   "outputs": [
    {
     "name": "stdout",
     "output_type": "stream",
     "text": [
      "(568238,)\n"
     ]
    }
   ],
   "source": [
    "print(id_out_test.shape)\n",
    "tx_out_test_std = standardize_features(tx_out_test)\n",
    "tx_out = tx_out_test_std[0]\n",
    "\n",
    "\n",
    "create_csv_submission(id_out_test, predict_labels(w_rr, tx_out) , '../results/rr_pred.csv')\n",
    "create_csv_submission(id_out_test, predict_labels(w_gd, tx_out) , '../results/gd_pred_noadapt.csv')\n",
    "create_csv_submission(id_out_test, predict_labels(w_lsq, tx_out) , '../results/lsq_pred.csv')\n",
    "create_csv_submission(id_out_test, predict_labels(w_sgd, tx_out) , '../results/sgd_pred_noadapt.csv')"
   ]
  }
 ],
 "metadata": {
  "kernelspec": {
   "display_name": "Python 3",
   "language": "python",
   "name": "python3"
  },
  "language_info": {
   "codemirror_mode": {
    "name": "ipython",
    "version": 3
   },
   "file_extension": ".py",
   "mimetype": "text/x-python",
   "name": "python",
   "nbconvert_exporter": "python",
   "pygments_lexer": "ipython3",
   "version": "3.6.7"
  },
  "latex_envs": {
   "LaTeX_envs_menu_present": true,
   "autoclose": true,
   "autocomplete": true,
   "bibliofile": "biblio.bib",
   "cite_by": "apalike",
   "current_citInitial": 1,
   "eqLabelWithNumbers": true,
   "eqNumInitial": 1,
   "hotkeys": {
    "equation": "Ctrl-E",
    "itemize": "Ctrl-I"
   },
   "labels_anchors": false,
   "latex_user_defs": false,
   "report_style_numbering": false,
   "user_envs_cfg": false
  },
  "toc": {
   "base_numbering": 1,
   "nav_menu": {},
   "number_sections": true,
   "sideBar": true,
   "skip_h1_title": false,
   "title_cell": "Table of Contents",
   "title_sidebar": "Contents",
   "toc_cell": false,
   "toc_position": {},
   "toc_section_display": true,
   "toc_window_display": false
  }
 },
 "nbformat": 4,
 "nbformat_minor": 2
}
